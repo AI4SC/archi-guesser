{
 "cells": [
  {
   "cell_type": "code",
   "execution_count": null,
   "metadata": {},
   "outputs": [],
   "source": [
    "import os\n",
    "import openai\n",
    "import pandas as pd\n",
    "import json"
   ]
  },
  {
   "cell_type": "code",
   "execution_count": null,
   "metadata": {},
   "outputs": [],
   "source": []
  },
  {
   "cell_type": "code",
   "execution_count": null,
   "metadata": {},
   "outputs": [],
   "source": [
    "openai.api_key = os.getenv(\"OPENAI_API_KEY\")"
   ]
  },
  {
   "cell_type": "code",
   "execution_count": null,
   "metadata": {},
   "outputs": [],
   "source": [
    "styles=pd.read_csv('architect_styles.csv')\n",
    "styles.head()"
   ]
  },
  {
   "cell_type": "code",
   "execution_count": null,
   "metadata": {},
   "outputs": [],
   "source": [
    "try:\n",
    "    with open(\"architecture_styles/architect_styles.json\", 'tr') as fi:\n",
    "        architects_by_style=json.load(fi)\n",
    "except:\n",
    "    architects_by_style={}"
   ]
  },
  {
   "cell_type": "code",
   "execution_count": null,
   "metadata": {},
   "outputs": [],
   "source": [
    "architects_by_style.keys()"
   ]
  },
  {
   "cell_type": "code",
   "execution_count": null,
   "metadata": {},
   "outputs": [],
   "source": [
    "completed=False\n",
    "while not completed:\n",
    "    completed=True\n",
    "    for style in styles['style']:\n",
    "        if style not in architects_by_style or 'architects' not in architects_by_style[style]:\n",
    "            try:\n",
    "                print(f\"Query {style}\")\n",
    "                completion = openai.ChatCompletion.create(\n",
    "                    model=\"gpt-3.5-turbo\",\n",
    "                    messages=[ {\"role\": \"user\", \"content\": f'List 3 famous architects with name, birth date, death date, nationality, description, and notable buildings for \"{style}\" architecture style as JSON'}]\n",
    "                )\n",
    "                reply = completion.choices[0].message.content\n",
    "                try:\n",
    "                    architects_by_style[style]={'architects':json.loads(reply)}['architects']\n",
    "                except:\n",
    "                    print(f\"Error decoding {style}\")\n",
    "                    print(reply)\n",
    "                    architects_by_style[style]={'reply':reply}\n",
    "                with open(\"architecture_styles/architect_styles.json\", 'tw') as fo:\n",
    "                    json.dump(architects_by_style, fo, indent=4)\n",
    "                completed=False\n",
    "            except:\n",
    "                print(f\"Error processing {style}\")\n",
    "        else:\n",
    "            print(f\"Skip {style}\")"
   ]
  },
  {
   "cell_type": "code",
   "execution_count": null,
   "metadata": {},
   "outputs": [],
   "source": [
    "with open(\"architecture_styles/architect_styles.json\", 'tw') as fo:\n",
    "    json.dump(architects_by_style, fo)"
   ]
  },
  {
   "cell_type": "code",
   "execution_count": null,
   "metadata": {},
   "outputs": [],
   "source": [
    "completed=False\n",
    "while not completed:\n",
    "    completed=True\n",
    "    for style in styles['style']:\n",
    "        if style not in architects_by_style or 'style' not in architects_by_style[style] or 'period' not in architects_by_style[style]['style']:\n",
    "            try:\n",
    "                print(f\"Query {style}\")\n",
    "                completion = openai.ChatCompletion.create(\n",
    "                    model=\"gpt-3.5-turbo\",\n",
    "                    messages=[{\"role\": \"user\", \"content\": f'What is the time range, period, description, characteristics, examples, continent, and country of the \"{style}\" architecture style as JSON'}]\n",
    "                )\n",
    "                reply = completion.choices[0].message.content\n",
    "                try:\n",
    "                    if style not in architects_by_style: architects_by_style[style]={}\n",
    "                    architects_by_style[style]['style']=json.loads(reply)\n",
    "                except:\n",
    "                    print(f\"Error decoding {style}\")\n",
    "                    print(reply)\n",
    "                    architects_by_style[style]['reply2']=reply\n",
    "                with open(\"architecture_styles/architect_styles.json\", 'tw') as fo:\n",
    "                    json.dump(architects_by_style, fo, indent=4)\n",
    "                completed=False\n",
    "            except:\n",
    "                print(f\"Error processing {style}\")\n",
    "        else:\n",
    "            print(f\"Skip {style}\")"
   ]
  },
  {
   "cell_type": "code",
   "execution_count": null,
   "metadata": {},
   "outputs": [],
   "source": [
    "completed=False\n",
    "while not completed:\n",
    "    completed=True\n",
    "    for style in styles['style']:\n",
    "        if style not in architects_by_style or 'terms' not in architects_by_style[style]:\n",
    "            try:\n",
    "                print(f\"Query {style}\")\n",
    "                completion = openai.ChatCompletion.create(\n",
    "                    model=\"gpt-3.5-turbo\",\n",
    "                    messages=[{\"role\": \"user\", \"content\": f'summarize \"{style}\" architecture style with nouns and adjectives separated by ,'}]\n",
    "                )\n",
    "                reply = completion.choices[0].message.content\n",
    "                try:\n",
    "                    if style not in architects_by_style: architects_by_style[style]={}\n",
    "                    architects_by_style[style]['terms']=reply\n",
    "                except:\n",
    "                    print(f\"Error decoding {style}\")\n",
    "                    print(reply)\n",
    "                with open(\"architecture_styles/architect_styles.json\", 'tw') as fo:\n",
    "                    json.dump(architects_by_style, fo, indent=4)\n",
    "                completed=False\n",
    "            except:\n",
    "                print(f\"Error processing {style}\")\n",
    "        else:\n",
    "            print(f\"Skip {style}\")"
   ]
  },
  {
   "cell_type": "code",
   "execution_count": null,
   "metadata": {},
   "outputs": [],
   "source": [
    "for k, v in architects_by_style.items():\n",
    "    if 'architects' not in v: print(\"MISSING architects\", k)\n",
    "    for a in v['architects']:\n",
    "        if 'name' not in a: print(\"MISSING architect name\", k, a)\n",
    "    if 'terms' not in v: print(\"MISSING terms\", k)\n",
    "    else:\n",
    "        if ':' in v['terms'] or '\\n' in v['terms']: v['terms']=v['terms'].replace('Nouns:','').replace('Adjectives:','').replace('\\n','')\n",
    "    if 'style' not in v: print(\"MISSING style\", k)\n",
    "    if 'time_range' not in v['style']: print(\"MISSING time_range\", k)\n",
    "    if 'period' not in v['style']: print(\"MISSING period\", k)\n",
    "    if 'description' not in v['style']: print(\"MISSING description\", k)\n",
    "    if 'characteristics' not in v['style']: print(\"MISSING characteristics\", k)\n",
    "    else:\n",
    "        if isinstance(v['style']['characteristics'],str): \n",
    "            print(\"Characteristics should be a list\", k)\n",
    "            v['style']['characteristics']=v['style']['characteristics'].split(',')\n",
    "    if 'examples' not in v['style']: print(\"MISSING examples\", k)\n",
    "    else:\n",
    "        if isinstance(v['style']['examples'],str) and ',' in v['style']['examples']: \n",
    "            print(\"Examples should be a list\", k)\n",
    "            v['style']['examples']=v['style']['examples'].split(',')\n",
    "    if 'continent' not in v['style']: print(\"MISSING continent\", k)\n",
    "    else:\n",
    "        if isinstance(v['style']['continent'],str) and ',' in v['style']['continent']: \n",
    "            print(\"Continent should be a list\", k)\n",
    "            v['style']['continent']=v['style']['continent'].split(',')\n",
    "    if 'country' not in v['style']: print(\"MISSING country\", k)\n",
    "    else:\n",
    "        if isinstance(v['style']['country'],str) and ',' in v['style']['country']: \n",
    "            print(\"Country should be a list\", k)\n",
    "            v['style']['country']=v['style']['country'].split(',')"
   ]
  },
  {
   "cell_type": "code",
   "execution_count": null,
   "metadata": {},
   "outputs": [],
   "source": [
    "with open(\"architecture_styles/architect_styles.json\", 'tw') as fo:\n",
    "    json.dump(architects_by_style, fo, indent=4)"
   ]
  },
  {
   "cell_type": "code",
   "execution_count": null,
   "metadata": {},
   "outputs": [],
   "source": []
  }
 ],
 "metadata": {
  "kernelspec": {
   "display_name": "masdd",
   "language": "python",
   "name": "python3"
  },
  "language_info": {
   "codemirror_mode": {
    "name": "ipython",
    "version": 3
   },
   "file_extension": ".py",
   "mimetype": "text/x-python",
   "name": "python",
   "nbconvert_exporter": "python",
   "pygments_lexer": "ipython3",
   "version": "3.8.13"
  },
  "orig_nbformat": 4
 },
 "nbformat": 4,
 "nbformat_minor": 2
}
