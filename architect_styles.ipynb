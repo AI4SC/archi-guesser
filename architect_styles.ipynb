{
 "cells": [
  {
   "cell_type": "code",
   "execution_count": null,
   "metadata": {},
   "outputs": [],
   "source": [
    "import os\n",
    "import openai\n",
    "import pandas as pd\n",
    "import json\n",
    "from collections import Counter\n",
    "import plotly.express as px\n",
    "import plotly.graph_objs as go\n",
    "import math"
   ]
  },
  {
   "cell_type": "code",
   "execution_count": null,
   "metadata": {},
   "outputs": [],
   "source": [
    "openai.api_key = os.getenv(\"OPENAI_API_KEY\")"
   ]
  },
  {
   "cell_type": "code",
   "execution_count": null,
   "metadata": {},
   "outputs": [],
   "source": [
    "styles=pd.read_csv('architect_styles.csv')\n",
    "styles.head()"
   ]
  },
  {
   "cell_type": "code",
   "execution_count": null,
   "metadata": {},
   "outputs": [],
   "source": [
    "selstylesmap={\n",
    "    \"Anglo World\": [\n",
    "      \"Colonial Revival\",\n",
    "      \"Victorian\"\n",
    "    ],\n",
    "    \"Europe\": [\n",
    "      \"Romanesque\",\n",
    "      \"Renaissance\",\n",
    "      \"Gothic\"\n",
    "    ],\n",
    "    \"North Eurasia\": [\n",
    "      \"Muscovite\",\n",
    "      \"Constructivism\"\n",
    "    ],\n",
    "    \"Central & South America\": [\n",
    "      \"Mesoamerican\",\n",
    "      \"Stilt House\"\n",
    "    ],\n",
    "    \"Middle East & North Africa\": [\n",
    "      \"Ancient Egyptian\",\n",
    "      \"Modern Islamic\"\n",
    "    ],\n",
    "    \"Sahel & Sub-Saharan Africa\": [\n",
    "      \"Mud Brick\",\n",
    "      \"Swahili\"\n",
    "    ],\n",
    "    \"South Asia\": [\n",
    "      \"Gupta\",\n",
    "      \"Indo-Saracenic\"\n",
    "    ],\n",
    "    \"Central Asia\": [\n",
    "      \"Timurid Period\",\n",
    "      \"Persian\"\n",
    "    ],\n",
    "    \"East Asia\": [\n",
    "      \"Chinese Imperial\",\n",
    "      \"Edo Period\"\n",
    "    ],\n",
    "    \"Southeast Asia & South Pacific\": [\n",
    "      \"Khmer Empire\",\n",
    "      \"Thai\"\n",
    "    ],\n",
    "    \"Intercultural/International Styles\": [\n",
    "      \"Colonial\",\n",
    "      \"Brutalism\",\n",
    "      \"Contemporary\"\n",
    "    ]\n",
    "  }"
   ]
  },
  {
   "cell_type": "code",
   "execution_count": null,
   "metadata": {},
   "outputs": [],
   "source": [
    "selstylesset=set([vv for v in selstylesmap.values() for vv in v])\n",
    "selstyles=styles[styles['style'].isin(selstylesset)]"
   ]
  },
  {
   "cell_type": "code",
   "execution_count": null,
   "metadata": {},
   "outputs": [],
   "source": [
    "print(\"Missing selected styles\", selstylesset-set(styles['style']), \" of \", len(selstylesset))"
   ]
  },
  {
   "cell_type": "code",
   "execution_count": null,
   "metadata": {},
   "outputs": [],
   "source": [
    "topstyles=styles.sort_values(by=\"google\",ascending=False).groupby('continent').head(5).reset_index(drop=True).sort_values(by=\"google\",ascending=False)\n",
    "topstyles"
   ]
  },
  {
   "cell_type": "code",
   "execution_count": null,
   "metadata": {},
   "outputs": [],
   "source": [
    "icons=[fn.replace('.png', '').replace('_', ' ').title() for fn in os.listdir('styles120') if fn.endswith(\".png\")]\n",
    "for icon in icons: \n",
    "    if icon not in set(styles['style']): \n",
    "        print(f\"Missing style for icon {icon}\")"
   ]
  },
  {
   "cell_type": "code",
   "execution_count": null,
   "metadata": {},
   "outputs": [],
   "source": [
    "for style in topstyles['style']:\n",
    "    if style not in icons:\n",
    "        print(f\"Missing icon for style {style}\")"
   ]
  },
  {
   "cell_type": "code",
   "execution_count": null,
   "metadata": {},
   "outputs": [],
   "source": [
    "fig = px.bar(topstyles, x='style', y='google', facet_col=\"continent\")#, text=styles['style'], textangle=90, textposition='outside',textfont={'family':\"Courier New, monospace\",\"size\":18, \"color\":\"RebeccaPurple\"})\n",
    "#fig.update_layout( autosize=False, width=800, height=800)\n",
    "fig.show()"
   ]
  },
  {
   "cell_type": "code",
   "execution_count": null,
   "metadata": {},
   "outputs": [],
   "source": [
    "try:\n",
    "    with open(\"architect_styles.json\", 'tr') as fi:\n",
    "        architects_by_style=json.load(fi)\n",
    "except:\n",
    "    architects_by_style={}"
   ]
  },
  {
   "cell_type": "code",
   "execution_count": null,
   "metadata": {},
   "outputs": [],
   "source": [
    "architects_by_style.keys()"
   ]
  },
  {
   "cell_type": "code",
   "execution_count": null,
   "metadata": {},
   "outputs": [],
   "source": [
    "try:\n",
    "    with open(\"architect_style_cnt.json\", 'tr') as fi:\n",
    "        architect_style_cnt=json.load(fi)\n",
    "except:\n",
    "    architect_style_cnt={}"
   ]
  },
  {
   "cell_type": "code",
   "execution_count": null,
   "metadata": {},
   "outputs": [],
   "source": [
    "completed=False\n",
    "while not completed:\n",
    "    completed=True\n",
    "    for continent in [\"europe\",\"america\",\"asia\",\"arabia\",\"africa\",\"australia\",\"the world\"]:\n",
    "        if continent not in architect_style_cnt:\n",
    "            architect_style_cnt[continent]=[]\n",
    "            for i in range(10):\n",
    "                try:\n",
    "                    completion = openai.ChatCompletion.create(\n",
    "                        model=\"gpt-3.5-turbo\",\n",
    "                        messages=[ {\"role\": \"user\", \"content\": f'List the name of the top 10 most important architecture styles in {continent} as JSON'}]\n",
    "                    )\n",
    "                    reply = completion.choices[0].message.content\n",
    "                    try:\n",
    "                        architect_style_cnt[continent].append(json.loads(reply))\n",
    "                    except:\n",
    "                        print(f\"Error decoding {continent}-{i}\")\n",
    "                        print(reply)\n",
    "                    completed=False\n",
    "                except:\n",
    "                    print(f\"Error processing {continent}-{i}\")\n",
    "            with open(\"architect_style_cnt.json\", 'tw') as fo:\n",
    "                json.dump(architect_style_cnt, fo, indent=4)\n",
    "        else:\n",
    "            pass; # print(f\"Skip {style}\")"
   ]
  },
  {
   "cell_type": "code",
   "execution_count": null,
   "metadata": {},
   "outputs": [],
   "source": [
    "with open(\"architect_style_cnt.json\", 'tw') as fo:\n",
    "    json.dump(architect_style_cnt, fo, indent=4)"
   ]
  },
  {
   "cell_type": "code",
   "execution_count": null,
   "metadata": {},
   "outputs": [],
   "source": [
    "architect_style_cnt2={}\n",
    "architect_style_cnt2[\"ALL\"]=Counter()\n",
    "for k,v in architect_style_cnt.items():\n",
    "    architect_style_cnt2[k]=Counter()\n",
    "    for vv in architect_style_cnt[k]:\n",
    "        architect_style_cnt2[k].update(vv)\n",
    "    architect_style_cnt2[\"ALL\"].update(architect_style_cnt2[k])\n",
    "    architect_style_cnt2[k]=dict(architect_style_cnt2[k])\n",
    "\n",
    "architect_style_cnt2[\"ALL\"]=dict(architect_style_cnt2[\"ALL\"].most_common(42))"
   ]
  },
  {
   "cell_type": "code",
   "execution_count": null,
   "metadata": {},
   "outputs": [],
   "source": [
    "with open(\"architect_style_cnt2.json\", 'tw') as fo:\n",
    "    json.dump(architect_style_cnt2, fo, indent=4)"
   ]
  },
  {
   "cell_type": "code",
   "execution_count": null,
   "metadata": {},
   "outputs": [],
   "source": [
    "completed=False\n",
    "while not completed:\n",
    "    completed=True\n",
    "    for style in styles['style']:\n",
    "        if style not in architects_by_style or 'architects' not in architects_by_style[style]:\n",
    "            try:\n",
    "                print(f\"Query {style}\")\n",
    "                completion = openai.ChatCompletion.create(\n",
    "                    model=\"gpt-3.5-turbo\",\n",
    "                    messages=[ {\"role\": \"user\", \"content\": f'List 3 famous architects with name, birth date, death date, nationality, description, and notable buildings for \"{style}\" architecture style as JSON'}]\n",
    "                )\n",
    "                reply = completion.choices[0].message.content\n",
    "                try:\n",
    "                    architects_by_style[style]={'architects':json.loads(reply)}['architects']\n",
    "                except:\n",
    "                    print(f\"Error decoding {style}\")\n",
    "                    print(reply)\n",
    "                    architects_by_style[style]={'reply':reply}\n",
    "                with open(\"architect_styles.json\", 'tw') as fo:\n",
    "                    json.dump(architects_by_style, fo, indent=4)\n",
    "                completed=False\n",
    "            except:\n",
    "                print(f\"Error processing {style}\")\n",
    "        else:\n",
    "            pass; # print(f\"Skip {style}\")"
   ]
  },
  {
   "cell_type": "code",
   "execution_count": null,
   "metadata": {},
   "outputs": [],
   "source": [
    "with open(\"architect_styles.json\", 'tw') as fo:\n",
    "    json.dump(architects_by_style, fo, indent=4)"
   ]
  },
  {
   "cell_type": "code",
   "execution_count": null,
   "metadata": {},
   "outputs": [],
   "source": [
    "completed=False\n",
    "while not completed:\n",
    "    completed=True\n",
    "    for style in styles['style']:\n",
    "        if style not in architects_by_style or 'style' not in architects_by_style[style] or 'period' not in architects_by_style[style]['style']:\n",
    "            try:\n",
    "                print(f\"Query {style}\")\n",
    "                completion = openai.ChatCompletion.create(\n",
    "                    model=\"gpt-3.5-turbo\",\n",
    "                    messages=[{\"role\": \"user\", \"content\": f'What is the time range, period, description, characteristics, examples, continent, and country of the \"{style}\" architecture style as JSON'}]\n",
    "                )\n",
    "                reply = completion.choices[0].message.content\n",
    "                try:\n",
    "                    if style not in architects_by_style: architects_by_style[style]={}\n",
    "                    architects_by_style[style]['style']=json.loads(reply)\n",
    "                except:\n",
    "                    print(f\"Error decoding {style}\")\n",
    "                    print(reply)\n",
    "                    architects_by_style[style]['reply2']=reply\n",
    "                with open(\"architect_styles.json\", 'tw') as fo:\n",
    "                    json.dump(architects_by_style, fo, indent=4)\n",
    "                completed=False\n",
    "            except:\n",
    "                print(f\"Error processing {style}\")\n",
    "        else:\n",
    "            pass; # print(f\"Skip {style}\")"
   ]
  },
  {
   "cell_type": "code",
   "execution_count": null,
   "metadata": {},
   "outputs": [],
   "source": [
    "completed=False\n",
    "while not completed:\n",
    "    completed=True\n",
    "    for style in styles['style']:\n",
    "        if style not in architects_by_style or 'terms' not in architects_by_style[style]:\n",
    "            try:\n",
    "                print(f\"Query {style}\")\n",
    "                completion = openai.ChatCompletion.create(\n",
    "                    model=\"gpt-3.5-turbo\",\n",
    "                    messages=[{\"role\": \"user\", \"content\": f'summarize \"{style}\" architecture style with nouns and adjectives separated by ,'}]\n",
    "                )\n",
    "                reply = completion.choices[0].message.content\n",
    "                try:\n",
    "                    if style not in architects_by_style: architects_by_style[style]={}\n",
    "                    architects_by_style[style]['terms']=reply\n",
    "                except:\n",
    "                    print(f\"Error decoding {style}\")\n",
    "                    print(reply)\n",
    "                with open(\"architect_styles.json\", 'tw') as fo:\n",
    "                    json.dump(architects_by_style, fo, indent=4)\n",
    "                completed=False\n",
    "            except:\n",
    "                print(f\"Error processing {style}\")\n",
    "        else:\n",
    "            pass; # print(f\"Skip {style}\")"
   ]
  },
  {
   "cell_type": "code",
   "execution_count": null,
   "metadata": {},
   "outputs": [],
   "source": [
    "completed=False\n",
    "while not completed:\n",
    "    completed=True\n",
    "    for style in styles['style']:\n",
    "        if style not in architects_by_style or 'character' not in architects_by_style[style]:\n",
    "            try:\n",
    "                print(f\"Query {style}\")\n",
    "                completion = openai.ChatCompletion.create(\n",
    "                    model=\"gpt-3.5-turbo\",\n",
    "                    messages=[{\"role\": \"user\", \"content\": f'List as bullet points the top 3 characteristic elements of the \"{style}\" architecture style as JSON'}]\n",
    "                )\n",
    "                reply = completion.choices[0].message.content\n",
    "                try:\n",
    "                    if style not in architects_by_style: architects_by_style[style]={}\n",
    "                    architects_by_style[style]['character']=json.loads(reply)\n",
    "                except:\n",
    "                    print(f\"Error decoding {style}\")\n",
    "                    print(reply)\n",
    "                with open(\"architect_styles.json\", 'tw') as fo:\n",
    "                    json.dump(architects_by_style, fo, indent=4)\n",
    "                completed=False\n",
    "            except:\n",
    "                print(f\"Error processing {style}\")\n",
    "        else:\n",
    "            pass; # print(f\"Skip {style}\")"
   ]
  },
  {
   "cell_type": "code",
   "execution_count": null,
   "metadata": {},
   "outputs": [],
   "source": [
    "completed=False\n",
    "while not completed:\n",
    "    completed=True\n",
    "    for style in styles['style']:\n",
    "        if style not in architects_by_style or 'short' not in architects_by_style[style]:\n",
    "            try:\n",
    "                print(f\"Query {style}\")\n",
    "                completion = openai.ChatCompletion.create(\n",
    "                    model=\"gpt-3.5-turbo\",\n",
    "                    messages=[{\"role\": \"user\", \"content\": f'summarize \"{style}\" architecture style in less than 150 characters'}]\n",
    "                )\n",
    "                reply = completion.choices[0].message.content\n",
    "                try:\n",
    "                    if style not in architects_by_style: architects_by_style[style]={}\n",
    "                    architects_by_style[style]['short']=reply\n",
    "                except:\n",
    "                    print(f\"Error decoding {style}\")\n",
    "                    print(reply)\n",
    "                with open(\"architect_styles.json\", 'tw') as fo:\n",
    "                    json.dump(architects_by_style, fo, indent=4)\n",
    "                completed=False\n",
    "            except:\n",
    "                print(f\"Error processing {style}\")\n",
    "        else:\n",
    "            pass; # print(f\"Skip {style}\")"
   ]
  },
  {
   "cell_type": "code",
   "execution_count": null,
   "metadata": {},
   "outputs": [],
   "source": [
    "completed=False\n",
    "while not completed:\n",
    "    completed=True\n",
    "    for style in styles['style']:\n",
    "        if style not in architects_by_style or 'significance' not in architects_by_style[style]:\n",
    "            try:\n",
    "                print(f\"Query {style}\")\n",
    "                completion = openai.ChatCompletion.create(\n",
    "                    model=\"gpt-3.5-turbo\",\n",
    "                    messages=[{\"role\": \"user\", \"content\": f'was the \"{style}\" architecture style significant on a scale 1 to 10 as JSON'}]\n",
    "                )\n",
    "                reply = completion.choices[0].message.content\n",
    "                try:\n",
    "                    if style not in architects_by_style: architects_by_style[style]={}\n",
    "                    architects_by_style[style]['significance']=json.loads(reply)\n",
    "                    with open(\"architect_styles.json\", 'tw') as fo:\n",
    "                        json.dump(architects_by_style, fo, indent=4)\n",
    "                    completed=False\n",
    "                except:\n",
    "                    print(f\"Error decoding {style}\")\n",
    "                    print(reply)\n",
    "            except:\n",
    "                print(f\"Error processing {style}\")\n",
    "        else:\n",
    "            pass; # print(f\"Skip {style}\")"
   ]
  },
  {
   "cell_type": "code",
   "execution_count": null,
   "metadata": {},
   "outputs": [],
   "source": [
    "for k, v in architects_by_style.items():\n",
    "    if 'architects' not in v: print(\"MISSING architects\", k)\n",
    "    for a in v['architects']:\n",
    "        if 'name' not in a: print(\"MISSING architect name\", k, a)\n",
    "    if 'significance' not in v: print(\"MISSING significance\", k)\n",
    "    else:\n",
    "        try:\n",
    "            if isinstance(v['significance'],str):\n",
    "                v['significance']=json.loads(v['significance'])\n",
    "            elif isinstance(v['significance'],dict):\n",
    "                if \"score\" in v['significance']: v['significance']=v['significance']['score']\n",
    "                if \"scale\" in v['significance']: v['significance']=v['significance']['scale']\n",
    "                if \"rating\" in v['significance']: v['significance']=v['significance']['rating']\n",
    "        except:\n",
    "            pass; #del v['significance']\n",
    "    if 'terms' not in v: print(\"MISSING terms\", k)\n",
    "    else:\n",
    "        if ':' in v['terms'] or '\\n' in v['terms']: v['terms']=v['terms'].replace('Nouns:','').replace('Adjectives:','').replace('\\n','')\n",
    "    if 'style' not in v: print(\"MISSING style\", k)\n",
    "    if 'time_range' not in v['style']: print(\"MISSING time_range\", k)\n",
    "    if 'period' not in v['style']: print(\"MISSING period\", k)\n",
    "    if 'description' not in v['style']: print(\"MISSING description\", k)\n",
    "    if 'characteristics' not in v['style']: print(\"MISSING characteristics\", k)\n",
    "    else:\n",
    "        if isinstance(v['style']['characteristics'],str): \n",
    "            print(\"Characteristics should be a list\", k)\n",
    "            v['style']['characteristics']=v['style']['characteristics'].split(',')\n",
    "    if 'examples' not in v['style']: print(\"MISSING examples\", k)\n",
    "    else:\n",
    "        if isinstance(v['style']['examples'],str) and ',' in v['style']['examples']: \n",
    "            print(\"Examples should be a list\", k)\n",
    "            v['style']['examples']=v['style']['examples'].split(',')\n",
    "    if 'continent' not in v['style']: print(\"MISSING continent\", k)\n",
    "    else:\n",
    "        if isinstance(v['style']['continent'],str) and ',' in v['style']['continent']: \n",
    "            print(\"Continent should be a list\", k)\n",
    "            v['style']['continent']=v['style']['continent'].split(',')\n",
    "    if 'country' not in v['style']: print(\"MISSING country\", k)\n",
    "    else:\n",
    "        if isinstance(v['style']['country'],str) and ',' in v['style']['country']: \n",
    "            print(\"Country should be a list\", k)\n",
    "            v['style']['country']=v['style']['country'].split(',')\n",
    "    if 'country' not in v['style']: print(\"MISSING country\", k)"
   ]
  },
  {
   "cell_type": "code",
   "execution_count": null,
   "metadata": {},
   "outputs": [],
   "source": [
    "with open(\"architect_styles.json\", 'tw') as fo:\n",
    "    json.dump(architects_by_style, fo, indent=4)"
   ]
  },
  {
   "cell_type": "code",
   "execution_count": null,
   "metadata": {},
   "outputs": [],
   "source": [
    "completed=False\n",
    "while not completed:\n",
    "    completed=True\n",
    "    for index, row in styles.iterrows():\n",
    "        style=row['style']\n",
    "        architects_by_style[style]['Start_Year']=row['Start_Year']\n",
    "        architects_by_style[style]['End_Year']=row['End_Year']"
   ]
  },
  {
   "cell_type": "code",
   "execution_count": null,
   "metadata": {},
   "outputs": [],
   "source": [
    "#with open(\"architect_styles_old.json\", 'tw') as fo:\n",
    "#    json.dump(architects_by_style, fo, indent=4)"
   ]
  },
  {
   "cell_type": "code",
   "execution_count": null,
   "metadata": {},
   "outputs": [],
   "source": [
    "for fn in os.listdir('styles120'):\n",
    "    if fn.endswith(\".png\"):\n",
    "        name=fn.replace('.png', '').replace('_', ' ').title()\n",
    "        if name in architects_by_style:\n",
    "            architects_by_style[name][\"icon\"]=fn\n",
    "        else:\n",
    "            print(\"Could not find \"+name)"
   ]
  },
  {
   "cell_type": "code",
   "execution_count": null,
   "metadata": {},
   "outputs": [],
   "source": [
    "with open(\"architect_styles.json\", 'tw') as fo:\n",
    "    json.dump(architects_by_style, fo, indent=4)"
   ]
  },
  {
   "cell_type": "code",
   "execution_count": null,
   "metadata": {},
   "outputs": [],
   "source": [
    "architects_by_style_sub={k:architects_by_style[k] for k in styles['style'] if k in selstylesset} #  and \"icon\" in architects_by_style[k]"
   ]
  },
  {
   "cell_type": "code",
   "execution_count": null,
   "metadata": {},
   "outputs": [],
   "source": [
    "with open(\"architect_styles_sub.json\", 'tw') as fo:\n",
    "    json.dump(architects_by_style_sub, fo, indent=4)"
   ]
  },
  {
   "cell_type": "code",
   "execution_count": null,
   "metadata": {},
   "outputs": [],
   "source": [
    "len(architects_by_style_sub)"
   ]
  },
  {
   "cell_type": "code",
   "execution_count": null,
   "metadata": {},
   "outputs": [],
   "source": [
    "styles['Start_Year']=styles['Start_Year'].apply(lambda y: int(y.replace(' CE','').replace('present','2023')) if 'BCE' not in y else -int(y.replace(' BCE','')))\n",
    "styles['End_Year']=styles['End_Year'].apply(lambda y: int(y.replace(' CE','').replace('present','2023')) if 'BCE' not in y else -int(y.replace(' BCE','')))\n",
    "styles['Length']=styles['End_Year']-styles['Start_Year']\n",
    "styles['Past']=2025-styles['End_Year']\n",
    "styles['startY']=styles['Start_Year']"
   ]
  },
  {
   "cell_type": "code",
   "execution_count": null,
   "metadata": {},
   "outputs": [],
   "source": [
    "styles['styleL']=styles['style']+\" \"\n",
    "styles"
   ]
  },
  {
   "cell_type": "code",
   "execution_count": null,
   "metadata": {},
   "outputs": [],
   "source": [
    "styles=styles.sort_values(by=['Start_Year','End_Year'])"
   ]
  },
  {
   "cell_type": "code",
   "execution_count": null,
   "metadata": {},
   "outputs": [],
   "source": [
    "styles_sub=styles[styles['style'].isin(architects_by_style_sub.keys())]\n",
    "#styles_sub=styles"
   ]
  },
  {
   "cell_type": "code",
   "execution_count": null,
   "metadata": {},
   "outputs": [],
   "source": [
    "fig = go.FigureWidget()\n",
    "fig.add_bar(x=styles_sub['style'], y=styles_sub['Length'], base=styles_sub['Past'], text=styles_sub[\"styleL\"])#, color=styles_sub[\"continent\"]\n",
    "fig.update_layout(\n",
    "    yaxis = dict(\n",
    "        tickmode = 'array',\n",
    "        tickvals = [    25,    125,    225,    325,    425,   525,   1025, 2025,      3025,      4025,     10025],\n",
    "        ticktext = ['2000', '1900', '1800', '1700', '1600', '1500', '1000',  '0', '1000 BC', '2000 BC', '8000 BC'],\n",
    "        range=[1,3025]\n",
    "    )\n",
    ")\n",
    "fig.update_traces(textangle=90, textposition=\"outside\", cliponaxis=False,width=.2)\n",
    "fig.update_layout(uniformtext_minsize=8, uniformtext_mode='show')\n",
    "fig.update_layout(autosize=False, width=800, height=1200, template=\"none\")\n",
    "fig.update_xaxes(visible=False, showticklabels=False)\n",
    "fig.show()"
   ]
  },
  {
   "cell_type": "code",
   "execution_count": null,
   "metadata": {},
   "outputs": [],
   "source": [
    "fig.write_image(\"timeline_lin.png\")\n",
    "fig.write_image(\"timeline_lin.svg\")"
   ]
  },
  {
   "cell_type": "code",
   "execution_count": null,
   "metadata": {},
   "outputs": [],
   "source": [
    "#tickvals2 = [     1,      5,     15,     25,    125,    225,    525,   1025, 2025,      4025,     12025]\n",
    "#ticktext2 = ['2024', '2020', '2010', '2000', '1900', '1800', '1500', '1000',  '0', '2000 BC', '10000 BC']\n",
    "tickvals2 = [      5,     15,     25,    125,    225,    525,   1025, 2025,      4025]\n",
    "ticktext2 = [ '2020', '2010', '2000', '1900', '1800', '1500', '1000',  '0', '2000 BC']\n",
    "mticks=sorted(set([(2025-r) for rr in [\n",
    "    range(2000,2025,1),\n",
    "    range(1800,2000,10),\n",
    "    range(1000,1800,100),\n",
    "    range(   0,1000,100),\n",
    "    range(-10000,1000,1000),\n",
    "    #range(-2000,1000,1000)\n",
    "] for r in rr if r not in tickvals2]))\n",
    "\n",
    "fig = go.FigureWidget()\n",
    "fig.add_bar(x=styles_sub['style'], y=styles_sub['Length'], base=styles_sub['Past'], text=styles_sub[\"styleL\"])#, color=styles_sub[\"continent\"]\n",
    "fig.update_layout(\n",
    "    yaxis = dict(\n",
    "        type = 'log',\n",
    "        tickangle=90,\n",
    "        tickmode = 'array',\n",
    "        tickvals = tickvals2,\n",
    "        ticktext = ticktext2,\n",
    "        minor=dict(ticks=\"inside\", ticklen=0, showgrid=True, \n",
    "            tickmode = 'array',\n",
    "            tickvals = mticks\n",
    "        ),\n",
    "        #range =[math.log(r) for r in [2,4025]]\n",
    "    )\n",
    ")\n",
    "fig.update_traces(textangle=90, textposition=\"outside\", cliponaxis=False,width=.1)\n",
    "fig.update_layout(uniformtext_minsize=8, uniformtext_mode='show')\n",
    "fig.update_layout(autosize=False, width=800, height=1600, template=\"none\")\n",
    "fig.update_xaxes(visible=False, showticklabels=False)\n",
    "fig.show()"
   ]
  },
  {
   "cell_type": "code",
   "execution_count": null,
   "metadata": {},
   "outputs": [],
   "source": [
    "fig.write_image(\"timeline_log.png\")\n",
    "fig.write_image(\"timeline_log.svg\")"
   ]
  },
  {
   "cell_type": "code",
   "execution_count": null,
   "metadata": {},
   "outputs": [],
   "source": []
  },
  {
   "cell_type": "code",
   "execution_count": null,
   "metadata": {},
   "outputs": [],
   "source": []
  }
 ],
 "metadata": {
  "kernelspec": {
   "display_name": "masdd",
   "language": "python",
   "name": "python3"
  },
  "language_info": {
   "codemirror_mode": {
    "name": "ipython",
    "version": 3
   },
   "file_extension": ".py",
   "mimetype": "text/x-python",
   "name": "python",
   "nbconvert_exporter": "python",
   "pygments_lexer": "ipython3",
   "version": "3.10.6"
  },
  "orig_nbformat": 4
 },
 "nbformat": 4,
 "nbformat_minor": 2
}
