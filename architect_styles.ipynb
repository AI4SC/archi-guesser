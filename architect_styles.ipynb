{
 "cells": [
  {
   "cell_type": "code",
   "execution_count": 2,
   "metadata": {},
   "outputs": [],
   "source": [
    "import os\n",
    "import openai\n",
    "import pandas as pd\n",
    "import json\n",
    "from collections import Counter\n",
    "import plotly.express as px\n",
    "import plotly.graph_objs as go\n",
    "import plotly\n",
    "import math\n",
    "from tqdm import tqdm\n",
    "import ray\n",
    "from ray.util.multiprocessing import Pool\n",
    "from elevenlabs import generate, save\n",
    "import uuid\n",
    "from pydub import AudioSegment"
   ]
  },
  {
   "cell_type": "code",
   "execution_count": 3,
   "metadata": {},
   "outputs": [],
   "source": [
    "if \"OPENAI_API_KEY\" not in os.environ:\n",
    "    raise Exception(\"Missing OPENAI_API_KEY\")\n",
    "if \"ELEVEN_API_KEY\" not in os.environ:\n",
    "    raise Exception(\"Missing ELEVEN_API_KEY\")"
   ]
  },
  {
   "cell_type": "code",
   "execution_count": 4,
   "metadata": {},
   "outputs": [],
   "source": [
    "openai.api_key = os.getenv(\"OPENAI_API_KEY\")\n",
    "openai.request_timeout=30.0"
   ]
  },
  {
   "cell_type": "code",
   "execution_count": 5,
   "metadata": {},
   "outputs": [
    {
     "data": {
      "text/html": [
       "<div>\n",
       "<style scoped>\n",
       "    .dataframe tbody tr th:only-of-type {\n",
       "        vertical-align: middle;\n",
       "    }\n",
       "\n",
       "    .dataframe tbody tr th {\n",
       "        vertical-align: top;\n",
       "    }\n",
       "\n",
       "    .dataframe thead th {\n",
       "        text-align: right;\n",
       "    }\n",
       "</style>\n",
       "<table border=\"1\" class=\"dataframe\">\n",
       "  <thead>\n",
       "    <tr style=\"text-align: right;\">\n",
       "      <th></th>\n",
       "      <th>style</th>\n",
       "      <th>Start_Year</th>\n",
       "      <th>End_Year</th>\n",
       "      <th>google</th>\n",
       "      <th>scholar</th>\n",
       "      <th>continent</th>\n",
       "      <th>parent</th>\n",
       "      <th>Length</th>\n",
       "    </tr>\n",
       "  </thead>\n",
       "  <tbody>\n",
       "    <tr>\n",
       "      <th>0</th>\n",
       "      <td>Ancient Egyptian</td>\n",
       "      <td>-3100</td>\n",
       "      <td>-30</td>\n",
       "      <td>221000.0</td>\n",
       "      <td>469000.0</td>\n",
       "      <td>Africa</td>\n",
       "      <td>NaN</td>\n",
       "      <td>3070</td>\n",
       "    </tr>\n",
       "    <tr>\n",
       "      <th>1</th>\n",
       "      <td>Ancient Greek</td>\n",
       "      <td>-900</td>\n",
       "      <td>-146</td>\n",
       "      <td>540000.0</td>\n",
       "      <td>985000.0</td>\n",
       "      <td>Europe</td>\n",
       "      <td>NaN</td>\n",
       "      <td>754</td>\n",
       "    </tr>\n",
       "    <tr>\n",
       "      <th>2</th>\n",
       "      <td>Ancient Roman</td>\n",
       "      <td>-300</td>\n",
       "      <td>476</td>\n",
       "      <td>382000.0</td>\n",
       "      <td>1410000.0</td>\n",
       "      <td>Europe</td>\n",
       "      <td>NaN</td>\n",
       "      <td>776</td>\n",
       "    </tr>\n",
       "    <tr>\n",
       "      <th>3</th>\n",
       "      <td>Byzantine</td>\n",
       "      <td>330</td>\n",
       "      <td>1453</td>\n",
       "      <td>878000.0</td>\n",
       "      <td>320000.0</td>\n",
       "      <td>Europe</td>\n",
       "      <td>NaN</td>\n",
       "      <td>1123</td>\n",
       "    </tr>\n",
       "    <tr>\n",
       "      <th>4</th>\n",
       "      <td>Islamic</td>\n",
       "      <td>622</td>\n",
       "      <td>1500</td>\n",
       "      <td>4760000.0</td>\n",
       "      <td>1480000.0</td>\n",
       "      <td>Arabia</td>\n",
       "      <td>NaN</td>\n",
       "      <td>878</td>\n",
       "    </tr>\n",
       "  </tbody>\n",
       "</table>\n",
       "</div>"
      ],
      "text/plain": [
       "              style  Start_Year  End_Year     google    scholar continent  \\\n",
       "0  Ancient Egyptian       -3100       -30   221000.0   469000.0    Africa   \n",
       "1     Ancient Greek        -900      -146   540000.0   985000.0    Europe   \n",
       "2     Ancient Roman        -300       476   382000.0  1410000.0    Europe   \n",
       "3         Byzantine         330      1453   878000.0   320000.0    Europe   \n",
       "4           Islamic         622      1500  4760000.0  1480000.0    Arabia   \n",
       "\n",
       "  parent  Length  \n",
       "0    NaN    3070  \n",
       "1    NaN     754  \n",
       "2    NaN     776  \n",
       "3    NaN    1123  \n",
       "4    NaN     878  "
      ]
     },
     "execution_count": 5,
     "metadata": {},
     "output_type": "execute_result"
    }
   ],
   "source": [
    "styles=pd.read_csv('architect_styles.csv')\n",
    "styles['Start_Year']=styles['Start_Year'].apply(lambda y: int(y.replace(' CE','').replace('present','2023')) if 'BCE' not in y else -int(y.replace(' BCE','')))\n",
    "styles['End_Year']=styles['End_Year'].apply(lambda y: int(y.replace(' CE','').replace('present','2023')) if 'BCE' not in y else -int(y.replace(' BCE','')))\n",
    "styles['Length']=styles['End_Year']-styles['Start_Year']\n",
    "styles.head()"
   ]
  },
  {
   "cell_type": "code",
   "execution_count": 6,
   "metadata": {},
   "outputs": [],
   "source": [
    "with open(\"architect_styles.json\", 'tr') as fi:\n",
    "    architects_by_style=json.load(fi)"
   ]
  },
  {
   "cell_type": "code",
   "execution_count": 7,
   "metadata": {},
   "outputs": [
    {
     "name": "stderr",
     "output_type": "stream",
     "text": [
      "2023-12-12 18:21:36,255\tINFO worker.py:1633 -- Started a local Ray instance. View the dashboard at \u001b[1m\u001b[32mhttp://127.0.0.1:8265 \u001b[39m\u001b[22m\n"
     ]
    }
   ],
   "source": [
    "pool = Pool()"
   ]
  },
  {
   "cell_type": "code",
   "execution_count": 8,
   "metadata": {},
   "outputs": [],
   "source": [
    "architects_by_style = {i: architects_by_style[i] for i in sorted(list(architects_by_style.keys()))}"
   ]
  },
  {
   "cell_type": "code",
   "execution_count": 9,
   "metadata": {},
   "outputs": [],
   "source": [
    "with open(\"architect_style_cnt.json\", 'tr') as fi:\n",
    "    architect_style_cnt=json.load(fi)"
   ]
  },
  {
   "cell_type": "code",
   "execution_count": 10,
   "metadata": {},
   "outputs": [],
   "source": [
    "completed=False\n",
    "while not completed:\n",
    "    completed=True\n",
    "    for continent in [\"europe\",\"america\",\"asia\",\"arabia\",\"africa\",\"australia\",\"the world\"]:\n",
    "        if continent not in architect_style_cnt:\n",
    "            architect_style_cnt[continent]=[]\n",
    "            for i in range(10):\n",
    "                try:\n",
    "                    completion = openai.ChatCompletion.create(\n",
    "                        model=\"gpt-3.5-turbo\",\n",
    "                        messages=[ {\"role\": \"user\", \"content\": f'List the name of the top 10 most important architecture styles in {continent} as JSON'}]\n",
    "                    )\n",
    "                    reply = completion.choices[0].message.content\n",
    "                    try:\n",
    "                        architect_style_cnt[continent].append(json.loads(reply))\n",
    "                    except:\n",
    "                        print(f\"Error decoding {continent}-{i}\")\n",
    "                        print(reply)\n",
    "                    completed=False\n",
    "                except:\n",
    "                    print(f\"Error processing {continent}-{i}\")\n",
    "            with open(\"architect_style_cnt.json\", 'tw') as fo:\n",
    "                json.dump(architect_style_cnt, fo, indent=4, ensure_ascii=False)\n",
    "        else:\n",
    "            pass; # print(f\"Skip {style}\")"
   ]
  },
  {
   "cell_type": "code",
   "execution_count": 11,
   "metadata": {},
   "outputs": [],
   "source": [
    "with open(\"architect_style_cnt.json\", 'tw') as fo:\n",
    "    json.dump(architect_style_cnt, fo, indent=4, ensure_ascii=False)"
   ]
  },
  {
   "cell_type": "code",
   "execution_count": 12,
   "metadata": {},
   "outputs": [],
   "source": [
    "architect_style_cnt2={}\n",
    "architect_style_cnt2[\"ALL\"]=Counter()\n",
    "for k,v in architect_style_cnt.items():\n",
    "    architect_style_cnt2[k]=Counter()\n",
    "    for vv in architect_style_cnt[k]:\n",
    "        architect_style_cnt2[k].update(vv)\n",
    "    architect_style_cnt2[\"ALL\"].update(architect_style_cnt2[k])\n",
    "    architect_style_cnt2[k]=dict(architect_style_cnt2[k])\n",
    "\n",
    "architect_style_cnt2[\"ALL\"]=dict(architect_style_cnt2[\"ALL\"].most_common(42))"
   ]
  },
  {
   "cell_type": "code",
   "execution_count": 13,
   "metadata": {},
   "outputs": [],
   "source": [
    "with open(\"architect_style_cnt2.json\", 'tw') as fo:\n",
    "    json.dump(architect_style_cnt2, fo, indent=4, ensure_ascii=False)"
   ]
  },
  {
   "cell_type": "code",
   "execution_count": 14,
   "metadata": {},
   "outputs": [
    {
     "name": "stderr",
     "output_type": "stream",
     "text": [
      "100%|██████████| 113/113 [00:00<00:00, 285343.98it/s]\n"
     ]
    }
   ],
   "source": [
    "completed=False\n",
    "while not completed:\n",
    "    completed=True\n",
    "    for style in tqdm(styles['style']):\n",
    "        if style not in architects_by_style or 'architects' not in architects_by_style[style]:\n",
    "            try:\n",
    "                #print(f\"Query {style}\")\n",
    "                completion = openai.ChatCompletion.create(\n",
    "                    model=\"gpt-3.5-turbo\",\n",
    "                    messages=[ {\"role\": \"user\", \"content\": f'List 3 famous architects with name, birth date, death date, nationality, description, and notable buildings for \"{style}\" architecture style as JSON'}]\n",
    "                )\n",
    "                reply = completion.choices[0].message.content\n",
    "                try:\n",
    "                    architects_by_style[style]={'architects':json.loads(reply)}['architects']\n",
    "                except:\n",
    "                    print(f\"Error decoding {style}\")\n",
    "                    print(reply)\n",
    "                    architects_by_style[style]={'reply':reply}\n",
    "                with open(\"architect_styles.json\", 'tw') as fo:\n",
    "                    json.dump(architects_by_style, fo, indent=4, ensure_ascii=False)\n",
    "                completed=False\n",
    "            except:\n",
    "                print(f\"Error processing {style}\")\n",
    "        else:\n",
    "            pass; # print(f\"Skip {style}\")"
   ]
  },
  {
   "cell_type": "code",
   "execution_count": 15,
   "metadata": {},
   "outputs": [
    {
     "name": "stderr",
     "output_type": "stream",
     "text": [
      "100%|██████████| 113/113 [00:02<00:00, 53.45it/s]\n"
     ]
    }
   ],
   "source": [
    "completed=False\n",
    "while not completed:\n",
    "    completed=True\n",
    "    for style in tqdm(styles['style']):\n",
    "        for arch in architects_by_style[style]['architects']:\n",
    "            if 'quality' not in arch: arch['quality']=-1\n",
    "            if 'valid' not in arch:\n",
    "                #print(f\"Query {arch['name']}/{style}\")\n",
    "                arch['valid']=[]\n",
    "                for i in range(3):\n",
    "                    try:\n",
    "                        completion = openai.ChatCompletion.create(\n",
    "                            model=\"gpt-3.5-turbo\",\n",
    "                            messages=[ {\"role\": \"user\", \"content\": f\"Was '{arch['name']}' an architect of the '{style}' architecture style, answer with yes or no?\"}]\n",
    "                        )\n",
    "                        arch['valid'].append(completion.choices[0].message.content.replace(\".\",\"\"))\n",
    "                        completed=False\n",
    "                    except:\n",
    "                        print(f\"Error processing {style}\")\n",
    "            else:\n",
    "                pass; # print(f\"Skip {style}\")\n",
    "        with open(\"architect_styles.json\", 'tw') as fo:\n",
    "            json.dump(architects_by_style, fo, indent=4, ensure_ascii=False)"
   ]
  },
  {
   "cell_type": "code",
   "execution_count": 16,
   "metadata": {},
   "outputs": [
    {
     "name": "stderr",
     "output_type": "stream",
     "text": [
      "100%|██████████| 113/113 [00:00<00:00, 445029.44it/s]\n"
     ]
    }
   ],
   "source": [
    "def validate_example(style, example):\n",
    "    try:\n",
    "        completion = openai.ChatCompletion.create(\n",
    "            model=\"gpt-3.5-turbo\",\n",
    "            messages=[ {\"role\": \"user\", \"content\": f\"Does '{example}' represent the '{style}' architecture style, answer with yes or no?\"}]\n",
    "        )\n",
    "        return {'style':style, 'example':example, 'vote':completion.choices[0].message.content.replace(\".\",\"\")}\n",
    "    except:\n",
    "        return None\n",
    "\n",
    "while True:\n",
    "    jobs=[]\n",
    "    for style in tqdm(styles['style']):\n",
    "        if 'quality' not in architects_by_style[style]['style']:\n",
    "            architects_by_style[style]['style']['quality']=-1\n",
    "        if 'existence' not in architects_by_style[style]['style']:\n",
    "            architects_by_style[style]['style']['existence']=-1\n",
    "        if 'example_quality' not in architects_by_style[style]['style']:\n",
    "            architects_by_style[style]['style']['example_quality']=-1\n",
    "        if 'example_validity' not in architects_by_style[style]['style']:\n",
    "            architects_by_style[style]['style']['example_validity']={}\n",
    "            for example in architects_by_style[style]['style']['examples']:\n",
    "                for i in range(3):\n",
    "                    jobs.append((style, example))\n",
    "    if jobs:\n",
    "        print(f\"Query {len(jobs)} jobs\")\n",
    "        for res in pool.starmap(validate_example, jobs, chunksize=1):\n",
    "            if res:\n",
    "                style=res['style']\n",
    "                example=res['example']\n",
    "                if example not in architects_by_style[style]['style']['example_validity']:\n",
    "                    architects_by_style[style]['style']['example_validity'][example]=[]\n",
    "                architects_by_style[style]['style']['example_validity'][example].append(res['vote'])\n",
    "    else:\n",
    "        break"
   ]
  },
  {
   "cell_type": "code",
   "execution_count": 17,
   "metadata": {},
   "outputs": [],
   "source": [
    "with open(\"architect_styles.json\", 'tw') as fo:\n",
    "    json.dump(architects_by_style, fo, indent=4, ensure_ascii=False)"
   ]
  },
  {
   "cell_type": "code",
   "execution_count": 18,
   "metadata": {},
   "outputs": [
    {
     "name": "stderr",
     "output_type": "stream",
     "text": [
      "100%|██████████| 113/113 [00:00<00:00, 692918.64it/s]\n"
     ]
    }
   ],
   "source": [
    "completed=False\n",
    "while not completed:\n",
    "    completed=True\n",
    "    for style in tqdm(styles['style']):\n",
    "        if style not in architects_by_style or 'style' not in architects_by_style[style] or 'period' not in architects_by_style[style]['style']:\n",
    "            try:\n",
    "                #print(f\"Query {style}\")\n",
    "                completion = openai.ChatCompletion.create(\n",
    "                    model=\"gpt-3.5-turbo\",\n",
    "                    messages=[{\"role\": \"user\", \"content\": f'What is the time range, period, description, characteristics, examples, continent, and country of the \"{style}\" architecture style as JSON'}]\n",
    "                )\n",
    "                reply = completion.choices[0].message.content\n",
    "                try:\n",
    "                    if style not in architects_by_style: architects_by_style[style]={}\n",
    "                    architects_by_style[style]['style']=json.loads(reply)\n",
    "                except:\n",
    "                    print(f\"Error decoding {style}\")\n",
    "                    print(reply)\n",
    "                    architects_by_style[style]['reply2']=reply\n",
    "                with open(\"architect_styles.json\", 'tw') as fo:\n",
    "                    json.dump(architects_by_style, fo, indent=4, ensure_ascii=False)\n",
    "                completed=False\n",
    "            except:\n",
    "                print(f\"Error processing {style}\")\n",
    "        else:\n",
    "            pass; # print(f\"Skip {style}\")"
   ]
  },
  {
   "cell_type": "code",
   "execution_count": 19,
   "metadata": {},
   "outputs": [
    {
     "name": "stderr",
     "output_type": "stream",
     "text": [
      "100%|██████████| 113/113 [00:00<00:00, 1128467.50it/s]\n"
     ]
    }
   ],
   "source": [
    "completed=False\n",
    "while not completed:\n",
    "    completed=True\n",
    "    for style in tqdm(styles['style']):\n",
    "        if style in architects_by_style and 'valid' not in architects_by_style[style]:\n",
    "            #print(f\"Query {style}\")\n",
    "            architects_by_style[style]['valid']=[]\n",
    "            for i in range(3):\n",
    "                try:\n",
    "                    completion = openai.ChatCompletion.create(\n",
    "                        model=\"gpt-3.5-turbo\",\n",
    "                        messages=[ {\"role\": \"user\", \"content\": f\"Was '{style}' an architecture style, answer with yes or no?\"}]\n",
    "                    )\n",
    "                    architects_by_style[style]['valid'].append(completion.choices[0].message.content.replace(\".\",\"\"))\n",
    "                    completed=False\n",
    "                except:\n",
    "                    print(f\"Error processing {style}\")\n",
    "            with open(\"architect_styles.json\", 'tw') as fo:\n",
    "                json.dump(architects_by_style, fo, indent=4, ensure_ascii=False)\n",
    "        else:\n",
    "            pass; # print(f\"Skip {style}\")"
   ]
  },
  {
   "cell_type": "code",
   "execution_count": 20,
   "metadata": {},
   "outputs": [
    {
     "name": "stderr",
     "output_type": "stream",
     "text": [
      "100%|██████████| 113/113 [00:00<00:00, 579408.74it/s]\n"
     ]
    }
   ],
   "source": [
    "completed=False\n",
    "while not completed:\n",
    "    completed=True\n",
    "    for style in tqdm(styles['style']):\n",
    "        if style in architects_by_style and 'valid2' not in architects_by_style[style]:\n",
    "            #print(f\"Query {style}\")\n",
    "            architects_by_style[style]['valid2']=0\n",
    "            for i in range(3):\n",
    "                try:\n",
    "                    text=architects_by_style[style]['style']['description'].replace(style,\" \")\n",
    "                    completion = openai.ChatCompletion.create(\n",
    "                        model=\"gpt-3.5-turbo\",\n",
    "                        messages=[ {\"role\": \"user\", \"content\": f\"Does this '{text}'  the '{style}' architecture style, answer with yes or no?\"}]\n",
    "                    )\n",
    "                    res=completion.choices[0].message.content.replace(\".\",\"\")\n",
    "                    architects_by_style[style]['valid2']+=1.0/3.0 if res.startswith(\"Yes\") else 0.0\n",
    "                    completed=False\n",
    "                except Exception as e:\n",
    "                    print(f\"Error processing {style}\", e)\n",
    "            with open(\"architect_styles.json\", 'tw') as fo:\n",
    "                json.dump(architects_by_style, fo, indent=4, ensure_ascii=False)\n",
    "        else:\n",
    "            pass; # print(f\"Skip {style}\")"
   ]
  },
  {
   "cell_type": "code",
   "execution_count": 21,
   "metadata": {},
   "outputs": [],
   "source": [
    "with open(\"architect_styles.json\", 'tw') as fo:\n",
    "    json.dump(architects_by_style, fo, indent=4, ensure_ascii=False)"
   ]
  },
  {
   "cell_type": "code",
   "execution_count": 22,
   "metadata": {},
   "outputs": [
    {
     "name": "stderr",
     "output_type": "stream",
     "text": [
      "100%|██████████| 113/113 [00:00<00:00, 715946.15it/s]\n"
     ]
    }
   ],
   "source": [
    "completed=False\n",
    "while not completed:\n",
    "    completed=True\n",
    "    for style in tqdm(styles['style']):\n",
    "        if style not in architects_by_style or 'style' not in architects_by_style[style] or 'period' not in architects_by_style[style]['style']:\n",
    "            try:\n",
    "                print(f\"Query {style}\")\n",
    "                completion = openai.ChatCompletion.create(\n",
    "                    model=\"gpt-3.5-turbo\",\n",
    "                    messages=[{\"role\": \"user\", \"content\": f'What is the time range, period, description, characteristics, examples, continent, and country of the \"{style}\" architecture style as JSON'}]\n",
    "                )\n",
    "                reply = completion.choices[0].message.content\n",
    "                try:\n",
    "                    if style not in architects_by_style: architects_by_style[style]={}\n",
    "                    architects_by_style[style]['style']=json.loads(reply)\n",
    "                except:\n",
    "                    print(f\"Error decoding {style}\")\n",
    "                    print(reply)\n",
    "                    architects_by_style[style]['reply2']=reply\n",
    "                with open(\"architect_styles.json\", 'tw') as fo:\n",
    "                    json.dump(architects_by_style, fo, indent=4, ensure_ascii=False)\n",
    "                completed=False\n",
    "            except:\n",
    "                print(f\"Error processing {style}\")\n",
    "        else:\n",
    "            pass; # print(f\"Skip {style}\")"
   ]
  },
  {
   "cell_type": "code",
   "execution_count": 23,
   "metadata": {},
   "outputs": [
    {
     "name": "stderr",
     "output_type": "stream",
     "text": [
      "100%|██████████| 113/113 [00:00<00:00, 1028104.89it/s]\n"
     ]
    }
   ],
   "source": [
    "completed=False\n",
    "while not completed:\n",
    "    completed=True\n",
    "    for style in tqdm(styles['style']):\n",
    "        if style not in architects_by_style or 'terms' not in architects_by_style[style]:\n",
    "            try:\n",
    "                print(f\"Query {style}\")\n",
    "                completion = openai.ChatCompletion.create(\n",
    "                    model=\"gpt-3.5-turbo\",\n",
    "                    messages=[{\"role\": \"user\", \"content\": f'summarize \"{style}\" architecture style with nouns and adjectives separated by ,'}]\n",
    "                )\n",
    "                reply = completion.choices[0].message.content\n",
    "                try:\n",
    "                    if style not in architects_by_style: architects_by_style[style]={}\n",
    "                    architects_by_style[style]['terms']=reply\n",
    "                except:\n",
    "                    print(f\"Error decoding {style}\")\n",
    "                    print(reply)\n",
    "                with open(\"architect_styles.json\", 'tw') as fo:\n",
    "                    json.dump(architects_by_style, fo, indent=4, ensure_ascii=False)\n",
    "                completed=False\n",
    "            except:\n",
    "                print(f\"Error processing {style}\")\n",
    "        else:\n",
    "            pass; # print(f\"Skip {style}\")"
   ]
  },
  {
   "cell_type": "code",
   "execution_count": 24,
   "metadata": {},
   "outputs": [
    {
     "name": "stderr",
     "output_type": "stream",
     "text": [
      "100%|██████████| 113/113 [00:00<00:00, 991540.49it/s]\n"
     ]
    }
   ],
   "source": [
    "def query_character(style,i):\n",
    "    try:\n",
    "        if i % 2 ==0:\n",
    "            completion = openai.ChatCompletion.create(\n",
    "                model=\"gpt-3.5-turbo\",#model=\"gpt-4\",\n",
    "                messages=[{\"role\": \"user\", \"content\": f'List the 10 nouns that characterize the \"{style}\" architecture style as JSON'}],\n",
    "                request_timeout=20.0\n",
    "            )\n",
    "        else:\n",
    "            completion = openai.ChatCompletion.create(\n",
    "                model=\"gpt-3.5-turbo\",#model=\"gpt-4\",\n",
    "                messages=[{\"role\": \"user\", \"content\": f'List the 10 adjectives that characterize the \"{style}\" architecture style as JSON'}],\n",
    "                request_timeout=20.0\n",
    "            )\n",
    "        reply = completion.choices[0].message.content\n",
    "        res=json.loads(reply)\n",
    "        if isinstance(res, dict) and len(res)==1: res=list(res.values())[0]\n",
    "        elif isinstance(res, dict) and len(res)>1: res=list(res.values())\n",
    "        if isinstance(res, list):\n",
    "            return res + [\"c\"]\n",
    "        else:\n",
    "            return [\"err2\"]\n",
    "    except Exception as e:\n",
    "        return [\"err1\"]\n",
    "\n",
    "completed=False\n",
    "while not completed:\n",
    "    completed=True\n",
    "    for style in tqdm(styles['style']):\n",
    "        if style not in architects_by_style or 'termsV2' not in architects_by_style[style]:\n",
    "            print(f\"Query {style}\")\n",
    "            characterset=Counter()\n",
    "            for res in pool.starmap(query_character, [(style,i) for i in range(20)], chunksize=1):\n",
    "                try:\n",
    "                    characterset.update(res)\n",
    "                except Exception as e:\n",
    "                    characterset.update([\"err3\"])\n",
    "            architects_by_style[style]['termsV2']=dict(characterset)\n",
    "            with open(\"architect_styles.json\", 'tw') as fo:\n",
    "                json.dump(architects_by_style, fo, indent=4, ensure_ascii=False)\n",
    "            completed=False"
   ]
  },
  {
   "cell_type": "code",
   "execution_count": 25,
   "metadata": {},
   "outputs": [
    {
     "name": "stderr",
     "output_type": "stream",
     "text": [
      "100%|██████████| 113/113 [00:00<00:00, 1190845.11it/s]\n"
     ]
    }
   ],
   "source": [
    "completed=False\n",
    "while not completed:\n",
    "    completed=True\n",
    "    for style in tqdm(styles['style']):\n",
    "        if style not in architects_by_style or 'character' not in architects_by_style[style]:\n",
    "            try:\n",
    "                print(f\"Query {style}\")\n",
    "                completion = openai.ChatCompletion.create(\n",
    "                    model=\"gpt-3.5-turbo\",\n",
    "                    messages=[{\"role\": \"user\", \"content\": f'List as bullet points the top 3 characteristic elements of the \"{style}\" architecture style as JSON'}]\n",
    "                )\n",
    "                reply = completion.choices[0].message.content\n",
    "                try:\n",
    "                    if style not in architects_by_style: architects_by_style[style]={}\n",
    "                    architects_by_style[style]['character']=json.loads(reply)\n",
    "                except:\n",
    "                    print(f\"Error decoding {style}\")\n",
    "                    print(reply)\n",
    "                with open(\"architect_styles.json\", 'tw') as fo:\n",
    "                    json.dump(architects_by_style, fo, indent=4, ensure_ascii=False)\n",
    "                completed=False\n",
    "            except:\n",
    "                print(f\"Error processing {style}\")\n",
    "        else:\n",
    "            pass; # print(f\"Skip {style}\")"
   ]
  },
  {
   "cell_type": "code",
   "execution_count": 26,
   "metadata": {},
   "outputs": [
    {
     "name": "stderr",
     "output_type": "stream",
     "text": [
      "100%|██████████| 113/113 [00:00<00:00, 882600.28it/s]\n"
     ]
    }
   ],
   "source": [
    "completed=False\n",
    "while not completed:\n",
    "    completed=True\n",
    "    for style in tqdm(styles['style']):\n",
    "        if style not in architects_by_style or 'short' not in architects_by_style[style]:\n",
    "            try:\n",
    "                print(f\"Query {style}\")\n",
    "                completion = openai.ChatCompletion.create(\n",
    "                    model=\"gpt-3.5-turbo\",\n",
    "                    messages=[{\"role\": \"user\", \"content\": f'summarize \"{style}\" architecture style in less than 150 characters'}]\n",
    "                )\n",
    "                reply = completion.choices[0].message.content\n",
    "                try:\n",
    "                    if style not in architects_by_style: architects_by_style[style]={}\n",
    "                    architects_by_style[style]['short']=reply\n",
    "                except:\n",
    "                    print(f\"Error decoding {style}\")\n",
    "                    print(reply)\n",
    "                with open(\"architect_styles.json\", 'tw') as fo:\n",
    "                    json.dump(architects_by_style, fo, indent=4, ensure_ascii=False)\n",
    "                completed=False\n",
    "            except:\n",
    "                print(f\"Error processing {style}\")\n",
    "        else:\n",
    "            pass; # print(f\"Skip {style}\")"
   ]
  },
  {
   "cell_type": "code",
   "execution_count": 27,
   "metadata": {},
   "outputs": [
    {
     "name": "stderr",
     "output_type": "stream",
     "text": [
      "100%|██████████| 113/113 [00:00<00:00, 947912.70it/s]\n"
     ]
    }
   ],
   "source": [
    "completed=False\n",
    "while not completed:\n",
    "    completed=True\n",
    "    for style in tqdm(styles['style']):\n",
    "        if style not in architects_by_style or 'significance' not in architects_by_style[style]:\n",
    "            try:\n",
    "                print(f\"Query {style}\")\n",
    "                completion = openai.ChatCompletion.create(\n",
    "                    model=\"gpt-3.5-turbo\",\n",
    "                    messages=[{\"role\": \"user\", \"content\": f'was the \"{style}\" architecture style significant on a scale 1 to 10 as JSON'}]\n",
    "                )\n",
    "                reply = completion.choices[0].message.content\n",
    "                try:\n",
    "                    if style not in architects_by_style: architects_by_style[style]={}\n",
    "                    architects_by_style[style]['significance']=json.loads(reply)\n",
    "                    with open(\"architect_styles.json\", 'tw') as fo:\n",
    "                        json.dump(architects_by_style, fo, indent=4, ensure_ascii=False)\n",
    "                    completed=False\n",
    "                except:\n",
    "                    print(f\"Error decoding {style}\")\n",
    "                    print(reply)\n",
    "                    architects_by_style[style]['significance']=-1\n",
    "            except:\n",
    "                print(f\"Error processing {style}\")\n",
    "                architects_by_style[style]['significance']=-1\n",
    "        else:\n",
    "            pass; # print(f\"Skip {style}\")"
   ]
  },
  {
   "cell_type": "code",
   "execution_count": 28,
   "metadata": {},
   "outputs": [
    {
     "name": "stderr",
     "output_type": "stream",
     "text": [
      "100%|██████████| 113/113 [00:00<00:00, 175.48it/s]\n"
     ]
    }
   ],
   "source": [
    "poemcnt=3\n",
    "completed=False\n",
    "while not completed:\n",
    "    completed=True\n",
    "    for style in tqdm(styles['style']):\n",
    "        if \"selected\" not in architects_by_style[style] or not architects_by_style[style][\"selected\"]: continue\n",
    "        if 'poems' not in architects_by_style[style]: architects_by_style[style]['poems']=[]\n",
    "        while len(architects_by_style[style]['poems'])<poemcnt:\n",
    "            try:\n",
    "                print(f\"Query {style}\")\n",
    "                completion = openai.ChatCompletion.create(\n",
    "                    model=\"gpt-3.5-turbo\",\n",
    "                    messages=[{\"role\": \"user\", \"content\": f'write a short poem describing the \"{style}\" architecture style without using the words \"'+'\" or \"'.join(style.split())+'\"'}]\n",
    "                )\n",
    "                reply = completion.choices[0].message.content\n",
    "                if style not in reply:# and not any([(s in reply) for s in style.split()]):\n",
    "                    try:\n",
    "                        if 'poems' not in architects_by_style[style]: architects_by_style[style]['poems']=[]\n",
    "                        architects_by_style[style]['poems'].append(reply)\n",
    "                        completed=False\n",
    "                    except Exception as e:\n",
    "                        print(f\"Error decoding {style}\", e)\n",
    "                        print(reply)\n",
    "            except Exception as e:\n",
    "                print(f\"Error processing {style}\", e)\n",
    "        with open(\"architect_styles.json\", 'tw') as fo:\n",
    "            json.dump(architects_by_style, fo, indent=4, ensure_ascii=False)"
   ]
  },
  {
   "cell_type": "code",
   "execution_count": 29,
   "metadata": {},
   "outputs": [],
   "source": [
    "pool.terminate()"
   ]
  },
  {
   "cell_type": "code",
   "execution_count": 30,
   "metadata": {},
   "outputs": [],
   "source": [
    "architects=pd.read_csv('../architects.csv', header=None)\n",
    "#for architect in architects:"
   ]
  },
  {
   "cell_type": "code",
   "execution_count": 31,
   "metadata": {},
   "outputs": [],
   "source": [
    "for style in set(architects_by_style.keys())-set(styles['style']):\n",
    "    print(f\"Remove {style} styles\")\n",
    "    del architects_by_style[style]"
   ]
  },
  {
   "cell_type": "code",
   "execution_count": 32,
   "metadata": {},
   "outputs": [
    {
     "name": "stdout",
     "output_type": "stream",
     "text": [
      "MISSING time_range Indonesian\n",
      "MISSING time_range Palladian\n",
      "MISSING time_range Regency\n",
      "MISSING time_range Sumerian\n",
      "MISSING time_range Swahili\n",
      "MISSING time_range Thai\n"
     ]
    }
   ],
   "source": [
    "for k, v in architects_by_style.items():\n",
    "    if 'name' not in v: v['name']=k\n",
    "    if 'architects' not in v: print(\"MISSING architects\", k)\n",
    "    for a in v['architects']:\n",
    "        if 'name' not in a: print(\"MISSING architect name\", k, a)\n",
    "        if 'valid' not in a: print(\"MISSING architect validation\", k, a['name'])\n",
    "        elif isinstance(a['valid'], list) and any([c!=\"No\" and c!=\"Yes\" for c in a['valid']]):\n",
    "            print(f\"Error validation for {k}/{a['name']}\")\n",
    "        elif isinstance(a['valid'], list) and len(a['valid'])!=3:\n",
    "            print(f\"Incomplete validation for {k}/{a['name']}\")\n",
    "        elif isinstance(a['valid'], list):\n",
    "            a['valid']=sum([1 if (c==\"Yes\") else 0 for c in a['valid']])/3\n",
    "    if 'significance' not in v: print(\"MISSING significance\", k)\n",
    "    else:\n",
    "        try:\n",
    "            if isinstance(v['significance'],str):\n",
    "                v['significance']=json.loads(v['significance'])\n",
    "            elif isinstance(v['significance'],dict):\n",
    "                if \"score\" in v['significance']: v['significance']=v['significance']['score']\n",
    "                if \"scale\" in v['significance']: v['significance']=v['significance']['scale']\n",
    "                if \"rating\" in v['significance']: v['significance']=v['significance']['rating']\n",
    "        except:\n",
    "            pass; #del v['significance']\n",
    "    if 'terms' not in v: print(\"MISSING terms\", k)\n",
    "    else:\n",
    "        if ':' in v['terms'] or '\\n' in v['terms']: v['terms']=v['terms'].replace('Nouns:','').replace('Adjectives:','').replace('\\n','')\n",
    "    if 'style' not in v: print(\"MISSING style\", k)\n",
    "    else:\n",
    "        s=v['style']\n",
    "        if 'quality' not in s: print(\"MISSING style quality\", k, s)\n",
    "        if 'existence' not in s: print(\"MISSING existence\", k, s)\n",
    "        if 'example_quality' not in s: print(\"MISSING example_quality\", k, s)\n",
    "        if 'example_validity' not in s: print(\"MISSING example_validity\", k, s)\n",
    "        else: \n",
    "            for ek in s['example_validity'].keys():\n",
    "                ev=s['example_validity'][ek]\n",
    "                if isinstance(ev, list) and any([c!=\"No\" and c!=\"Yes\" for c in ev]):\n",
    "                    print(f\"Error example validation for {k}/{ek}\")\n",
    "                elif isinstance(ev, list) and len(ev)!=3:\n",
    "                    print(f\"Incomplete validation for {k}/{ek}\")\n",
    "                elif isinstance(ev, list):\n",
    "                    s['example_validity'][ek]=sum([1 if (c==\"Yes\") else 0 for c in ev])/3\n",
    "        if 'time_range' not in s: print(\"MISSING time_range\", k)\n",
    "        if 'period' not in s: print(\"MISSING period\", k)\n",
    "        if 'description' not in s: print(\"MISSING description\", k)\n",
    "        if 'characteristics' not in s: print(\"MISSING characteristics\", k)\n",
    "        else:\n",
    "            if isinstance(s['characteristics'],str): \n",
    "                print(\"Characteristics should be a list\", k)\n",
    "                s['characteristics']=s['characteristics'].split(',')\n",
    "        if 'examples' not in s: print(\"MISSING examples\", k)\n",
    "        else:\n",
    "            if isinstance(s['examples'],str) and ',' in s['examples']: \n",
    "                print(\"Examples should be a list\", k)\n",
    "                s['examples']=s['examples'].split(',')\n",
    "        if 'continent' not in s: print(\"MISSING continent\", k)\n",
    "        else:\n",
    "            if isinstance(s['continent'],str) and ',' in s['continent']: \n",
    "                print(\"Continent should be a list\", k)\n",
    "                s['continent']=s['continent'].split(',')\n",
    "        if 'country' not in s: print(\"MISSING country\", k)\n",
    "        else:\n",
    "            if isinstance(s['country'],str) and ',' in s['country']: \n",
    "                print(\"Country should be a list\", k)\n",
    "                s['country']=s['country'].split(',')\n",
    "        if 'country' not in s: print(\"MISSING country\", k)\n",
    "    if 'valid' not in v: print(\"MISSING valid\", k)\n",
    "    elif isinstance(v['valid'], list) and any([c!=\"No\" and c!=\"Yes\" for c in v['valid']]):\n",
    "        print(f\"Error validation for {k}\")\n",
    "    elif isinstance(v['valid'], list) and len(v['valid'])!=3:\n",
    "        print(f\"Incomplete validation for {k}\")\n",
    "    elif isinstance(v['valid'], list):\n",
    "        v['valid']=sum([1 if (c==\"Yes\") else 0 for c in v['valid']])"
   ]
  },
  {
   "cell_type": "code",
   "execution_count": 33,
   "metadata": {},
   "outputs": [],
   "source": [
    "for index, row in styles.iterrows():\n",
    "    style=row['style']\n",
    "    architects_by_style[style]['Start_Year']=row['Start_Year']\n",
    "    architects_by_style[style]['End_Year']=row['End_Year']"
   ]
  },
  {
   "cell_type": "code",
   "execution_count": 34,
   "metadata": {},
   "outputs": [
    {
     "name": "stdout",
     "output_type": "stream",
     "text": [
      "Missing style for icon Ranch-Style House\n"
     ]
    }
   ],
   "source": [
    "for fn in os.listdir('styles120'):\n",
    "    if fn.endswith(\".png\"):\n",
    "        name=fn.replace('.png', '').replace('_', ' ').title()\n",
    "        if name in architects_by_style:\n",
    "            architects_by_style[name][\"icon\"]=fn\n",
    "        else:\n",
    "            print(f\"Missing style for icon {name}\")"
   ]
  },
  {
   "cell_type": "code",
   "execution_count": 35,
   "metadata": {},
   "outputs": [],
   "source": [
    "with open(\"architect_styles.json\", 'tw') as fo:\n",
    "    json.dump(architects_by_style, fo, indent=4, ensure_ascii=False)"
   ]
  },
  {
   "cell_type": "markdown",
   "metadata": {},
   "source": [
    "## Subselect"
   ]
  },
  {
   "cell_type": "code",
   "execution_count": 36,
   "metadata": {},
   "outputs": [
    {
     "data": {
      "text/html": [
       "<div>\n",
       "<style scoped>\n",
       "    .dataframe tbody tr th:only-of-type {\n",
       "        vertical-align: middle;\n",
       "    }\n",
       "\n",
       "    .dataframe tbody tr th {\n",
       "        vertical-align: top;\n",
       "    }\n",
       "\n",
       "    .dataframe thead th {\n",
       "        text-align: right;\n",
       "    }\n",
       "</style>\n",
       "<table border=\"1\" class=\"dataframe\">\n",
       "  <thead>\n",
       "    <tr style=\"text-align: right;\">\n",
       "      <th></th>\n",
       "      <th>style</th>\n",
       "      <th>Start_Year</th>\n",
       "      <th>End_Year</th>\n",
       "      <th>google</th>\n",
       "      <th>scholar</th>\n",
       "      <th>continent</th>\n",
       "      <th>parent</th>\n",
       "      <th>Length</th>\n",
       "    </tr>\n",
       "  </thead>\n",
       "  <tbody>\n",
       "    <tr>\n",
       "      <th>0</th>\n",
       "      <td>Contemporary</td>\n",
       "      <td>1950</td>\n",
       "      <td>2023</td>\n",
       "      <td>8450000.0</td>\n",
       "      <td>NaN</td>\n",
       "      <td>International</td>\n",
       "      <td>NaN</td>\n",
       "      <td>73</td>\n",
       "    </tr>\n",
       "    <tr>\n",
       "      <th>1</th>\n",
       "      <td>Colonial</td>\n",
       "      <td>1600</td>\n",
       "      <td>1947</td>\n",
       "      <td>4950000.0</td>\n",
       "      <td>17600.0</td>\n",
       "      <td>International</td>\n",
       "      <td>NaN</td>\n",
       "      <td>347</td>\n",
       "    </tr>\n",
       "    <tr>\n",
       "      <th>2</th>\n",
       "      <td>Gothic</td>\n",
       "      <td>1100</td>\n",
       "      <td>1500</td>\n",
       "      <td>4950000.0</td>\n",
       "      <td>398000.0</td>\n",
       "      <td>Europe</td>\n",
       "      <td>NaN</td>\n",
       "      <td>400</td>\n",
       "    </tr>\n",
       "    <tr>\n",
       "      <th>3</th>\n",
       "      <td>Islamic</td>\n",
       "      <td>622</td>\n",
       "      <td>1500</td>\n",
       "      <td>4760000.0</td>\n",
       "      <td>1480000.0</td>\n",
       "      <td>Arabia</td>\n",
       "      <td>NaN</td>\n",
       "      <td>878</td>\n",
       "    </tr>\n",
       "    <tr>\n",
       "      <th>4</th>\n",
       "      <td>Chinese Imperial</td>\n",
       "      <td>618</td>\n",
       "      <td>1912</td>\n",
       "      <td>2990000.0</td>\n",
       "      <td>13900.0</td>\n",
       "      <td>Asia</td>\n",
       "      <td>NaN</td>\n",
       "      <td>1294</td>\n",
       "    </tr>\n",
       "    <tr>\n",
       "      <th>5</th>\n",
       "      <td>Baroque</td>\n",
       "      <td>1584</td>\n",
       "      <td>1750</td>\n",
       "      <td>2310000.0</td>\n",
       "      <td>182000.0</td>\n",
       "      <td>Europe</td>\n",
       "      <td>NaN</td>\n",
       "      <td>166</td>\n",
       "    </tr>\n",
       "    <tr>\n",
       "      <th>6</th>\n",
       "      <td>Art Deco</td>\n",
       "      <td>1920</td>\n",
       "      <td>1939</td>\n",
       "      <td>2150000.0</td>\n",
       "      <td>103000.0</td>\n",
       "      <td>America</td>\n",
       "      <td>NaN</td>\n",
       "      <td>19</td>\n",
       "    </tr>\n",
       "    <tr>\n",
       "      <th>7</th>\n",
       "      <td>Indian</td>\n",
       "      <td>-300</td>\n",
       "      <td>2023</td>\n",
       "      <td>2000000.0</td>\n",
       "      <td>NaN</td>\n",
       "      <td>Asia</td>\n",
       "      <td>NaN</td>\n",
       "      <td>2323</td>\n",
       "    </tr>\n",
       "    <tr>\n",
       "      <th>8</th>\n",
       "      <td>Victorian</td>\n",
       "      <td>1837</td>\n",
       "      <td>1901</td>\n",
       "      <td>1860000.0</td>\n",
       "      <td>478000.0</td>\n",
       "      <td>Europe</td>\n",
       "      <td>NaN</td>\n",
       "      <td>64</td>\n",
       "    </tr>\n",
       "    <tr>\n",
       "      <th>9</th>\n",
       "      <td>Renaissance</td>\n",
       "      <td>1400</td>\n",
       "      <td>1600</td>\n",
       "      <td>1210000.0</td>\n",
       "      <td>1460000.0</td>\n",
       "      <td>Europe</td>\n",
       "      <td>NaN</td>\n",
       "      <td>200</td>\n",
       "    </tr>\n",
       "    <tr>\n",
       "      <th>10</th>\n",
       "      <td>Romanesque</td>\n",
       "      <td>800</td>\n",
       "      <td>1200</td>\n",
       "      <td>1100000.0</td>\n",
       "      <td>106000.0</td>\n",
       "      <td>Europe</td>\n",
       "      <td>NaN</td>\n",
       "      <td>400</td>\n",
       "    </tr>\n",
       "    <tr>\n",
       "      <th>11</th>\n",
       "      <td>Mid-Century Modern</td>\n",
       "      <td>1940</td>\n",
       "      <td>1960</td>\n",
       "      <td>650000.0</td>\n",
       "      <td>NaN</td>\n",
       "      <td>America</td>\n",
       "      <td>NaN</td>\n",
       "      <td>20</td>\n",
       "    </tr>\n",
       "    <tr>\n",
       "      <th>12</th>\n",
       "      <td>Persian</td>\n",
       "      <td>-600</td>\n",
       "      <td>600</td>\n",
       "      <td>426000.0</td>\n",
       "      <td>NaN</td>\n",
       "      <td>Arabia</td>\n",
       "      <td>NaN</td>\n",
       "      <td>1200</td>\n",
       "    </tr>\n",
       "    <tr>\n",
       "      <th>13</th>\n",
       "      <td>Moorish</td>\n",
       "      <td>800</td>\n",
       "      <td>1400</td>\n",
       "      <td>396000.0</td>\n",
       "      <td>NaN</td>\n",
       "      <td>Arabia</td>\n",
       "      <td>NaN</td>\n",
       "      <td>600</td>\n",
       "    </tr>\n",
       "    <tr>\n",
       "      <th>14</th>\n",
       "      <td>Ottoman</td>\n",
       "      <td>1299</td>\n",
       "      <td>1922</td>\n",
       "      <td>388000.0</td>\n",
       "      <td>NaN</td>\n",
       "      <td>Arabia</td>\n",
       "      <td>NaN</td>\n",
       "      <td>623</td>\n",
       "    </tr>\n",
       "    <tr>\n",
       "      <th>15</th>\n",
       "      <td>Ancient Egyptian</td>\n",
       "      <td>-3100</td>\n",
       "      <td>-30</td>\n",
       "      <td>221000.0</td>\n",
       "      <td>469000.0</td>\n",
       "      <td>Africa</td>\n",
       "      <td>NaN</td>\n",
       "      <td>3070</td>\n",
       "    </tr>\n",
       "    <tr>\n",
       "      <th>16</th>\n",
       "      <td>Indo-Islamic</td>\n",
       "      <td>1193</td>\n",
       "      <td>1700</td>\n",
       "      <td>187000.0</td>\n",
       "      <td>NaN</td>\n",
       "      <td>Asia</td>\n",
       "      <td>NaN</td>\n",
       "      <td>507</td>\n",
       "    </tr>\n",
       "    <tr>\n",
       "      <th>17</th>\n",
       "      <td>Dravidian</td>\n",
       "      <td>-2500</td>\n",
       "      <td>-1000</td>\n",
       "      <td>180000.0</td>\n",
       "      <td>364.0</td>\n",
       "      <td>Asia</td>\n",
       "      <td>NaN</td>\n",
       "      <td>1500</td>\n",
       "    </tr>\n",
       "    <tr>\n",
       "      <th>18</th>\n",
       "      <td>Greek Revival</td>\n",
       "      <td>1850</td>\n",
       "      <td>1950</td>\n",
       "      <td>178000.0</td>\n",
       "      <td>NaN</td>\n",
       "      <td>International</td>\n",
       "      <td>Neoclassical</td>\n",
       "      <td>100</td>\n",
       "    </tr>\n",
       "    <tr>\n",
       "      <th>19</th>\n",
       "      <td>Korean</td>\n",
       "      <td>1400</td>\n",
       "      <td>2023</td>\n",
       "      <td>160000.0</td>\n",
       "      <td>NaN</td>\n",
       "      <td>Asia</td>\n",
       "      <td>NaN</td>\n",
       "      <td>623</td>\n",
       "    </tr>\n",
       "    <tr>\n",
       "      <th>20</th>\n",
       "      <td>Googie</td>\n",
       "      <td>1945</td>\n",
       "      <td>1970</td>\n",
       "      <td>150000.0</td>\n",
       "      <td>NaN</td>\n",
       "      <td>America</td>\n",
       "      <td>Futurism</td>\n",
       "      <td>25</td>\n",
       "    </tr>\n",
       "    <tr>\n",
       "      <th>21</th>\n",
       "      <td>Colonial Revival</td>\n",
       "      <td>1880</td>\n",
       "      <td>1930</td>\n",
       "      <td>121000.0</td>\n",
       "      <td>449.0</td>\n",
       "      <td>America</td>\n",
       "      <td>NaN</td>\n",
       "      <td>50</td>\n",
       "    </tr>\n",
       "    <tr>\n",
       "      <th>22</th>\n",
       "      <td>Italianate</td>\n",
       "      <td>1830</td>\n",
       "      <td>1870</td>\n",
       "      <td>103000.0</td>\n",
       "      <td>556.0</td>\n",
       "      <td>International</td>\n",
       "      <td>NaN</td>\n",
       "      <td>40</td>\n",
       "    </tr>\n",
       "    <tr>\n",
       "      <th>23</th>\n",
       "      <td>High-Tech</td>\n",
       "      <td>1960</td>\n",
       "      <td>2023</td>\n",
       "      <td>96900.0</td>\n",
       "      <td>378000.0</td>\n",
       "      <td>International</td>\n",
       "      <td>NaN</td>\n",
       "      <td>63</td>\n",
       "    </tr>\n",
       "    <tr>\n",
       "      <th>24</th>\n",
       "      <td>Andalusian Period</td>\n",
       "      <td>711</td>\n",
       "      <td>1492</td>\n",
       "      <td>89900.0</td>\n",
       "      <td>NaN</td>\n",
       "      <td>Arabia</td>\n",
       "      <td>NaN</td>\n",
       "      <td>781</td>\n",
       "    </tr>\n",
       "    <tr>\n",
       "      <th>25</th>\n",
       "      <td>Federal</td>\n",
       "      <td>1790</td>\n",
       "      <td>1850</td>\n",
       "      <td>80700.0</td>\n",
       "      <td>NaN</td>\n",
       "      <td>America</td>\n",
       "      <td>Neoclassical</td>\n",
       "      <td>60</td>\n",
       "    </tr>\n",
       "    <tr>\n",
       "      <th>26</th>\n",
       "      <td>Mud Brick</td>\n",
       "      <td>-4000</td>\n",
       "      <td>2023</td>\n",
       "      <td>41000.0</td>\n",
       "      <td>NaN</td>\n",
       "      <td>Africa</td>\n",
       "      <td>NaN</td>\n",
       "      <td>6023</td>\n",
       "    </tr>\n",
       "    <tr>\n",
       "      <th>27</th>\n",
       "      <td>Federation</td>\n",
       "      <td>1950</td>\n",
       "      <td>2023</td>\n",
       "      <td>29700.0</td>\n",
       "      <td>NaN</td>\n",
       "      <td>Australian</td>\n",
       "      <td>NaN</td>\n",
       "      <td>73</td>\n",
       "    </tr>\n",
       "    <tr>\n",
       "      <th>28</th>\n",
       "      <td>Swahili</td>\n",
       "      <td>800</td>\n",
       "      <td>1800</td>\n",
       "      <td>26000.0</td>\n",
       "      <td>NaN</td>\n",
       "      <td>Africa</td>\n",
       "      <td>NaN</td>\n",
       "      <td>1000</td>\n",
       "    </tr>\n",
       "    <tr>\n",
       "      <th>29</th>\n",
       "      <td>Berber</td>\n",
       "      <td>600</td>\n",
       "      <td>2023</td>\n",
       "      <td>23700.0</td>\n",
       "      <td>NaN</td>\n",
       "      <td>Africa</td>\n",
       "      <td>NaN</td>\n",
       "      <td>1423</td>\n",
       "    </tr>\n",
       "    <tr>\n",
       "      <th>30</th>\n",
       "      <td>Nubian</td>\n",
       "      <td>-3000</td>\n",
       "      <td>-1500</td>\n",
       "      <td>10700.0</td>\n",
       "      <td>NaN</td>\n",
       "      <td>Africa</td>\n",
       "      <td>NaN</td>\n",
       "      <td>1500</td>\n",
       "    </tr>\n",
       "    <tr>\n",
       "      <th>31</th>\n",
       "      <td>Sumerian</td>\n",
       "      <td>-5000</td>\n",
       "      <td>-2004</td>\n",
       "      <td>9990.0</td>\n",
       "      <td>0.0</td>\n",
       "      <td>Arabia</td>\n",
       "      <td></td>\n",
       "      <td>2996</td>\n",
       "    </tr>\n",
       "    <tr>\n",
       "      <th>32</th>\n",
       "      <td>Polynesian</td>\n",
       "      <td>-1000</td>\n",
       "      <td>1800</td>\n",
       "      <td>7950.0</td>\n",
       "      <td>NaN</td>\n",
       "      <td>Australian</td>\n",
       "      <td>NaN</td>\n",
       "      <td>2800</td>\n",
       "    </tr>\n",
       "    <tr>\n",
       "      <th>33</th>\n",
       "      <td>Indigenous Australian</td>\n",
       "      <td>-10000</td>\n",
       "      <td>1803</td>\n",
       "      <td>1380.0</td>\n",
       "      <td>NaN</td>\n",
       "      <td>Australian</td>\n",
       "      <td>NaN</td>\n",
       "      <td>11803</td>\n",
       "    </tr>\n",
       "    <tr>\n",
       "      <th>34</th>\n",
       "      <td>Contemporary Oceania</td>\n",
       "      <td>1990</td>\n",
       "      <td>2023</td>\n",
       "      <td>1020.0</td>\n",
       "      <td>NaN</td>\n",
       "      <td>Australian</td>\n",
       "      <td>NaN</td>\n",
       "      <td>33</td>\n",
       "    </tr>\n",
       "    <tr>\n",
       "      <th>35</th>\n",
       "      <td>Indigenous Contemporary</td>\n",
       "      <td>1980</td>\n",
       "      <td>2023</td>\n",
       "      <td>662.0</td>\n",
       "      <td>NaN</td>\n",
       "      <td>Australian</td>\n",
       "      <td>NaN</td>\n",
       "      <td>43</td>\n",
       "    </tr>\n",
       "  </tbody>\n",
       "</table>\n",
       "</div>"
      ],
      "text/plain": [
       "                      style  Start_Year  End_Year     google    scholar  \\\n",
       "0              Contemporary        1950      2023  8450000.0        NaN   \n",
       "1                  Colonial        1600      1947  4950000.0    17600.0   \n",
       "2                    Gothic        1100      1500  4950000.0   398000.0   \n",
       "3                   Islamic         622      1500  4760000.0  1480000.0   \n",
       "4          Chinese Imperial         618      1912  2990000.0    13900.0   \n",
       "5                   Baroque        1584      1750  2310000.0   182000.0   \n",
       "6                  Art Deco        1920      1939  2150000.0   103000.0   \n",
       "7                    Indian        -300      2023  2000000.0        NaN   \n",
       "8                 Victorian        1837      1901  1860000.0   478000.0   \n",
       "9               Renaissance        1400      1600  1210000.0  1460000.0   \n",
       "10               Romanesque         800      1200  1100000.0   106000.0   \n",
       "11       Mid-Century Modern        1940      1960   650000.0        NaN   \n",
       "12                  Persian        -600       600   426000.0        NaN   \n",
       "13                  Moorish         800      1400   396000.0        NaN   \n",
       "14                  Ottoman        1299      1922   388000.0        NaN   \n",
       "15         Ancient Egyptian       -3100       -30   221000.0   469000.0   \n",
       "16             Indo-Islamic        1193      1700   187000.0        NaN   \n",
       "17                Dravidian       -2500     -1000   180000.0      364.0   \n",
       "18            Greek Revival        1850      1950   178000.0        NaN   \n",
       "19                   Korean        1400      2023   160000.0        NaN   \n",
       "20                   Googie        1945      1970   150000.0        NaN   \n",
       "21         Colonial Revival        1880      1930   121000.0      449.0   \n",
       "22               Italianate        1830      1870   103000.0      556.0   \n",
       "23                High-Tech        1960      2023    96900.0   378000.0   \n",
       "24        Andalusian Period         711      1492    89900.0        NaN   \n",
       "25                  Federal        1790      1850    80700.0        NaN   \n",
       "26                Mud Brick       -4000      2023    41000.0        NaN   \n",
       "27               Federation        1950      2023    29700.0        NaN   \n",
       "28                  Swahili         800      1800    26000.0        NaN   \n",
       "29                   Berber         600      2023    23700.0        NaN   \n",
       "30                   Nubian       -3000     -1500    10700.0        NaN   \n",
       "31                 Sumerian       -5000     -2004     9990.0        0.0   \n",
       "32               Polynesian       -1000      1800     7950.0        NaN   \n",
       "33    Indigenous Australian      -10000      1803     1380.0        NaN   \n",
       "34     Contemporary Oceania        1990      2023     1020.0        NaN   \n",
       "35  Indigenous Contemporary        1980      2023      662.0        NaN   \n",
       "\n",
       "        continent        parent  Length  \n",
       "0   International           NaN      73  \n",
       "1   International           NaN     347  \n",
       "2          Europe           NaN     400  \n",
       "3          Arabia           NaN     878  \n",
       "4            Asia           NaN    1294  \n",
       "5          Europe           NaN     166  \n",
       "6         America           NaN      19  \n",
       "7            Asia           NaN    2323  \n",
       "8          Europe           NaN      64  \n",
       "9          Europe           NaN     200  \n",
       "10         Europe           NaN     400  \n",
       "11        America           NaN      20  \n",
       "12         Arabia           NaN    1200  \n",
       "13         Arabia           NaN     600  \n",
       "14         Arabia           NaN     623  \n",
       "15         Africa           NaN    3070  \n",
       "16           Asia           NaN     507  \n",
       "17           Asia           NaN    1500  \n",
       "18  International  Neoclassical     100  \n",
       "19           Asia           NaN     623  \n",
       "20        America      Futurism      25  \n",
       "21        America           NaN      50  \n",
       "22  International           NaN      40  \n",
       "23  International           NaN      63  \n",
       "24         Arabia           NaN     781  \n",
       "25        America  Neoclassical      60  \n",
       "26         Africa           NaN    6023  \n",
       "27     Australian           NaN      73  \n",
       "28         Africa           NaN    1000  \n",
       "29         Africa           NaN    1423  \n",
       "30         Africa           NaN    1500  \n",
       "31         Arabia                  2996  \n",
       "32     Australian           NaN    2800  \n",
       "33     Australian           NaN   11803  \n",
       "34     Australian           NaN      33  \n",
       "35     Australian           NaN      43  "
      ]
     },
     "execution_count": 36,
     "metadata": {},
     "output_type": "execute_result"
    }
   ],
   "source": [
    "topstyles=styles.sort_values(by=\"google\",ascending=False).groupby('continent').head(5).reset_index(drop=True).sort_values(by=\"google\",ascending=False)\n",
    "topstyles"
   ]
  },
  {
   "cell_type": "code",
   "execution_count": 37,
   "metadata": {},
   "outputs": [
    {
     "data": {
      "application/vnd.plotly.v1+json": {
       "config": {
        "plotlyServerURL": "https://plot.ly"
       },
       "data": [
        {
         "alignmentgroup": "True",
         "hovertemplate": "continent=International<br>style=%{x}<br>google=%{y}<extra></extra>",
         "legendgroup": "",
         "marker": {
          "color": "#636efa",
          "pattern": {
           "shape": ""
          }
         },
         "name": "",
         "offsetgroup": "",
         "orientation": "v",
         "showlegend": false,
         "textposition": "auto",
         "type": "bar",
         "x": [
          "Contemporary",
          "Colonial",
          "Greek Revival",
          "Italianate",
          "High-Tech"
         ],
         "xaxis": "x",
         "y": [
          8450000,
          4950000,
          178000,
          103000,
          96900
         ],
         "yaxis": "y"
        },
        {
         "alignmentgroup": "True",
         "hovertemplate": "continent=Europe<br>style=%{x}<br>google=%{y}<extra></extra>",
         "legendgroup": "",
         "marker": {
          "color": "#636efa",
          "pattern": {
           "shape": ""
          }
         },
         "name": "",
         "offsetgroup": "",
         "orientation": "v",
         "showlegend": false,
         "textposition": "auto",
         "type": "bar",
         "x": [
          "Gothic",
          "Baroque",
          "Victorian",
          "Renaissance",
          "Romanesque"
         ],
         "xaxis": "x2",
         "y": [
          4950000,
          2310000,
          1860000,
          1210000,
          1100000
         ],
         "yaxis": "y2"
        },
        {
         "alignmentgroup": "True",
         "hovertemplate": "continent=Arabia<br>style=%{x}<br>google=%{y}<extra></extra>",
         "legendgroup": "",
         "marker": {
          "color": "#636efa",
          "pattern": {
           "shape": ""
          }
         },
         "name": "",
         "offsetgroup": "",
         "orientation": "v",
         "showlegend": false,
         "textposition": "auto",
         "type": "bar",
         "x": [
          "Islamic",
          "Persian",
          "Moorish",
          "Ottoman",
          "Andalusian Period"
         ],
         "xaxis": "x3",
         "y": [
          4760000,
          426000,
          396000,
          388000,
          89900
         ],
         "yaxis": "y3"
        },
        {
         "alignmentgroup": "True",
         "hovertemplate": "continent=Asia<br>style=%{x}<br>google=%{y}<extra></extra>",
         "legendgroup": "",
         "marker": {
          "color": "#636efa",
          "pattern": {
           "shape": ""
          }
         },
         "name": "",
         "offsetgroup": "",
         "orientation": "v",
         "showlegend": false,
         "textposition": "auto",
         "type": "bar",
         "x": [
          "Chinese Imperial",
          "Indian",
          "Indo-Islamic",
          "Dravidian",
          "Korean"
         ],
         "xaxis": "x4",
         "y": [
          2990000,
          2000000,
          187000,
          180000,
          160000
         ],
         "yaxis": "y4"
        },
        {
         "alignmentgroup": "True",
         "hovertemplate": "continent=America<br>style=%{x}<br>google=%{y}<extra></extra>",
         "legendgroup": "",
         "marker": {
          "color": "#636efa",
          "pattern": {
           "shape": ""
          }
         },
         "name": "",
         "offsetgroup": "",
         "orientation": "v",
         "showlegend": false,
         "textposition": "auto",
         "type": "bar",
         "x": [
          "Art Deco",
          "Mid-Century Modern",
          "Googie",
          "Colonial Revival",
          "Federal"
         ],
         "xaxis": "x5",
         "y": [
          2150000,
          650000,
          150000,
          121000,
          80700
         ],
         "yaxis": "y5"
        },
        {
         "alignmentgroup": "True",
         "hovertemplate": "continent=Africa<br>style=%{x}<br>google=%{y}<extra></extra>",
         "legendgroup": "",
         "marker": {
          "color": "#636efa",
          "pattern": {
           "shape": ""
          }
         },
         "name": "",
         "offsetgroup": "",
         "orientation": "v",
         "showlegend": false,
         "textposition": "auto",
         "type": "bar",
         "x": [
          "Ancient Egyptian",
          "Mud Brick",
          "Swahili",
          "Berber",
          "Nubian"
         ],
         "xaxis": "x6",
         "y": [
          221000,
          41000,
          26000,
          23700,
          10700
         ],
         "yaxis": "y6"
        },
        {
         "alignmentgroup": "True",
         "hovertemplate": "continent=Australian<br>style=%{x}<br>google=%{y}<extra></extra>",
         "legendgroup": "",
         "marker": {
          "color": "#636efa",
          "pattern": {
           "shape": ""
          }
         },
         "name": "",
         "offsetgroup": "",
         "orientation": "v",
         "showlegend": false,
         "textposition": "auto",
         "type": "bar",
         "x": [
          "Federation",
          "Polynesian",
          "Indigenous Australian",
          "Contemporary Oceania",
          "Indigenous Contemporary"
         ],
         "xaxis": "x7",
         "y": [
          29700,
          7950,
          1380,
          1020,
          662
         ],
         "yaxis": "y7"
        },
        {
         "alignmentgroup": "True",
         "hovertemplate": "continent= Arabia<br>style=%{x}<br>google=%{y}<extra></extra>",
         "legendgroup": "",
         "marker": {
          "color": "#636efa",
          "pattern": {
           "shape": ""
          }
         },
         "name": "",
         "offsetgroup": "",
         "orientation": "v",
         "showlegend": false,
         "textposition": "auto",
         "type": "bar",
         "x": [
          "Sumerian"
         ],
         "xaxis": "x8",
         "y": [
          9990
         ],
         "yaxis": "y8"
        }
       ],
       "layout": {
        "annotations": [
         {
          "font": {},
          "showarrow": false,
          "text": "continent=International",
          "x": 0.05375,
          "xanchor": "center",
          "xref": "paper",
          "y": 1,
          "yanchor": "bottom",
          "yref": "paper"
         },
         {
          "font": {},
          "showarrow": false,
          "text": "continent=Europe",
          "x": 0.18125,
          "xanchor": "center",
          "xref": "paper",
          "y": 1,
          "yanchor": "bottom",
          "yref": "paper"
         },
         {
          "font": {},
          "showarrow": false,
          "text": "continent=Arabia",
          "x": 0.30874999999999997,
          "xanchor": "center",
          "xref": "paper",
          "y": 1,
          "yanchor": "bottom",
          "yref": "paper"
         },
         {
          "font": {},
          "showarrow": false,
          "text": "continent=Asia",
          "x": 0.43625,
          "xanchor": "center",
          "xref": "paper",
          "y": 1,
          "yanchor": "bottom",
          "yref": "paper"
         },
         {
          "font": {},
          "showarrow": false,
          "text": "continent=America",
          "x": 0.56375,
          "xanchor": "center",
          "xref": "paper",
          "y": 1,
          "yanchor": "bottom",
          "yref": "paper"
         },
         {
          "font": {},
          "showarrow": false,
          "text": "continent=Africa",
          "x": 0.6912499999999999,
          "xanchor": "center",
          "xref": "paper",
          "y": 1,
          "yanchor": "bottom",
          "yref": "paper"
         },
         {
          "font": {},
          "showarrow": false,
          "text": "continent=Australian",
          "x": 0.8187500000000001,
          "xanchor": "center",
          "xref": "paper",
          "y": 1,
          "yanchor": "bottom",
          "yref": "paper"
         },
         {
          "font": {},
          "showarrow": false,
          "text": "continent= Arabia",
          "x": 0.94625,
          "xanchor": "center",
          "xref": "paper",
          "y": 1,
          "yanchor": "bottom",
          "yref": "paper"
         }
        ],
        "barmode": "relative",
        "legend": {
         "tracegroupgap": 0
        },
        "margin": {
         "t": 60
        },
        "template": {
         "data": {
          "bar": [
           {
            "error_x": {
             "color": "#2a3f5f"
            },
            "error_y": {
             "color": "#2a3f5f"
            },
            "marker": {
             "line": {
              "color": "#E5ECF6",
              "width": 0.5
             },
             "pattern": {
              "fillmode": "overlay",
              "size": 10,
              "solidity": 0.2
             }
            },
            "type": "bar"
           }
          ],
          "barpolar": [
           {
            "marker": {
             "line": {
              "color": "#E5ECF6",
              "width": 0.5
             },
             "pattern": {
              "fillmode": "overlay",
              "size": 10,
              "solidity": 0.2
             }
            },
            "type": "barpolar"
           }
          ],
          "carpet": [
           {
            "aaxis": {
             "endlinecolor": "#2a3f5f",
             "gridcolor": "white",
             "linecolor": "white",
             "minorgridcolor": "white",
             "startlinecolor": "#2a3f5f"
            },
            "baxis": {
             "endlinecolor": "#2a3f5f",
             "gridcolor": "white",
             "linecolor": "white",
             "minorgridcolor": "white",
             "startlinecolor": "#2a3f5f"
            },
            "type": "carpet"
           }
          ],
          "choropleth": [
           {
            "colorbar": {
             "outlinewidth": 0,
             "ticks": ""
            },
            "type": "choropleth"
           }
          ],
          "contour": [
           {
            "colorbar": {
             "outlinewidth": 0,
             "ticks": ""
            },
            "colorscale": [
             [
              0,
              "#0d0887"
             ],
             [
              0.1111111111111111,
              "#46039f"
             ],
             [
              0.2222222222222222,
              "#7201a8"
             ],
             [
              0.3333333333333333,
              "#9c179e"
             ],
             [
              0.4444444444444444,
              "#bd3786"
             ],
             [
              0.5555555555555556,
              "#d8576b"
             ],
             [
              0.6666666666666666,
              "#ed7953"
             ],
             [
              0.7777777777777778,
              "#fb9f3a"
             ],
             [
              0.8888888888888888,
              "#fdca26"
             ],
             [
              1,
              "#f0f921"
             ]
            ],
            "type": "contour"
           }
          ],
          "contourcarpet": [
           {
            "colorbar": {
             "outlinewidth": 0,
             "ticks": ""
            },
            "type": "contourcarpet"
           }
          ],
          "heatmap": [
           {
            "colorbar": {
             "outlinewidth": 0,
             "ticks": ""
            },
            "colorscale": [
             [
              0,
              "#0d0887"
             ],
             [
              0.1111111111111111,
              "#46039f"
             ],
             [
              0.2222222222222222,
              "#7201a8"
             ],
             [
              0.3333333333333333,
              "#9c179e"
             ],
             [
              0.4444444444444444,
              "#bd3786"
             ],
             [
              0.5555555555555556,
              "#d8576b"
             ],
             [
              0.6666666666666666,
              "#ed7953"
             ],
             [
              0.7777777777777778,
              "#fb9f3a"
             ],
             [
              0.8888888888888888,
              "#fdca26"
             ],
             [
              1,
              "#f0f921"
             ]
            ],
            "type": "heatmap"
           }
          ],
          "heatmapgl": [
           {
            "colorbar": {
             "outlinewidth": 0,
             "ticks": ""
            },
            "colorscale": [
             [
              0,
              "#0d0887"
             ],
             [
              0.1111111111111111,
              "#46039f"
             ],
             [
              0.2222222222222222,
              "#7201a8"
             ],
             [
              0.3333333333333333,
              "#9c179e"
             ],
             [
              0.4444444444444444,
              "#bd3786"
             ],
             [
              0.5555555555555556,
              "#d8576b"
             ],
             [
              0.6666666666666666,
              "#ed7953"
             ],
             [
              0.7777777777777778,
              "#fb9f3a"
             ],
             [
              0.8888888888888888,
              "#fdca26"
             ],
             [
              1,
              "#f0f921"
             ]
            ],
            "type": "heatmapgl"
           }
          ],
          "histogram": [
           {
            "marker": {
             "pattern": {
              "fillmode": "overlay",
              "size": 10,
              "solidity": 0.2
             }
            },
            "type": "histogram"
           }
          ],
          "histogram2d": [
           {
            "colorbar": {
             "outlinewidth": 0,
             "ticks": ""
            },
            "colorscale": [
             [
              0,
              "#0d0887"
             ],
             [
              0.1111111111111111,
              "#46039f"
             ],
             [
              0.2222222222222222,
              "#7201a8"
             ],
             [
              0.3333333333333333,
              "#9c179e"
             ],
             [
              0.4444444444444444,
              "#bd3786"
             ],
             [
              0.5555555555555556,
              "#d8576b"
             ],
             [
              0.6666666666666666,
              "#ed7953"
             ],
             [
              0.7777777777777778,
              "#fb9f3a"
             ],
             [
              0.8888888888888888,
              "#fdca26"
             ],
             [
              1,
              "#f0f921"
             ]
            ],
            "type": "histogram2d"
           }
          ],
          "histogram2dcontour": [
           {
            "colorbar": {
             "outlinewidth": 0,
             "ticks": ""
            },
            "colorscale": [
             [
              0,
              "#0d0887"
             ],
             [
              0.1111111111111111,
              "#46039f"
             ],
             [
              0.2222222222222222,
              "#7201a8"
             ],
             [
              0.3333333333333333,
              "#9c179e"
             ],
             [
              0.4444444444444444,
              "#bd3786"
             ],
             [
              0.5555555555555556,
              "#d8576b"
             ],
             [
              0.6666666666666666,
              "#ed7953"
             ],
             [
              0.7777777777777778,
              "#fb9f3a"
             ],
             [
              0.8888888888888888,
              "#fdca26"
             ],
             [
              1,
              "#f0f921"
             ]
            ],
            "type": "histogram2dcontour"
           }
          ],
          "mesh3d": [
           {
            "colorbar": {
             "outlinewidth": 0,
             "ticks": ""
            },
            "type": "mesh3d"
           }
          ],
          "parcoords": [
           {
            "line": {
             "colorbar": {
              "outlinewidth": 0,
              "ticks": ""
             }
            },
            "type": "parcoords"
           }
          ],
          "pie": [
           {
            "automargin": true,
            "type": "pie"
           }
          ],
          "scatter": [
           {
            "fillpattern": {
             "fillmode": "overlay",
             "size": 10,
             "solidity": 0.2
            },
            "type": "scatter"
           }
          ],
          "scatter3d": [
           {
            "line": {
             "colorbar": {
              "outlinewidth": 0,
              "ticks": ""
             }
            },
            "marker": {
             "colorbar": {
              "outlinewidth": 0,
              "ticks": ""
             }
            },
            "type": "scatter3d"
           }
          ],
          "scattercarpet": [
           {
            "marker": {
             "colorbar": {
              "outlinewidth": 0,
              "ticks": ""
             }
            },
            "type": "scattercarpet"
           }
          ],
          "scattergeo": [
           {
            "marker": {
             "colorbar": {
              "outlinewidth": 0,
              "ticks": ""
             }
            },
            "type": "scattergeo"
           }
          ],
          "scattergl": [
           {
            "marker": {
             "colorbar": {
              "outlinewidth": 0,
              "ticks": ""
             }
            },
            "type": "scattergl"
           }
          ],
          "scattermapbox": [
           {
            "marker": {
             "colorbar": {
              "outlinewidth": 0,
              "ticks": ""
             }
            },
            "type": "scattermapbox"
           }
          ],
          "scatterpolar": [
           {
            "marker": {
             "colorbar": {
              "outlinewidth": 0,
              "ticks": ""
             }
            },
            "type": "scatterpolar"
           }
          ],
          "scatterpolargl": [
           {
            "marker": {
             "colorbar": {
              "outlinewidth": 0,
              "ticks": ""
             }
            },
            "type": "scatterpolargl"
           }
          ],
          "scatterternary": [
           {
            "marker": {
             "colorbar": {
              "outlinewidth": 0,
              "ticks": ""
             }
            },
            "type": "scatterternary"
           }
          ],
          "surface": [
           {
            "colorbar": {
             "outlinewidth": 0,
             "ticks": ""
            },
            "colorscale": [
             [
              0,
              "#0d0887"
             ],
             [
              0.1111111111111111,
              "#46039f"
             ],
             [
              0.2222222222222222,
              "#7201a8"
             ],
             [
              0.3333333333333333,
              "#9c179e"
             ],
             [
              0.4444444444444444,
              "#bd3786"
             ],
             [
              0.5555555555555556,
              "#d8576b"
             ],
             [
              0.6666666666666666,
              "#ed7953"
             ],
             [
              0.7777777777777778,
              "#fb9f3a"
             ],
             [
              0.8888888888888888,
              "#fdca26"
             ],
             [
              1,
              "#f0f921"
             ]
            ],
            "type": "surface"
           }
          ],
          "table": [
           {
            "cells": {
             "fill": {
              "color": "#EBF0F8"
             },
             "line": {
              "color": "white"
             }
            },
            "header": {
             "fill": {
              "color": "#C8D4E3"
             },
             "line": {
              "color": "white"
             }
            },
            "type": "table"
           }
          ]
         },
         "layout": {
          "annotationdefaults": {
           "arrowcolor": "#2a3f5f",
           "arrowhead": 0,
           "arrowwidth": 1
          },
          "autotypenumbers": "strict",
          "coloraxis": {
           "colorbar": {
            "outlinewidth": 0,
            "ticks": ""
           }
          },
          "colorscale": {
           "diverging": [
            [
             0,
             "#8e0152"
            ],
            [
             0.1,
             "#c51b7d"
            ],
            [
             0.2,
             "#de77ae"
            ],
            [
             0.3,
             "#f1b6da"
            ],
            [
             0.4,
             "#fde0ef"
            ],
            [
             0.5,
             "#f7f7f7"
            ],
            [
             0.6,
             "#e6f5d0"
            ],
            [
             0.7,
             "#b8e186"
            ],
            [
             0.8,
             "#7fbc41"
            ],
            [
             0.9,
             "#4d9221"
            ],
            [
             1,
             "#276419"
            ]
           ],
           "sequential": [
            [
             0,
             "#0d0887"
            ],
            [
             0.1111111111111111,
             "#46039f"
            ],
            [
             0.2222222222222222,
             "#7201a8"
            ],
            [
             0.3333333333333333,
             "#9c179e"
            ],
            [
             0.4444444444444444,
             "#bd3786"
            ],
            [
             0.5555555555555556,
             "#d8576b"
            ],
            [
             0.6666666666666666,
             "#ed7953"
            ],
            [
             0.7777777777777778,
             "#fb9f3a"
            ],
            [
             0.8888888888888888,
             "#fdca26"
            ],
            [
             1,
             "#f0f921"
            ]
           ],
           "sequentialminus": [
            [
             0,
             "#0d0887"
            ],
            [
             0.1111111111111111,
             "#46039f"
            ],
            [
             0.2222222222222222,
             "#7201a8"
            ],
            [
             0.3333333333333333,
             "#9c179e"
            ],
            [
             0.4444444444444444,
             "#bd3786"
            ],
            [
             0.5555555555555556,
             "#d8576b"
            ],
            [
             0.6666666666666666,
             "#ed7953"
            ],
            [
             0.7777777777777778,
             "#fb9f3a"
            ],
            [
             0.8888888888888888,
             "#fdca26"
            ],
            [
             1,
             "#f0f921"
            ]
           ]
          },
          "colorway": [
           "#636efa",
           "#EF553B",
           "#00cc96",
           "#ab63fa",
           "#FFA15A",
           "#19d3f3",
           "#FF6692",
           "#B6E880",
           "#FF97FF",
           "#FECB52"
          ],
          "font": {
           "color": "#2a3f5f"
          },
          "geo": {
           "bgcolor": "white",
           "lakecolor": "white",
           "landcolor": "#E5ECF6",
           "showlakes": true,
           "showland": true,
           "subunitcolor": "white"
          },
          "hoverlabel": {
           "align": "left"
          },
          "hovermode": "closest",
          "mapbox": {
           "style": "light"
          },
          "paper_bgcolor": "white",
          "plot_bgcolor": "#E5ECF6",
          "polar": {
           "angularaxis": {
            "gridcolor": "white",
            "linecolor": "white",
            "ticks": ""
           },
           "bgcolor": "#E5ECF6",
           "radialaxis": {
            "gridcolor": "white",
            "linecolor": "white",
            "ticks": ""
           }
          },
          "scene": {
           "xaxis": {
            "backgroundcolor": "#E5ECF6",
            "gridcolor": "white",
            "gridwidth": 2,
            "linecolor": "white",
            "showbackground": true,
            "ticks": "",
            "zerolinecolor": "white"
           },
           "yaxis": {
            "backgroundcolor": "#E5ECF6",
            "gridcolor": "white",
            "gridwidth": 2,
            "linecolor": "white",
            "showbackground": true,
            "ticks": "",
            "zerolinecolor": "white"
           },
           "zaxis": {
            "backgroundcolor": "#E5ECF6",
            "gridcolor": "white",
            "gridwidth": 2,
            "linecolor": "white",
            "showbackground": true,
            "ticks": "",
            "zerolinecolor": "white"
           }
          },
          "shapedefaults": {
           "line": {
            "color": "#2a3f5f"
           }
          },
          "ternary": {
           "aaxis": {
            "gridcolor": "white",
            "linecolor": "white",
            "ticks": ""
           },
           "baxis": {
            "gridcolor": "white",
            "linecolor": "white",
            "ticks": ""
           },
           "bgcolor": "#E5ECF6",
           "caxis": {
            "gridcolor": "white",
            "linecolor": "white",
            "ticks": ""
           }
          },
          "title": {
           "x": 0.05
          },
          "xaxis": {
           "automargin": true,
           "gridcolor": "white",
           "linecolor": "white",
           "ticks": "",
           "title": {
            "standoff": 15
           },
           "zerolinecolor": "white",
           "zerolinewidth": 2
          },
          "yaxis": {
           "automargin": true,
           "gridcolor": "white",
           "linecolor": "white",
           "ticks": "",
           "title": {
            "standoff": 15
           },
           "zerolinecolor": "white",
           "zerolinewidth": 2
          }
         }
        },
        "xaxis": {
         "anchor": "y",
         "domain": [
          0,
          0.1075
         ],
         "title": {
          "text": "style"
         }
        },
        "xaxis2": {
         "anchor": "y2",
         "domain": [
          0.1275,
          0.235
         ],
         "matches": "x",
         "title": {
          "text": "style"
         }
        },
        "xaxis3": {
         "anchor": "y3",
         "domain": [
          0.255,
          0.3625
         ],
         "matches": "x",
         "title": {
          "text": "style"
         }
        },
        "xaxis4": {
         "anchor": "y4",
         "domain": [
          0.3825,
          0.49
         ],
         "matches": "x",
         "title": {
          "text": "style"
         }
        },
        "xaxis5": {
         "anchor": "y5",
         "domain": [
          0.51,
          0.6175
         ],
         "matches": "x",
         "title": {
          "text": "style"
         }
        },
        "xaxis6": {
         "anchor": "y6",
         "domain": [
          0.6375,
          0.745
         ],
         "matches": "x",
         "title": {
          "text": "style"
         }
        },
        "xaxis7": {
         "anchor": "y7",
         "domain": [
          0.765,
          0.8725
         ],
         "matches": "x",
         "title": {
          "text": "style"
         }
        },
        "xaxis8": {
         "anchor": "y8",
         "domain": [
          0.8925000000000001,
          1
         ],
         "matches": "x",
         "title": {
          "text": "style"
         }
        },
        "yaxis": {
         "anchor": "x",
         "domain": [
          0,
          1
         ],
         "title": {
          "text": "google"
         }
        },
        "yaxis2": {
         "anchor": "x2",
         "domain": [
          0,
          1
         ],
         "matches": "y",
         "showticklabels": false
        },
        "yaxis3": {
         "anchor": "x3",
         "domain": [
          0,
          1
         ],
         "matches": "y",
         "showticklabels": false
        },
        "yaxis4": {
         "anchor": "x4",
         "domain": [
          0,
          1
         ],
         "matches": "y",
         "showticklabels": false
        },
        "yaxis5": {
         "anchor": "x5",
         "domain": [
          0,
          1
         ],
         "matches": "y",
         "showticklabels": false
        },
        "yaxis6": {
         "anchor": "x6",
         "domain": [
          0,
          1
         ],
         "matches": "y",
         "showticklabels": false
        },
        "yaxis7": {
         "anchor": "x7",
         "domain": [
          0,
          1
         ],
         "matches": "y",
         "showticklabels": false
        },
        "yaxis8": {
         "anchor": "x8",
         "domain": [
          0,
          1
         ],
         "matches": "y",
         "showticklabels": false
        }
       }
      }
     },
     "metadata": {},
     "output_type": "display_data"
    }
   ],
   "source": [
    "fig = px.bar(topstyles, x='style', y='google', facet_col=\"continent\")#, text=styles['style'], textangle=90, textposition='outside',textfont={'family':\"Courier New, monospace\",\"size\":18, \"color\":\"RebeccaPurple\"})\n",
    "#fig.update_layout( autosize=False, width=800, height=800)\n",
    "fig.show()"
   ]
  },
  {
   "cell_type": "code",
   "execution_count": 38,
   "metadata": {},
   "outputs": [],
   "source": [
    "selstylesmap={\n",
    "    \"Central & South America\": [\n",
    "      \"Mesoamerican\",\n",
    "      #\"Stilt House\"\n",
    "    ],\n",
    "    \"Anglo World\": [\n",
    "      \"Ranch-style house\",\n",
    "      \"Victorian\",\n",
    "      \"Art Deco\"\n",
    "    ],\n",
    "    \"Intercultural\": [\n",
    "      \"Colonial\",\n",
    "      \"Brutalism\",\n",
    "      \"Contemporary\"\n",
    "    ],\n",
    "    \"Europe\": [\n",
    "      \"Ancient Greek\",\n",
    "      \"Ancient Roman\",\n",
    "      \"Romanesque\",\n",
    "      \"Gothic\",\n",
    "      \"Baroque\",\n",
    "      \"Renaissance\",\n",
    "      \"Neoclassical\",\n",
    "      \"Art Nouveau\",\n",
    "      \"Bauhaus\"\n",
    "    ],\n",
    "    \"North Eurasia\": [\n",
    "      \"Muscovite\",\n",
    "      \"Constructivism\"\n",
    "    ],\n",
    "    \"Sahel & Sub-Saharan Africa\": [\n",
    "      \"Mud Brick\",\n",
    "      \"Swahili\"\n",
    "    ],\n",
    "    \"Middle East & North Africa\": [\n",
    "      \"Ancient Egyptian\",\n",
    "      \"Modern Islamic\"\n",
    "    ],\n",
    "    \"South Asia\": [\n",
    "      \"Gupta\",\n",
    "      \"Indo-Saracenic\"\n",
    "    ],\n",
    "    \"East Asia\": [\n",
    "      \"Chinese Imperial\",\n",
    "      \"Edo Period\"\n",
    "    ],\n",
    "    \"Southeast Asia & South Pacific\": [\n",
    "      \"Khmer Empire\",\n",
    "      \"Thai\"\n",
    "    ],\n",
    "    \"Central Asia\": [\n",
    "      \"Timurid Period\",\n",
    "      \"Persian\"\n",
    "    ]\n",
    "  }"
   ]
  },
  {
   "cell_type": "code",
   "execution_count": 39,
   "metadata": {},
   "outputs": [],
   "source": [
    "selstyleslist=[vv for v in selstylesmap.values() for vv in v]\n",
    "selstylesset=set(selstyleslist)\n",
    "selstyles=styles[styles['style'].isin(selstylesset)]"
   ]
  },
  {
   "cell_type": "code",
   "execution_count": 40,
   "metadata": {},
   "outputs": [
    {
     "name": "stdout",
     "output_type": "stream",
     "text": [
      "Missing selected styles set()  of  30\n"
     ]
    }
   ],
   "source": [
    "print(\"Missing selected styles\", selstylesset-set(styles['style']), \" of \", len(selstylesset))"
   ]
  },
  {
   "cell_type": "code",
   "execution_count": 41,
   "metadata": {},
   "outputs": [],
   "source": [
    "for area, stylesA in selstylesmap.items():\n",
    "    for styleA in stylesA:\n",
    "        architects_by_style[styleA][\"selected\"]=True\n",
    "        architects_by_style[styleA][\"style_area\"]=area"
   ]
  },
  {
   "cell_type": "code",
   "execution_count": 42,
   "metadata": {},
   "outputs": [],
   "source": [
    "architects_by_style_sub={k:architects_by_style[k] for v in selstylesmap.values() for k in v} #  and \"icon\" in architects_by_style[k]"
   ]
  },
  {
   "cell_type": "code",
   "execution_count": 43,
   "metadata": {},
   "outputs": [],
   "source": [
    "with open(\"architect_styles_sub.json\", 'tw') as fo:\n",
    "    json.dump(architects_by_style_sub, fo, indent=4, ensure_ascii=False)"
   ]
  },
  {
   "cell_type": "code",
   "execution_count": 44,
   "metadata": {},
   "outputs": [],
   "source": [
    "with open(\"architect_styles.json\", 'tw') as fo:\n",
    "    json.dump(architects_by_style, fo, indent=4, ensure_ascii=False)"
   ]
  },
  {
   "cell_type": "code",
   "execution_count": 45,
   "metadata": {},
   "outputs": [
    {
     "data": {
      "text/plain": [
       "30"
      ]
     },
     "execution_count": 45,
     "metadata": {},
     "output_type": "execute_result"
    }
   ],
   "source": [
    "len(architects_by_style_sub)"
   ]
  },
  {
   "cell_type": "code",
   "execution_count": 46,
   "metadata": {},
   "outputs": [],
   "source": [
    "styles_sub=styles[styles['style'].isin(architects_by_style_sub.keys())]"
   ]
  },
  {
   "cell_type": "code",
   "execution_count": 47,
   "metadata": {},
   "outputs": [
    {
     "name": "stdout",
     "output_type": "stream",
     "text": [
      "Missing icon for style Ranch-style house\n"
     ]
    }
   ],
   "source": [
    "icons=[fn.replace('.png', '').replace('_', ' ').title() for fn in os.listdir('styles120') if fn.endswith(\".png\")]\n",
    "for style in styles_sub['style']:\n",
    "    if style not in icons:\n",
    "        print(f\"Missing icon for style {style}\")"
   ]
  },
  {
   "cell_type": "code",
   "execution_count": 48,
   "metadata": {},
   "outputs": [],
   "source": [
    "def dots(v):\n",
    "    if v==1.0: return '\\\\Dbbb'\n",
    "    if v>=0.66: return '\\\\Dbb'\n",
    "    if v>=0.33: return '\\\\Db'\n",
    "    if v<0: return 'ERR'\n",
    "    else: return '\\\\Dnb'\n",
    "\n",
    "oarea=\"\"\n",
    "out=\"\"\n",
    "for style, sinfo in architects_by_style_sub.items():\n",
    "    #if style == 'Mesoamerican': continue\n",
    "    archC,archQ=0,0\n",
    "    for arch in sinfo['architects']:\n",
    "        archC+=arch['valid']\n",
    "        archQ+=arch['quality']\n",
    "    archC/=len(sinfo['architects'])\n",
    "    archQ/=len(sinfo['architects'])\n",
    "    archE=sum(sinfo['style']['example_validity'].values())/len(sinfo['style']['example_validity'])/3\n",
    "    styleC=sinfo['valid']\n",
    "    styleC2=sinfo['valid2']\n",
    "    #print(f\"{style} & {styleC: .0%} & {sinfo['style']['quality']: .0%} & {archC: .0%} & {sinfo['style']['quality']: .0%} & {archE: .0%} & {sinfo['style']['example_quality']: .0%} \\\\\\\\\".replace(\"%\",\"\\,\\%\"))\n",
    "    area=sinfo['style_area'].replace('&','\\\\&') if sinfo['style_area'].replace('&','\\\\&') != oarea else '         '\n",
    "    oarea=sinfo['style_area'].replace('&','\\\\&')\n",
    "    out+=f\"{area} & {style} & {sinfo['Start_Year']} & {sinfo['End_Year']} & {dots(styleC)} & {dots(sinfo['style']['existence'])} & {dots(styleC2)} & {dots(sinfo['style']['quality'])} & {dots(archC)} & {dots(archQ)} & {dots(archE)} & {dots(sinfo['style']['example_quality'])} \\\\\\\\\\n\"\n",
    "with open(\"style_quality.tex\", 'tw') as fo:\n",
    "    fo.write(out)"
   ]
  },
  {
   "cell_type": "markdown",
   "metadata": {},
   "source": [
    "# Cache poems"
   ]
  },
  {
   "cell_type": "code",
   "execution_count": 49,
   "metadata": {},
   "outputs": [],
   "source": [
    "for style, sinfo in architects_by_style_sub.items():\n",
    "  if \"poems\" in sinfo:\n",
    "    os.makedirs(os.path.join(\"poems\", style), exist_ok=True)\n",
    "    for poem in sinfo['poems']:\n",
    "      poemhash=str(uuid.uuid3(uuid.NAMESPACE_X500, poem)) # compute hash for poem\n",
    "      for i, para in enumerate(poem.split(\"\\n\\n\")):\n",
    "        fn=os.path.join(\"assets\", \"poems\", style, poemhash+\"_\"+str(i))\n",
    "        if not os.path.exists(fn+\".mp3\"):\n",
    "          print(f\"Query {fn}\")\n",
    "          audio = generate( text=para, voice=\"MeAndMyself\", model=\"eleven_multilingual_v2\")\n",
    "          if audio: save(audio, fn+\".mp3\")"
   ]
  },
  {
   "cell_type": "markdown",
   "metadata": {},
   "source": [
    "## Calendar plot"
   ]
  },
  {
   "cell_type": "code",
   "execution_count": null,
   "metadata": {},
   "outputs": [],
   "source": [
    "#styles['Start_Year']=styles['Start_Year'].apply(lambda y: int(y.replace(' CE','').replace('present','2023')) if 'BCE' not in y else -int(y.replace(' BCE','')))\n",
    "#styles['End_Year']=styles['End_Year'].apply(lambda y: int(y.replace(' CE','').replace('present','2023')) if 'BCE' not in y else -int(y.replace(' BCE','')))\n",
    "#styles['Length']=styles['End_Year']-styles['Start_Year']\n",
    "styles['Past']=2025-styles['End_Year']\n",
    "styles['startY']=styles['Start_Year']\n",
    "styles['styleL']=styles['style']+\" \"\n",
    "styles"
   ]
  },
  {
   "cell_type": "code",
   "execution_count": null,
   "metadata": {},
   "outputs": [],
   "source": [
    "styles=styles.sort_values(by=['Start_Year','End_Year'])"
   ]
  },
  {
   "cell_type": "code",
   "execution_count": null,
   "metadata": {},
   "outputs": [],
   "source": [
    "styles_sub=styles[styles['style'].isin(architects_by_style_sub.keys())]\n",
    "#styles_sub=styles"
   ]
  },
  {
   "cell_type": "code",
   "execution_count": null,
   "metadata": {},
   "outputs": [],
   "source": [
    "fig = go.FigureWidget()\n",
    "fig.add_bar(x=styles_sub['style'], y=styles_sub['Length'], base=styles_sub['Past'], text=styles_sub[\"styleL\"])#, color=styles_sub[\"continent\"]\n",
    "fig.update_layout(\n",
    "    yaxis = dict(\n",
    "        tickmode = 'array',\n",
    "        tickvals = [    25,    125,    225,    325,    425,   525,   1025, 2025,      3025,      4025,     10025],\n",
    "        ticktext = ['2000', '1900', '1800', '1700', '1600', '1500', '1000',  '0', '1000 BC', '2000 BC', '8000 BC'],\n",
    "        range=[1,3025]\n",
    "    )\n",
    ")\n",
    "fig.update_traces(textangle=90, textposition=\"outside\", cliponaxis=False,width=.2)\n",
    "fig.update_layout(uniformtext_minsize=8, uniformtext_mode='show')\n",
    "fig.update_layout(autosize=False, width=800, height=1200, template=\"none\")\n",
    "fig.update_xaxes(visible=False, showticklabels=False)\n",
    "fig.show()"
   ]
  },
  {
   "cell_type": "code",
   "execution_count": null,
   "metadata": {},
   "outputs": [],
   "source": [
    "#fig.write_image(\"timeline_lin.png\")\n",
    "#fig.write_image(\"timeline_lin.svg\")"
   ]
  },
  {
   "cell_type": "code",
   "execution_count": null,
   "metadata": {},
   "outputs": [],
   "source": [
    "#tickvals2 = [     1,      5,     15,     25,    125,    225,    525,   1025, 2025,      4025,     12025]\n",
    "#ticktext2 = ['2024', '2020', '2010', '2000', '1900', '1800', '1500', '1000',  '0', '2000 BC', '10000 BC']\n",
    "tickvals2 = [      5,     15,     25,    125,    225,    525,   1025, 2025,      4025]\n",
    "ticktext2 = [ '2020', '2010', '2000', '1900', '1800', '1500', '1000',  '0', '2000 BC']\n",
    "mticks=sorted(set([(2025-r) for rr in [\n",
    "    range(2000,2025,1),\n",
    "    range(1800,2000,10),\n",
    "    range(1000,1800,100),\n",
    "    range(   0,1000,100),\n",
    "    range(-10000,1000,1000),\n",
    "    #range(-2000,1000,1000)\n",
    "] for r in rr if r not in tickvals2]))\n",
    "\n",
    "fig = go.FigureWidget()\n",
    "fig.add_bar(x=styles_sub['style'], y=styles_sub['Length'], base=styles_sub['Past'], text=styles_sub[\"styleL\"])#, color=styles_sub[\"continent\"]\n",
    "fig.update_layout(\n",
    "    yaxis = dict(\n",
    "        type = 'log',\n",
    "        tickangle=90,\n",
    "        tickmode = 'array',\n",
    "        tickvals = tickvals2,\n",
    "        ticktext = ticktext2,\n",
    "        minor=dict(ticks=\"inside\", ticklen=0, showgrid=True, \n",
    "            tickmode = 'array',\n",
    "            tickvals = mticks\n",
    "        ),\n",
    "        #range =[math.log(r) for r in [2,4025]]\n",
    "    )\n",
    ")\n",
    "fig.update_traces(textangle=90, textposition=\"outside\", cliponaxis=False,width=.1)\n",
    "fig.update_layout(uniformtext_minsize=8, uniformtext_mode='show')\n",
    "fig.update_layout(autosize=False, width=800, height=1600, template=\"none\")\n",
    "fig.update_xaxes(visible=False, showticklabels=False)\n",
    "fig.show()"
   ]
  },
  {
   "cell_type": "code",
   "execution_count": null,
   "metadata": {},
   "outputs": [],
   "source": [
    "fig.write_image(\"timeline_log.png\")\n",
    "fig.write_image(\"timeline_log.svg\")"
   ]
  },
  {
   "cell_type": "markdown",
   "metadata": {},
   "source": [
    "## Midjourney query generator"
   ]
  },
  {
   "cell_type": "code",
   "execution_count": null,
   "metadata": {},
   "outputs": [],
   "source": [
    "#from PIL import Image\n",
    "ignorestyle=set()\n",
    "for style, sinfo in architects_by_style_sub.items():\n",
    "    os.makedirs(f\"examples/{style}\", exist_ok=True)\n",
    "    for fn in os.listdir(f\"examples/{style}\"):\n",
    "        if fn.endswith(\".png\"):\n",
    "#            im = Image.open(f\"examples/{style}/\"+fn)\n",
    "#            im.load()\n",
    "#            print(fn, im.info['meta_to_read'])\n",
    "            ignorestyle.add(style)"
   ]
  },
  {
   "cell_type": "code",
   "execution_count": null,
   "metadata": {},
   "outputs": [],
   "source": [
    "addarchitects=True\n",
    "addterms=False\n",
    "addterms2=True\n",
    "addartstyle=True\n",
    "artstyle=\", real photography, taken on a Canon EOS R5, shot on kodak portra 200, film grain\""
   ]
  },
  {
   "cell_type": "code",
   "execution_count": null,
   "metadata": {},
   "outputs": [],
   "source": [
    "queries=[]\n",
    "for style, sinfo in architects_by_style_sub.items():\n",
    "    if style in ignorestyle: continue\n",
    "    os.makedirs(f\"style_generated/{style}\", exist_ok=True)\n",
    "    query=f\"building in '{style}' architecture style\"\n",
    "    for arch in sinfo['architects']:\n",
    "        queryA= query + ' by '+ arch['name']\n",
    "        if addterms: queryA+='::2, '+sinfo['terms'].replace('  ',' ')\n",
    "        if addterms2: queryA+='::2, '+sinfo['terms'].replace(',',' ').replace('  ',' ')\n",
    "        if addartstyle: queryA+=artstyle\n",
    "        queries.append(queryA)\n",
    "    if addterms: query+=':2, '+sinfo['terms'].replace('  ',' ')\n",
    "    if addterms2: query+=':2, '+sinfo['terms'].replace(',',' ').replace('  ',' ')\n",
    "    if addartstyle: query+=artstyle\n",
    "    queries.append(query)\n",
    "    query=f\"simple white icon of a building in '{style}' architecture style with black background::2\"\n",
    "    queries.append(query)\n",
    "    if addterms: query+=', '+sinfo['terms'].replace('  ',' ')\n",
    "    if addterms2: query+=', '+sinfo['terms'].replace(',',' ').replace('  ',' ')\n",
    "    queries.append(query)"
   ]
  },
  {
   "cell_type": "code",
   "execution_count": null,
   "metadata": {},
   "outputs": [],
   "source": [
    "pd.DataFrame(queries).to_csv(\"style_generated/queries.csv\", index=False, quoting=3, header=False, sep=\";\", escapechar=\"\\\\\")"
   ]
  },
  {
   "cell_type": "markdown",
   "metadata": {},
   "source": [
    "## Similarity"
   ]
  },
  {
   "cell_type": "code",
   "execution_count": null,
   "metadata": {},
   "outputs": [],
   "source": [
    "figfmt='svg' # None\n",
    "figw = 650\n",
    "figh = 600\n",
    "figm = dict(l=10, r=10, b=10, t=10, pad=4)\n",
    "figm=dict(l=10, r=10, b=10, t=10, pad=4)\n",
    "figmT=dict(l=10, r=10, b=10, t=30, pad=4)\n",
    "figlBC=dict(orientation=\"h\")\n",
    "figlBR=dict(orientation=\"h\", yanchor=\"bottom\", y=0.01, xanchor=\"right\", x=0.99)\n",
    "figlTL=dict(orientation=\"h\", yanchor=\"top\", y=0.99, xanchor=\"left\", x=0.01)\n",
    "figlTC=dict(orientation=\"h\", yanchor=\"top\", y=0.99)\n",
    "figfnt=dict(size=12)\n",
    "ccscale = [\"#E5ECF5\", \"Purple\"] ##512A8C\n",
    "ccscale = [\"#E5ECF5\", plotly.colors.carto.Bold[0]]"
   ]
  },
  {
   "cell_type": "code",
   "execution_count": null,
   "metadata": {},
   "outputs": [],
   "source": [
    "# cleanup terms\n",
    "for styleA, istyleA in architects_by_style_sub.items():\n",
    "    lc=Counter()\n",
    "    for c,v in istyleA[\"termsV2\"].items():\n",
    "        c=c.capitalize()\n",
    "        if c not in {\"C\",\"Err0\",\"Err1\",\"Err2\",\"True\"}:\n",
    "            c=c.replace(\"Temples\",\"Temple\")\n",
    "            c=c.replace(\"Palaces\",\"Palace\")\n",
    "            c=c.replace(\"Columns\",\"Column\")\n",
    "            c=c.replace(\"Courtyards\",\"Courtyard\")\n",
    "            c=c.replace(\"Pyramids\",\"Pyramid\")\n",
    "            c=c.replace(\"Domes\",\"Dome\")\n",
    "            c=c.replace(\"Gardens\",\"Garden\")\n",
    "            c=c.replace(\"Pilasters\",\"Pilaster\")\n",
    "            c=c.replace(\"Curves\",\"Curve\")\n",
    "            c=c.replace(\"Arches\",\"Arche\")\n",
    "            c=c.replace(\"Minarets\",\"Minaret\")\n",
    "            c=c.replace(\"Pillars\",\"Pillar\")\n",
    "            lc.update({c:v})\n",
    "    istyleA[\"termsV2\"]=lc"
   ]
  },
  {
   "cell_type": "code",
   "execution_count": null,
   "metadata": {},
   "outputs": [],
   "source": [
    "similarity=[]\n",
    "similarityM=[]\n",
    "termssim=[]\n",
    "similarityL=[styleA for styleA, istyleA in architects_by_style_sub.items()]\n",
    "termsAll=Counter()\n",
    "for styleA, istyleA in architects_by_style_sub.items():\n",
    "    termsAll.update(istyleA[\"termsV2\"])\n"
   ]
  },
  {
   "cell_type": "code",
   "execution_count": null,
   "metadata": {},
   "outputs": [],
   "source": [
    "for k,v in dict(termsAll.most_common(100)).items():\n",
    "    if k.endswith(\"s\"): print(k,v)"
   ]
  },
  {
   "cell_type": "code",
   "execution_count": null,
   "metadata": {},
   "outputs": [],
   "source": [
    "\n",
    "termsAll=dict(termsAll.most_common(len(similarityL)))\n",
    "termsAllS=set(termsAll.keys())\n",
    "for styleA, istyleA in architects_by_style_sub.items():\n",
    "    row=[]\n",
    "    similarityM.append(row)\n",
    "    termA=set(istyleA[\"termsV2\"].keys())\n",
    "    architects_by_style[styleA]['style_similarity']={}\n",
    "    architects_by_style[styleA]['style_similarity'][styleA]={\"unweighted\": 1.0, \"weighted\": 1.0}\n",
    "    architects_by_style_sub[styleA]['style_similarity']={}\n",
    "    architects_by_style_sub[styleA]['style_similarity'][styleA]={\"unweighted\": 1.0, \"weighted\": 1.0}\n",
    "    for styleB, istyleB in architects_by_style_sub.items():\n",
    "        if styleA!=styleB:\n",
    "            termB=set(istyleB[\"termsV2\"].keys())\n",
    "            cut=termA.intersection(termB)\n",
    "            cup=termA.union(termB)\n",
    "            # weight\n",
    "            cutw=sum([istyleA[\"termsV2\"][c] for c in cut])+sum([istyleB[\"termsV2\"][c] for c in cut])\n",
    "            cupw=sum(istyleA[\"termsV2\"].values())+sum(istyleB[\"termsV2\"].values())\n",
    "            #print(f\"Similarity '{styleA}':'{styleB}' is unweighted {len(cut)/len(cup): .0%} weighted {cutw/cupw: .0%}\")\n",
    "            similarity.append({'styleA':styleA, 'styleB':styleB, \"unweighted\": len(cut)/len(cup), \"weighted\": cutw/cupw})\n",
    "            row.append(cutw/cupw)\n",
    "            architects_by_style[styleA]['style_similarity'][styleB]={\"unweighted\": len(cut)/len(cup), \"weighted\": cutw/cupw}\n",
    "            architects_by_style_sub[styleA]['style_similarity'][styleB]={\"unweighted\": len(cut)/len(cup), \"weighted\": cutw/cupw}\n",
    "        else: row.append(0)\n",
    "    cut=termA.intersection(termsAllS)\n",
    "    for c in cut:\n",
    "        cutw=istyleA[\"termsV2\"][c]\n",
    "        termssim.append({'style':styleA, 'term':c, \"weighted\":cutw/2})\n",
    "similarity=pd.DataFrame(similarity)\n",
    "termssim=pd.DataFrame(termssim)"
   ]
  },
  {
   "cell_type": "code",
   "execution_count": null,
   "metadata": {},
   "outputs": [],
   "source": [
    "with open(\"architect_styles.json\", 'tw') as fo:\n",
    "    json.dump(architects_by_style, fo, indent=4, ensure_ascii=False)\n",
    "with open(\"architect_styles_sub.json\", 'tw') as fo:\n",
    "    json.dump(architects_by_style_sub, fo, indent=4, ensure_ascii=False)"
   ]
  },
  {
   "cell_type": "code",
   "execution_count": null,
   "metadata": {},
   "outputs": [],
   "source": [
    "termssim.sort_values(by=\"weighted\", ascending=False).head()"
   ]
  },
  {
   "cell_type": "code",
   "execution_count": null,
   "metadata": {},
   "outputs": [],
   "source": [
    "similarity.groupby(\"styleA\").sum().reset_index().sort_values(by=\"weighted\",ascending=False)"
   ]
  },
  {
   "cell_type": "code",
   "execution_count": null,
   "metadata": {},
   "outputs": [],
   "source": [
    "fig=px.density_heatmap(similarity, x='styleA', y='styleB', z='weighted', labels={\"weighted\":\"\"}, color_continuous_scale=px.colors.sequential.YlGnBu) # YlGnBu\n",
    "#fig=px.bar(archstylestats4, x='count', y='architect', color='type', barmode=\"overlay\", orientation='h', facet_col=\"style\")\n",
    "fig.update_layout(legend=dict(orientation=\"h\", yanchor=\"bottom\", y=0.01, xanchor=\"right\", x=0.99,title=\"Count\"), width=figw, height=figh, margin=figm, yaxis_categoryorder = 'max ascending', yaxis_tickmode='linear', xaxis_categoryorder = 'max ascending', xaxis_tickmode='linear', font=figfnt)\n",
    "fig.show(figfmt)\n",
    "#fig.write_image(\"../images/style_similarity.png\", width=figw, height=figh)\n",
    "#fig.write_image(\"../images/style_similarity.pdf\", width=figw, height=figh)"
   ]
  },
  {
   "cell_type": "code",
   "execution_count": null,
   "metadata": {},
   "outputs": [],
   "source": []
  },
  {
   "cell_type": "code",
   "execution_count": null,
   "metadata": {},
   "outputs": [],
   "source": [
    "fig=px.density_heatmap(similarity, x='styleA', y='styleB', z='weighted', labels={\"styleA\":\"Style A\",\"styleB\":\"Style B\"}, color_continuous_scale=ccscale) # YlGnBu\n",
    "#fig=px.bar(archstylestats4, x='count', y='architect', color='type', barmode=\"overlay\", orientation='h', facet_col=\"style\")\n",
    "\n",
    "# Vertical gridlines\n",
    "ls=len(similarity.styleA.unique())\n",
    "for i in range(ls+1):\n",
    "    fig.add_shape(go.layout.Shape(type=\"line\", x0=i-0.5, x1=i-0.5, y0=-0.5, y1=ls-0.5, line=dict(color=\"lightgray\")))\n",
    "    fig.add_shape(go.layout.Shape(type=\"line\", x0=-0.5, x1=ls-0.5, y0=i-0.5, y1=i-0.5, line=dict(color=\"lightgray\")))\n",
    "fig.update_layout(legend=dict(orientation=\"h\", yanchor=\"bottom\", y=0.01, xanchor=\"right\", x=0.99),coloraxis_colorbar_title_text=\"Sim.\", width=figw, height=figh, margin=figm, yaxis_categoryorder = 'max ascending', yaxis_tickmode='linear', xaxis_categoryorder = 'max ascending', xaxis_tickmode='linear', font=figfnt,coloraxis_colorbar_thickness=12,xaxis_showgrid=True, yaxis_showgrid=True,xaxis_side=\"top\")\n",
    "fig.show(figfmt)\n",
    "#fig.write_image(\"../images/style_similarity1.png\", width=figw, height=figh)\n",
    "#fig.write_image(\"../images/style_similarity1.pdf\", width=figw, height=figh)"
   ]
  },
  {
   "cell_type": "code",
   "execution_count": null,
   "metadata": {},
   "outputs": [],
   "source": [
    "selstyleslist=[\n",
    " 'Stilt House',\n",
    " 'Mud Brick',\n",
    " 'Swahili',\n",
    "\n",
    " 'Muscovite',\n",
    " 'Renaissance',\n",
    " 'Colonial Revival',\n",
    " 'Colonial',\n",
    " 'Neoclassical',\n",
    " 'Ancient Greek',\n",
    " 'Ancient Roman',\n",
    " 'Ancient Egyptian',\n",
    " 'Mesoamerican',\n",
    "\n",
    " 'Victorian',\n",
    " 'Baroque',\n",
    " 'Gothic',\n",
    " 'Romanesque',\n",
    " \n",
    " 'Art Nouveau',\n",
    " 'Art Deco',\n",
    " 'Brutalism',\n",
    " 'Contemporary',\n",
    " 'Bauhaus',\n",
    " 'Constructivism',\n",
    " 'Modern Islamic',\n",
    " \n",
    " 'Persian',\n",
    " 'Timurid Period',\n",
    " 'Gupta',\n",
    " 'Indo-Saracenic',\n",
    " 'Chinese Imperial',\n",
    " 'Khmer Empire',\n",
    " 'Thai',\n",
    " 'Edo Period']"
   ]
  },
  {
   "cell_type": "code",
   "execution_count": null,
   "metadata": {},
   "outputs": [],
   "source": [
    "fig=px.density_heatmap(similarity, x='styleA', y='styleB', z='weighted', labels={\"weighted\":\"\"}, color_continuous_scale=px.colors.sequential.YlGnBu) # YlGnBu\n",
    "fig.update_layout(legend=dict(orientation=\"h\", yanchor=\"bottom\", y=0.01, xanchor=\"right\", x=0.99,title=\"Count\"), width=figw, height=figh, margin=figm, yaxis_categoryorder = \"array\", yaxis_categoryarray= selstyleslist, yaxis_tickmode='linear', xaxis_categoryorder = 'array', xaxis_categoryarray= selstyleslist, xaxis_tickmode='linear', font=figfnt)\n",
    "fig.show(figfmt)\n",
    "#fig.write_image(\"../images/style_similarity.png\", width=figw, height=figh)\n",
    "#fig.write_image(\"../images/style_similarity.pdf\", width=figw, height=figh)"
   ]
  },
  {
   "cell_type": "code",
   "execution_count": null,
   "metadata": {},
   "outputs": [],
   "source": [
    "fig=px.density_heatmap(similarity, x='styleA', y='styleB', z='weighted', labels={\"styleA\":\"Style A\",\"styleB\":\"Style B\"}, color_continuous_scale=ccscale) # YlGnBu\n",
    "#fig=px.bar(archstylestats4, x='count', y='architect', color='type', barmode=\"overlay\", orientation='h', facet_col=\"style\")\n",
    "\n",
    "# Vertical gridlines\n",
    "ls=len(similarity.styleA.unique())\n",
    "for i in range(ls+1):\n",
    "    fig.add_shape(go.layout.Shape(type=\"line\", x0=i-0.5, x1=i-0.5, y0=-0.5, y1=ls-0.5, line=dict(color=\"lightgray\")))\n",
    "    fig.add_shape(go.layout.Shape(type=\"line\", x0=-0.5, x1=ls-0.5, y0=i-0.5, y1=i-0.5, line=dict(color=\"lightgray\")))\n",
    "#fig.update_layout(legend=dict(orientation=\"h\", yanchor=\"bottom\", y=0.01, xanchor=\"right\", x=0.99),coloraxis_colorbar_title_text=\"Sim.\", width=figw, height=figh, margin=figm, yaxis_categoryorder = 'max ascending', yaxis_tickmode='linear', xaxis_categoryorder = 'max ascending', xaxis_tickmode='linear', font=figfnt,coloraxis_colorbar_thickness=12,xaxis_showgrid=True, yaxis_showgrid=True,xaxis_side=\"top\")\n",
    "fig.update_layout(legend=dict(orientation=\"h\", yanchor=\"bottom\", y=0.01, xanchor=\"right\", x=0.99),coloraxis_colorbar_title_text=\"Sim.\", width=figw, height=figh, margin=figm, yaxis_categoryorder = \"array\", yaxis_categoryarray= selstyleslist, yaxis_tickmode='linear', xaxis_categoryorder = 'array', xaxis_categoryarray= selstyleslist, xaxis_tickmode='linear', font=figfnt,coloraxis_colorbar_thickness=12,xaxis_showgrid=True, yaxis_showgrid=True,xaxis_side=\"top\")\n",
    "fig.show(figfmt)\n",
    "fig.write_image(\"../images/style_similarity.png\", width=figw, height=figh)\n",
    "fig.write_image(\"../images/style_similarity.pdf\", width=figw, height=figh)"
   ]
  },
  {
   "cell_type": "code",
   "execution_count": null,
   "metadata": {},
   "outputs": [],
   "source": [
    "fig=px.density_heatmap(termssim, y='style', x='term', z='weighted', labels={\"style\":\"Style\",\"term\":\"Characteristic Words\"}, color_continuous_scale=ccscale) # YlGnBu\n",
    "#fig=px.bar(archstylestats4, x='count', y='architect', color='type', barmode=\"overlay\", orientation='h', facet_col=\"style\")\n",
    "\n",
    "# Vertical gridlines\n",
    "ls=len(similarity.styleA.unique())\n",
    "for i in range(ls+1):\n",
    "    fig.add_shape(go.layout.Shape(type=\"line\", x0=i-0.5, x1=i-0.5, y0=-0.5, y1=ls-0.5, line=dict(color=\"lightgray\")))\n",
    "    fig.add_shape(go.layout.Shape(type=\"line\", x0=-0.5, x1=ls-0.5, y0=i-0.5, y1=i-0.5, line=dict(color=\"lightgray\")))\n",
    "fig.update_layout(legend=dict(orientation=\"h\", yanchor=\"bottom\", y=0.01, xanchor=\"right\", x=0.99),coloraxis_colorbar_title_text=\"Count\", width=figw, height=figh, margin=figm, xaxis_categoryorder = 'max descending', xaxis_tickmode='linear', yaxis_categoryorder = 'array', yaxis_categoryarray= selstyleslist, yaxis_tickmode='linear', font=figfnt,coloraxis_colorbar_thickness=12,xaxis_showgrid=True, yaxis_showgrid=True,xaxis_side=\"top\")\n",
    "fig.show(figfmt)\n",
    "fig.write_image(\"../images/style_term_similarity.png\", width=figw, height=figh)\n",
    "fig.write_image(\"../images/style_term_similarity.pdf\", width=figw, height=figh)"
   ]
  },
  {
   "cell_type": "code",
   "execution_count": null,
   "metadata": {},
   "outputs": [],
   "source": [
    "similarityA=[]\n",
    "for areaA, stylesA in selstylesmap.items():\n",
    "    for areaB, stylesB in selstylesmap.items():\n",
    "        if areaA!=areaB:\n",
    "            termsA=Counter()\n",
    "            termsB=Counter()\n",
    "            for styleA in stylesA:\n",
    "                termsA.update(architects_by_style_sub[styleA][\"termsV2\"])\n",
    "            for styleB in stylesB:\n",
    "                termsB.update(architects_by_style_sub[styleB][\"termsV2\"])\n",
    "            termA=set(termsA.keys())-{\"c\",\"err0\",\"err1\",\"err2\"}\n",
    "            termB=set(termsB.keys())-{\"c\",\"err0\",\"err1\",\"err2\"}\n",
    "            cut=termA.intersection(termB)\n",
    "            cup=termA.union(termB)\n",
    "            # weight\n",
    "            cutw=sum([termsA[c] for c in cut if c in termA])+sum([termsB[c] for c in cut if c in termB])\n",
    "            cupw=sum(termsA.values())+sum(termsB.values())\n",
    "            #print(f\"Similarity '{styleA}':'{styleB}' is unweighted {len(cut)/len(cup): .0%} weighted {cutw/cupw: .0%}\")\n",
    "            similarityA.append({'areaA':areaA, 'areaB':areaB, \"unweighted\":len(cut)/len(cup),\"weighted\":cutw/cupw})\n",
    "        else:\n",
    "            cutU,cupU,cutW,cupW=0,0,0,0\n",
    "            for styleA in stylesA:\n",
    "                istyleA=architects_by_style_sub[styleA][\"termsV2\"]\n",
    "                for styleB in stylesB:\n",
    "                    istyleB=architects_by_style_sub[styleB][\"termsV2\"]\n",
    "                    if styleA!=styleB:\n",
    "                        termA=set(istyleA.keys())-{\"c\",\"err0\",\"err1\",\"err2\"}\n",
    "                        termB=set(istyleB.keys())-{\"c\",\"err0\",\"err1\",\"err2\"}\n",
    "                        cut=termA.intersection(termB)\n",
    "                        cup=termA.union(termB)\n",
    "                        # weight\n",
    "                        cutU+=len(cut)\n",
    "                        cupU+=len(cup)\n",
    "                        cutW+=sum([istyleA[c] for c in cut if c in termA])+sum([istyleB[c] for c in cut if c in termB])\n",
    "                        cupW+=sum(istyleA.values())+sum(istyleB.values())\n",
    "                        #print(f\"Similarity '{styleA}':'{styleB}' is unweighted {len(cut)/len(cup): .0%} weighted {cutw/cupw: .0%}\")\n",
    "            similarityA.append({'areaA':areaA, 'areaB':areaB, \"unweighted\":cutU/cupU,\"weighted\":cutW/cupW})\n",
    "similarityA=pd.DataFrame(similarityA)"
   ]
  },
  {
   "cell_type": "code",
   "execution_count": null,
   "metadata": {},
   "outputs": [],
   "source": [
    "fig=px.density_heatmap(similarityA, x='areaA', y='areaB', z='weighted', labels={\"weighted\":\"\"}, color_continuous_scale=px.colors.sequential.YlGnBu) # YlGnBu\n",
    "#fig=px.bar(archstylestats4, x='count', y='architect', color='type', barmode=\"overlay\", orientation='h', facet_col=\"style\")\n",
    "#fig.update_layout(legend=dict(orientation=\"h\", yanchor=\"bottom\", y=0.01, xanchor=\"right\", x=0.99,title=\"Count\"), width=figw, height=figh, margin=figm, yaxis_categoryorder = 'max ascending', yaxis_tickmode='linear', xaxis_categoryorder = 'max ascending', xaxis_tickmode='linear', font=figfnt)\n",
    "fig.update_layout(legend=dict(orientation=\"h\", yanchor=\"bottom\", y=0.01, xanchor=\"right\", x=0.99,title=\"Count\"), width=figw, height=figh, margin=figm, yaxis_categoryorder = 'array', yaxis_tickmode='linear', xaxis_categoryorder = 'array', xaxis_tickmode='linear', font=figfnt)\n",
    "fig.show(figfmt)\n",
    "fig.write_image(\"../images/style_area_similarity.png\", width=figw, height=figh)\n",
    "fig.write_image(\"../images/style_area_similarity.pdf\", width=figw, height=figh)"
   ]
  },
  {
   "cell_type": "code",
   "execution_count": null,
   "metadata": {},
   "outputs": [],
   "source": [
    "similarityA2=[]\n",
    "for areaA, stylesA in selstylesmap.items():\n",
    "    for areaB, stylesB in selstylesmap.items():\n",
    "            cutU,cupU,cutW,cupW=0,0,0,0\n",
    "            for styleA in stylesA:\n",
    "                istyleA=architects_by_style_sub[styleA][\"termsV2\"]\n",
    "                for styleB in stylesB:\n",
    "                    istyleB=architects_by_style_sub[styleB][\"termsV2\"]\n",
    "                    if styleA!=styleB:\n",
    "                        termA=set(istyleA.keys())\n",
    "                        termB=set(istyleB.keys())\n",
    "                        cut=termA.intersection(termB)\n",
    "                        cup=termA.union(termB)\n",
    "                        # weight\n",
    "                        cutU+=len(cut)\n",
    "                        cupU+=len(cup)\n",
    "                        cutW+=sum([istyleA[c] for c in cut if c in termA])+sum([istyleB[c] for c in cut if c in termB])\n",
    "                        cupW+=sum(istyleA.values())+sum(istyleB.values())\n",
    "                        #print(f\"Similarity '{styleA}':'{styleB}' is unweighted {len(cut)/len(cup): .0%} weighted {cutw/cupw: .0%}\")\n",
    "            similarityA2.append({'areaA':areaA, 'areaB':areaB, \"unweighted\":cutU/cupU,\"weighted\":cutW/cupW})\n",
    "similarityA2=pd.DataFrame(similarityA2)"
   ]
  },
  {
   "cell_type": "code",
   "execution_count": null,
   "metadata": {},
   "outputs": [],
   "source": [
    "fig=px.density_heatmap(similarityA, x='areaA', y='areaB', z='weighted', labels={\"weighted\":\"\"}, color_continuous_scale=px.colors.sequential.YlGnBu) # YlGnBu\n",
    "#fig=px.bar(archstylestats4, x='count', y='architect', color='type', barmode=\"overlay\", orientation='h', facet_col=\"style\")\n",
    "fig.update_layout(legend=dict(orientation=\"h\", yanchor=\"bottom\", y=0.01, xanchor=\"right\", x=0.99,title=\"Count\"), width=figw, height=figh, margin=figm, yaxis_categoryorder = \"array\", yaxis_tickmode='linear', xaxis_categoryorder = 'array', xaxis_tickmode='linear', font=figfnt)\n",
    "fig.show(figfmt)\n",
    "fig.write_image(\"../images/style_area_similarity2.png\", width=figw, height=figh)\n",
    "fig.write_image(\"../images/style_area_similarity2.pdf\", width=figw, height=figh)"
   ]
  },
  {
   "cell_type": "code",
   "execution_count": null,
   "metadata": {},
   "outputs": [],
   "source": [
    "n_c=7\n",
    "\n",
    "import numpy as np\n",
    "from sklearn.cluster import SpectralCoclustering\n",
    "\n",
    "data=np.asarray(np.matrix(similarityM))\n",
    "\n",
    "model = SpectralCoclustering(n_clusters=n_c, random_state=0)\n",
    "model.fit(data)\n",
    "\n",
    "rowsort=np.argsort(model.row_labels_)\n",
    "colsort=np.argsort(model.column_labels_)\n",
    "\n",
    "fit_data = data[rowsort]\n",
    "fit_data = fit_data[:,colsort]\n",
    "\n",
    "#plt.matshow(data, cmap=plt.cm.Blues)\n",
    "#plt.title(\"Original dataset\")\n",
    "#plt.matshow(fit_data, cmap=plt.cm.Blues)\n",
    "#plt.title(\"After biclustering; rearranged to show biclusters\")\n",
    "#plt.show()\n",
    "\n",
    "fig=px.density_heatmap(similarity, x='styleA', y='styleB', z='weighted', labels={\"weighted\":\"\"}, color_continuous_scale=ccscale) # YlGnBu\n",
    "fig.update_layout(legend=dict(orientation=\"h\", yanchor=\"bottom\", y=0.01, xanchor=\"right\", x=0.99,title=\"Count\"), width=figw, height=figh, margin=figm, yaxis_categoryorder = \"array\", yaxis_categoryarray= [similarityL[i] for i in colsort], yaxis_tickmode='linear', xaxis_categoryorder = 'array', xaxis_categoryarray= [similarityL[i] for i in rowsort], xaxis_tickmode='linear', font=figfnt)\n",
    "fig.show(figfmt)\n",
    "#fig.write_image(\"../images/style_similarity3.png\", width=figw, height=figh)\n",
    "#fig.write_image(\"../images/style_similarity3.pdf\", width=figw, height=figh)"
   ]
  },
  {
   "cell_type": "code",
   "execution_count": null,
   "metadata": {},
   "outputs": [],
   "source": []
  },
  {
   "cell_type": "code",
   "execution_count": null,
   "metadata": {},
   "outputs": [],
   "source": []
  },
  {
   "cell_type": "code",
   "execution_count": null,
   "metadata": {},
   "outputs": [],
   "source": []
  },
  {
   "cell_type": "code",
   "execution_count": null,
   "metadata": {},
   "outputs": [],
   "source": []
  },
  {
   "cell_type": "code",
   "execution_count": null,
   "metadata": {},
   "outputs": [],
   "source": []
  }
 ],
 "metadata": {
  "kernelspec": {
   "display_name": "masdd",
   "language": "python",
   "name": "python3"
  },
  "language_info": {
   "codemirror_mode": {
    "name": "ipython",
    "version": 3
   },
   "file_extension": ".py",
   "mimetype": "text/x-python",
   "name": "python",
   "nbconvert_exporter": "python",
   "pygments_lexer": "ipython3",
   "version": "3.8.13"
  },
  "orig_nbformat": 4
 },
 "nbformat": 4,
 "nbformat_minor": 2
}
