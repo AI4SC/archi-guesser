{
 "cells": [
  {
   "cell_type": "code",
   "execution_count": null,
   "metadata": {},
   "outputs": [],
   "source": [
    "import os\n",
    "import openai\n",
    "import pandas as pd\n",
    "import json\n",
    "from collections import Counter\n",
    "import plotly.express as px\n",
    "import plotly\n",
    "from tqdm import tqdm\n",
    "from ray.util.multiprocessing import Pool\n",
    "import uuid"
   ]
  },
  {
   "cell_type": "code",
   "execution_count": null,
   "metadata": {},
   "outputs": [],
   "source": [
    "generate_poems = False # Set true if poems should be generated and cached"
   ]
  },
  {
   "cell_type": "code",
   "execution_count": null,
   "metadata": {},
   "outputs": [],
   "source": [
    "# Needed for querying style content from ChatGPT\n",
    "if \"OPENAI_API_KEY\" not in os.environ:\n",
    "    raise Exception(\"Missing OPENAI_API_KEY\")\n",
    "\n",
    "# Needed for generating poems\n",
    "if generate_poems:\n",
    "    from elevenlabs import generate, save\n",
    "    if \"ELEVEN_API_KEY\" not in os.environ:\n",
    "        raise Exception(\"Missing ELEVEN_API_KEY\")"
   ]
  },
  {
   "cell_type": "code",
   "execution_count": null,
   "metadata": {},
   "outputs": [],
   "source": [
    "# The final subselection of architectural styles\n",
    "selstylesmap={\n",
    "    \"Central & South America\": [\n",
    "      \"Mesoamerican\",\n",
    "      #\"Stilt House\"\n",
    "    ],\n",
    "    \"Anglo World\": [\n",
    "      \"Ranch-style House\",\n",
    "      \"Victorian\",\n",
    "      \"Art Deco\"\n",
    "    ],\n",
    "    \"Intercultural\": [\n",
    "      \"Colonial\",\n",
    "      \"Brutalism\",\n",
    "      \"Contemporary\"\n",
    "    ],\n",
    "    \"Europe\": [\n",
    "      \"Ancient Greek\",\n",
    "      \"Ancient Roman\",\n",
    "      \"Romanesque\",\n",
    "      \"Gothic\",\n",
    "      \"Baroque\",\n",
    "      \"Renaissance\",\n",
    "      \"Neoclassical\",\n",
    "      \"Art Nouveau\",\n",
    "      \"Bauhaus\"\n",
    "    ],\n",
    "    \"North Eurasia\": [\n",
    "      \"Muscovite\",\n",
    "      \"Constructivism\"\n",
    "    ],\n",
    "    \"Sahel & Sub-Saharan Africa\": [\n",
    "      \"Mud Brick\",\n",
    "      \"Swahili\"\n",
    "    ],\n",
    "    \"Middle East & North Africa\": [\n",
    "      \"Ancient Egyptian\",\n",
    "      \"Modern Islamic\"\n",
    "    ],\n",
    "    \"South Asia\": [\n",
    "      \"Gupta\",\n",
    "      \"Indo-Saracenic\"\n",
    "    ],\n",
    "    \"East Asia\": [\n",
    "      \"Chinese Imperial\",\n",
    "      \"Edo Period\"\n",
    "    ],\n",
    "    \"Southeast Asia & South Pacific\": [\n",
    "      \"Khmer Empire\",\n",
    "      \"Thai\"\n",
    "    ],\n",
    "    \"Central Asia\": [\n",
    "      \"Timurid Period\",\n",
    "      \"Persian\"\n",
    "    ]\n",
    "  }"
   ]
  },
  {
   "cell_type": "code",
   "execution_count": null,
   "metadata": {},
   "outputs": [],
   "source": [
    "openai.api_key = os.getenv(\"OPENAI_API_KEY\")\n",
    "openai.request_timeout=30.0"
   ]
  },
  {
   "cell_type": "code",
   "execution_count": null,
   "metadata": {},
   "outputs": [],
   "source": [
    "## Load a list of architecture styles\n",
    "styles=pd.read_csv('datasets/architect_styles.csv')\n",
    "styles['Start_Year']=styles['Start_Year'].apply(lambda y: int(y.replace(' CE','').replace('present','2023')) if 'BCE' not in y else -int(y.replace(' BCE','')))\n",
    "styles['End_Year']=styles['End_Year'].apply(lambda y: int(y.replace(' CE','').replace('present','2023')) if 'BCE' not in y else -int(y.replace(' BCE','')))\n",
    "styles['Length']=styles['End_Year']-styles['Start_Year']\n",
    "styles.head()"
   ]
  },
  {
   "cell_type": "code",
   "execution_count": null,
   "metadata": {},
   "outputs": [],
   "source": [
    "with open(\"datasets/architect_styles.json\", 'tr') as fi:\n",
    "    architects_by_style=json.load(fi)"
   ]
  },
  {
   "cell_type": "code",
   "execution_count": null,
   "metadata": {},
   "outputs": [],
   "source": [
    "pool = Pool()"
   ]
  },
  {
   "cell_type": "code",
   "execution_count": null,
   "metadata": {},
   "outputs": [],
   "source": [
    "architects_by_style = {i: architects_by_style[i] for i in sorted(list(architects_by_style.keys()))}"
   ]
  },
  {
   "cell_type": "code",
   "execution_count": null,
   "metadata": {},
   "outputs": [],
   "source": [
    "with open(\"datasets/architect_style_cnt.json\", 'tr') as fi:\n",
    "    architect_style_cnt=json.load(fi)"
   ]
  },
  {
   "cell_type": "markdown",
   "metadata": {},
   "source": [
    "## Collect Style Data from ChatGPT"
   ]
  },
  {
   "cell_type": "code",
   "execution_count": null,
   "metadata": {},
   "outputs": [],
   "source": [
    "completed=False\n",
    "while not completed:\n",
    "    completed=True\n",
    "    for continent in [\"europe\",\"america\",\"asia\",\"arabia\",\"africa\",\"australia\",\"the world\"]:\n",
    "        if continent not in architect_style_cnt:\n",
    "            architect_style_cnt[continent]=[]\n",
    "            for i in range(10):\n",
    "                try:\n",
    "                    completion = openai.ChatCompletion.create(\n",
    "                        model=\"gpt-3.5-turbo\",\n",
    "                        messages=[ {\"role\": \"user\", \"content\": f'List the name of the top 10 most important architecture styles in {continent} as JSON'}]\n",
    "                    )\n",
    "                    reply = completion.choices[0].message.content\n",
    "                    try:\n",
    "                        architect_style_cnt[continent].append(json.loads(reply))\n",
    "                    except:\n",
    "                        print(f\"Error decoding {continent}-{i}\")\n",
    "                        print(reply)\n",
    "                    completed=False\n",
    "                except:\n",
    "                    print(f\"Error processing {continent}-{i}\")\n",
    "            with open(\"datasets/architect_style_cnt.json\", 'tw') as fo:\n",
    "                json.dump(architect_style_cnt, fo, indent=4, ensure_ascii=False)\n",
    "        else:\n",
    "            pass; # print(f\"Skip {style}\")"
   ]
  },
  {
   "cell_type": "code",
   "execution_count": null,
   "metadata": {},
   "outputs": [],
   "source": [
    "with open(\"datasets/architect_style_cnt.json\", 'tw') as fo:\n",
    "    json.dump(architect_style_cnt, fo, indent=4, ensure_ascii=False)"
   ]
  },
  {
   "cell_type": "code",
   "execution_count": null,
   "metadata": {},
   "outputs": [],
   "source": [
    "architect_style_cnt2={}\n",
    "architect_style_cnt2[\"ALL\"]=Counter()\n",
    "for k,v in architect_style_cnt.items():\n",
    "    architect_style_cnt2[k]=Counter()\n",
    "    for vv in architect_style_cnt[k]:\n",
    "        architect_style_cnt2[k].update(vv)\n",
    "    architect_style_cnt2[\"ALL\"].update(architect_style_cnt2[k])\n",
    "    architect_style_cnt2[k]=dict(architect_style_cnt2[k])\n",
    "\n",
    "architect_style_cnt2[\"ALL\"]=dict(architect_style_cnt2[\"ALL\"].most_common(42))"
   ]
  },
  {
   "cell_type": "code",
   "execution_count": null,
   "metadata": {},
   "outputs": [],
   "source": [
    "with open(\"datasets/architect_style_cnt2.json\", 'tw') as fo:\n",
    "    json.dump(architect_style_cnt2, fo, indent=4, ensure_ascii=False)"
   ]
  },
  {
   "cell_type": "code",
   "execution_count": null,
   "metadata": {},
   "outputs": [],
   "source": [
    "completed=False\n",
    "while not completed:\n",
    "    completed=True\n",
    "    for style in tqdm(styles['style']):\n",
    "        if style not in architects_by_style or 'architects' not in architects_by_style[style]:\n",
    "            try:\n",
    "                #print(f\"Query {style}\")\n",
    "                completion = openai.ChatCompletion.create(\n",
    "                    model=\"gpt-3.5-turbo\",\n",
    "                    messages=[ {\"role\": \"user\", \"content\": f'List 3 famous architects with name, birth date, death date, nationality, description, and notable buildings for \"{style}\" architecture style as JSON'}]\n",
    "                )\n",
    "                reply = completion.choices[0].message.content\n",
    "                try:\n",
    "                    architects_by_style[style]={'architects':json.loads(reply)}['architects']\n",
    "                except:\n",
    "                    print(f\"Error decoding {style}\")\n",
    "                    print(reply)\n",
    "                    architects_by_style[style]={'reply':reply}\n",
    "                with open(\"datasets/architect_styles.json\", 'tw') as fo:\n",
    "                    json.dump(architects_by_style, fo, indent=4, ensure_ascii=False)\n",
    "                completed=False\n",
    "            except:\n",
    "                print(f\"Error processing {style}\")\n",
    "        else:\n",
    "            pass; # print(f\"Skip {style}\")"
   ]
  },
  {
   "cell_type": "code",
   "execution_count": null,
   "metadata": {},
   "outputs": [],
   "source": [
    "completed=False\n",
    "while not completed:\n",
    "    completed=True\n",
    "    for style in tqdm(styles['style']):\n",
    "        for arch in architects_by_style[style]['architects']:\n",
    "            if 'quality' not in arch: arch['quality']=-1\n",
    "            if 'valid' not in arch:\n",
    "                #print(f\"Query {arch['name']}/{style}\")\n",
    "                arch['valid']=[]\n",
    "                for i in range(3):\n",
    "                    try:\n",
    "                        completion = openai.ChatCompletion.create(\n",
    "                            model=\"gpt-3.5-turbo\",\n",
    "                            messages=[ {\"role\": \"user\", \"content\": f\"Was '{arch['name']}' an architect of the '{style}' architecture style, answer with yes or no?\"}]\n",
    "                        )\n",
    "                        arch['valid'].append(completion.choices[0].message.content.replace(\".\",\"\"))\n",
    "                        completed=False\n",
    "                    except:\n",
    "                        print(f\"Error processing {style}\")\n",
    "            else:\n",
    "                pass; # print(f\"Skip {style}\")\n",
    "        with open(\"datasets/architect_styles.json\", 'tw') as fo:\n",
    "            json.dump(architects_by_style, fo, indent=4, ensure_ascii=False)"
   ]
  },
  {
   "cell_type": "code",
   "execution_count": null,
   "metadata": {},
   "outputs": [],
   "source": [
    "def validate_example(style, example):\n",
    "    try:\n",
    "        completion = openai.ChatCompletion.create(\n",
    "            model=\"gpt-3.5-turbo\",\n",
    "            messages=[ {\"role\": \"user\", \"content\": f\"Does '{example}' represent the '{style}' architecture style, answer with yes or no?\"}]\n",
    "        )\n",
    "        return {'style':style, 'example':example, 'vote':completion.choices[0].message.content.replace(\".\",\"\")}\n",
    "    except:\n",
    "        return None\n",
    "\n",
    "while True:\n",
    "    jobs=[]\n",
    "    for style in tqdm(styles['style']):\n",
    "        if 'quality' not in architects_by_style[style]['style']:\n",
    "            architects_by_style[style]['style']['quality']=-1\n",
    "        if 'existence' not in architects_by_style[style]['style']:\n",
    "            architects_by_style[style]['style']['existence']=-1\n",
    "        if 'example_quality' not in architects_by_style[style]['style']:\n",
    "            architects_by_style[style]['style']['example_quality']=-1\n",
    "        if 'example_validity' not in architects_by_style[style]['style']:\n",
    "            architects_by_style[style]['style']['example_validity']={}\n",
    "            for example in architects_by_style[style]['style']['examples']:\n",
    "                for i in range(3):\n",
    "                    jobs.append((style, example))\n",
    "    if jobs:\n",
    "        print(f\"Query {len(jobs)} jobs\")\n",
    "        for res in pool.starmap(validate_example, jobs, chunksize=1):\n",
    "            if res:\n",
    "                style=res['style']\n",
    "                example=res['example']\n",
    "                if example not in architects_by_style[style]['style']['example_validity']:\n",
    "                    architects_by_style[style]['style']['example_validity'][example]=[]\n",
    "                architects_by_style[style]['style']['example_validity'][example].append(res['vote'])\n",
    "    else:\n",
    "        break"
   ]
  },
  {
   "cell_type": "code",
   "execution_count": null,
   "metadata": {},
   "outputs": [],
   "source": [
    "with open(\"datasets/architect_styles.json\", 'tw') as fo:\n",
    "    json.dump(architects_by_style, fo, indent=4, ensure_ascii=False)"
   ]
  },
  {
   "cell_type": "code",
   "execution_count": null,
   "metadata": {},
   "outputs": [],
   "source": [
    "completed=False\n",
    "while not completed:\n",
    "    completed=True\n",
    "    for style in tqdm(styles['style']):\n",
    "        if style not in architects_by_style or 'style' not in architects_by_style[style] or 'period' not in architects_by_style[style]['style']:\n",
    "            try:\n",
    "                #print(f\"Query {style}\")\n",
    "                completion = openai.ChatCompletion.create(\n",
    "                    model=\"gpt-3.5-turbo\",\n",
    "                    messages=[{\"role\": \"user\", \"content\": f'What is the time range, period, description, characteristics, examples, continent, and country of the \"{style}\" architecture style as JSON'}]\n",
    "                )\n",
    "                reply = completion.choices[0].message.content\n",
    "                try:\n",
    "                    if style not in architects_by_style: architects_by_style[style]={}\n",
    "                    architects_by_style[style]['style']=json.loads(reply)\n",
    "                except:\n",
    "                    print(f\"Error decoding {style}\")\n",
    "                    print(reply)\n",
    "                    architects_by_style[style]['reply2']=reply\n",
    "                with open(\"datasets/architect_styles.json\", 'tw') as fo:\n",
    "                    json.dump(architects_by_style, fo, indent=4, ensure_ascii=False)\n",
    "                completed=False\n",
    "            except:\n",
    "                print(f\"Error processing {style}\")\n",
    "        else:\n",
    "            pass; # print(f\"Skip {style}\")"
   ]
  },
  {
   "cell_type": "code",
   "execution_count": null,
   "metadata": {},
   "outputs": [],
   "source": [
    "completed=False\n",
    "while not completed:\n",
    "    completed=True\n",
    "    for style in tqdm(styles['style']):\n",
    "        if style in architects_by_style and 'valid' not in architects_by_style[style]:\n",
    "            #print(f\"Query {style}\")\n",
    "            architects_by_style[style]['valid']=[]\n",
    "            for i in range(3):\n",
    "                try:\n",
    "                    completion = openai.ChatCompletion.create(\n",
    "                        model=\"gpt-3.5-turbo\",\n",
    "                        messages=[ {\"role\": \"user\", \"content\": f\"Was '{style}' an architecture style, answer with yes or no?\"}]\n",
    "                    )\n",
    "                    architects_by_style[style]['valid'].append(completion.choices[0].message.content.replace(\".\",\"\"))\n",
    "                    completed=False\n",
    "                except:\n",
    "                    print(f\"Error processing {style}\")\n",
    "            with open(\"datasets/architect_styles.json\", 'tw') as fo:\n",
    "                json.dump(architects_by_style, fo, indent=4, ensure_ascii=False)\n",
    "        else:\n",
    "            pass; # print(f\"Skip {style}\")"
   ]
  },
  {
   "cell_type": "code",
   "execution_count": null,
   "metadata": {},
   "outputs": [],
   "source": [
    "completed=False\n",
    "while not completed:\n",
    "    completed=True\n",
    "    for style in tqdm(styles['style']):\n",
    "        if style in architects_by_style and 'valid2' not in architects_by_style[style]:\n",
    "            #print(f\"Query {style}\")\n",
    "            architects_by_style[style]['valid2']=0\n",
    "            for i in range(3):\n",
    "                try:\n",
    "                    text=architects_by_style[style]['style']['description'].replace(style,\" \")\n",
    "                    completion = openai.ChatCompletion.create(\n",
    "                        model=\"gpt-3.5-turbo\",\n",
    "                        messages=[ {\"role\": \"user\", \"content\": f\"Does this '{text}'  the '{style}' architecture style, answer with yes or no?\"}]\n",
    "                    )\n",
    "                    res=completion.choices[0].message.content.replace(\".\",\"\")\n",
    "                    architects_by_style[style]['valid2']+=1.0/3.0 if res.startswith(\"Yes\") else 0.0\n",
    "                    completed=False\n",
    "                except Exception as e:\n",
    "                    print(f\"Error processing {style}\", e)\n",
    "            with open(\"datasets/architect_styles.json\", 'tw') as fo:\n",
    "                json.dump(architects_by_style, fo, indent=4, ensure_ascii=False)\n",
    "        else:\n",
    "            pass; # print(f\"Skip {style}\")"
   ]
  },
  {
   "cell_type": "code",
   "execution_count": null,
   "metadata": {},
   "outputs": [],
   "source": [
    "with open(\"datasets/architect_styles.json\", 'tw') as fo:\n",
    "    json.dump(architects_by_style, fo, indent=4, ensure_ascii=False)"
   ]
  },
  {
   "cell_type": "code",
   "execution_count": null,
   "metadata": {},
   "outputs": [],
   "source": [
    "completed=False\n",
    "while not completed:\n",
    "    completed=True\n",
    "    for style in tqdm(styles['style']):\n",
    "        if style not in architects_by_style or 'style' not in architects_by_style[style] or 'period' not in architects_by_style[style]['style']:\n",
    "            try:\n",
    "                print(f\"Query {style}\")\n",
    "                completion = openai.ChatCompletion.create(\n",
    "                    model=\"gpt-3.5-turbo\",\n",
    "                    messages=[{\"role\": \"user\", \"content\": f'What is the time range, period, description, characteristics, examples, continent, and country of the \"{style}\" architecture style as JSON'}]\n",
    "                )\n",
    "                reply = completion.choices[0].message.content\n",
    "                try:\n",
    "                    if style not in architects_by_style: architects_by_style[style]={}\n",
    "                    architects_by_style[style]['style']=json.loads(reply)\n",
    "                except:\n",
    "                    print(f\"Error decoding {style}\")\n",
    "                    print(reply)\n",
    "                    architects_by_style[style]['reply2']=reply\n",
    "                with open(\"datasets/architect_styles.json\", 'tw') as fo:\n",
    "                    json.dump(architects_by_style, fo, indent=4, ensure_ascii=False)\n",
    "                completed=False\n",
    "            except:\n",
    "                print(f\"Error processing {style}\")\n",
    "        else:\n",
    "            pass; # print(f\"Skip {style}\")"
   ]
  },
  {
   "cell_type": "code",
   "execution_count": null,
   "metadata": {},
   "outputs": [],
   "source": [
    "completed=False\n",
    "while not completed:\n",
    "    completed=True\n",
    "    for style in tqdm(styles['style']):\n",
    "        if style not in architects_by_style or 'terms' not in architects_by_style[style]:\n",
    "            try:\n",
    "                print(f\"Query {style}\")\n",
    "                completion = openai.ChatCompletion.create(\n",
    "                    model=\"gpt-3.5-turbo\",\n",
    "                    messages=[{\"role\": \"user\", \"content\": f'summarize \"{style}\" architecture style with nouns and adjectives separated by ,'}]\n",
    "                )\n",
    "                reply = completion.choices[0].message.content\n",
    "                try:\n",
    "                    if style not in architects_by_style: architects_by_style[style]={}\n",
    "                    architects_by_style[style]['terms']=reply\n",
    "                except:\n",
    "                    print(f\"Error decoding {style}\")\n",
    "                    print(reply)\n",
    "                with open(\"datasets/architect_styles.json\", 'tw') as fo:\n",
    "                    json.dump(architects_by_style, fo, indent=4, ensure_ascii=False)\n",
    "                completed=False\n",
    "            except:\n",
    "                print(f\"Error processing {style}\")\n",
    "        else:\n",
    "            pass; # print(f\"Skip {style}\")"
   ]
  },
  {
   "cell_type": "code",
   "execution_count": null,
   "metadata": {},
   "outputs": [],
   "source": [
    "def query_character(style,i):\n",
    "    try:\n",
    "        if i % 2 ==0:\n",
    "            completion = openai.ChatCompletion.create(\n",
    "                model=\"gpt-3.5-turbo\",#model=\"gpt-4\",\n",
    "                messages=[{\"role\": \"user\", \"content\": f'List the 10 nouns that characterize the \"{style}\" architecture style as JSON'}],\n",
    "                request_timeout=20.0\n",
    "            )\n",
    "        else:\n",
    "            completion = openai.ChatCompletion.create(\n",
    "                model=\"gpt-3.5-turbo\",#model=\"gpt-4\",\n",
    "                messages=[{\"role\": \"user\", \"content\": f'List the 10 adjectives that characterize the \"{style}\" architecture style as JSON'}],\n",
    "                request_timeout=20.0\n",
    "            )\n",
    "        reply = completion.choices[0].message.content\n",
    "        res=json.loads(reply)\n",
    "        if isinstance(res, dict) and len(res)==1: res=list(res.values())[0]\n",
    "        elif isinstance(res, dict) and len(res)>1: res=list(res.values())\n",
    "        if isinstance(res, list):\n",
    "            return res + [\"c\"]\n",
    "        else:\n",
    "            return [\"err2\"]\n",
    "    except Exception as e:\n",
    "        return [\"err1\"]\n",
    "\n",
    "completed=False\n",
    "while not completed:\n",
    "    completed=True\n",
    "    for style in tqdm(styles['style']):\n",
    "        if style not in architects_by_style or 'termsV2' not in architects_by_style[style]:\n",
    "            print(f\"Query {style}\")\n",
    "            characterset=Counter()\n",
    "            for res in pool.starmap(query_character, [(style,i) for i in range(20)], chunksize=1):\n",
    "                try:\n",
    "                    characterset.update(res)\n",
    "                except Exception as e:\n",
    "                    characterset.update([\"err3\"])\n",
    "            architects_by_style[style]['termsV2']=dict(characterset)\n",
    "            with open(\"datasets/architect_styles.json\", 'tw') as fo:\n",
    "                json.dump(architects_by_style, fo, indent=4, ensure_ascii=False)\n",
    "            completed=False"
   ]
  },
  {
   "cell_type": "code",
   "execution_count": null,
   "metadata": {},
   "outputs": [],
   "source": [
    "completed=False\n",
    "while not completed:\n",
    "    completed=True\n",
    "    for style in tqdm(styles['style']):\n",
    "        if style not in architects_by_style or 'character' not in architects_by_style[style]:\n",
    "            try:\n",
    "                print(f\"Query {style}\")\n",
    "                completion = openai.ChatCompletion.create(\n",
    "                    model=\"gpt-3.5-turbo\",\n",
    "                    messages=[{\"role\": \"user\", \"content\": f'List as bullet points the top 3 characteristic elements of the \"{style}\" architecture style as JSON'}]\n",
    "                )\n",
    "                reply = completion.choices[0].message.content\n",
    "                try:\n",
    "                    if style not in architects_by_style: architects_by_style[style]={}\n",
    "                    architects_by_style[style]['character']=json.loads(reply)\n",
    "                except:\n",
    "                    print(f\"Error decoding {style}\")\n",
    "                    print(reply)\n",
    "                with open(\"datasets/architect_styles.json\", 'tw') as fo:\n",
    "                    json.dump(architects_by_style, fo, indent=4, ensure_ascii=False)\n",
    "                completed=False\n",
    "            except:\n",
    "                print(f\"Error processing {style}\")\n",
    "        else:\n",
    "            pass; # print(f\"Skip {style}\")"
   ]
  },
  {
   "cell_type": "code",
   "execution_count": null,
   "metadata": {},
   "outputs": [],
   "source": [
    "completed=False\n",
    "while not completed:\n",
    "    completed=True\n",
    "    for style in tqdm(styles['style']):\n",
    "        if style not in architects_by_style or 'short' not in architects_by_style[style]:\n",
    "            try:\n",
    "                print(f\"Query {style}\")\n",
    "                completion = openai.ChatCompletion.create(\n",
    "                    model=\"gpt-3.5-turbo\",\n",
    "                    messages=[{\"role\": \"user\", \"content\": f'summarize \"{style}\" architecture style in less than 150 characters'}]\n",
    "                )\n",
    "                reply = completion.choices[0].message.content\n",
    "                try:\n",
    "                    if style not in architects_by_style: architects_by_style[style]={}\n",
    "                    architects_by_style[style]['short']=reply\n",
    "                except:\n",
    "                    print(f\"Error decoding {style}\")\n",
    "                    print(reply)\n",
    "                with open(\"datasets/architect_styles.json\", 'tw') as fo:\n",
    "                    json.dump(architects_by_style, fo, indent=4, ensure_ascii=False)\n",
    "                completed=False\n",
    "            except:\n",
    "                print(f\"Error processing {style}\")\n",
    "        else:\n",
    "            pass; # print(f\"Skip {style}\")"
   ]
  },
  {
   "cell_type": "code",
   "execution_count": null,
   "metadata": {},
   "outputs": [],
   "source": [
    "completed=False\n",
    "while not completed:\n",
    "    completed=True\n",
    "    for style in tqdm(styles['style']):\n",
    "        if style not in architects_by_style or 'significance' not in architects_by_style[style]:\n",
    "            try:\n",
    "                print(f\"Query {style}\")\n",
    "                completion = openai.ChatCompletion.create(\n",
    "                    model=\"gpt-3.5-turbo\",\n",
    "                    messages=[{\"role\": \"user\", \"content\": f'was the \"{style}\" architecture style significant on a scale 1 to 10 as JSON'}]\n",
    "                )\n",
    "                reply = completion.choices[0].message.content\n",
    "                try:\n",
    "                    if style not in architects_by_style: architects_by_style[style]={}\n",
    "                    architects_by_style[style]['significance']=json.loads(reply)\n",
    "                    with open(\"datasets/architect_styles.json\", 'tw') as fo:\n",
    "                        json.dump(architects_by_style, fo, indent=4, ensure_ascii=False)\n",
    "                    completed=False\n",
    "                except:\n",
    "                    print(f\"Error decoding {style}\")\n",
    "                    print(reply)\n",
    "                    architects_by_style[style]['significance']=-1\n",
    "            except:\n",
    "                print(f\"Error processing {style}\")\n",
    "                architects_by_style[style]['significance']=-1\n",
    "        else:\n",
    "            pass; # print(f\"Skip {style}\")"
   ]
  },
  {
   "cell_type": "code",
   "execution_count": null,
   "metadata": {},
   "outputs": [],
   "source": [
    "poemcnt=3\n",
    "if generate_poems:\n",
    "    completed=False\n",
    "    while not completed:\n",
    "        completed=True\n",
    "        for style in tqdm(styles['style']):\n",
    "            if \"selected\" not in architects_by_style[style] or not architects_by_style[style][\"selected\"]: continue\n",
    "            if 'poems' not in architects_by_style[style]: architects_by_style[style]['poems']=[]\n",
    "            while len(architects_by_style[style]['poems'])<poemcnt:\n",
    "                try:\n",
    "                    print(f\"Query {style}\")\n",
    "                    completion = openai.ChatCompletion.create(\n",
    "                        model=\"gpt-3.5-turbo\",\n",
    "                        messages=[{\"role\": \"user\", \"content\": f'write a short poem describing the \"{style}\" architecture style without using the words \"'+'\" or \"'.join(style.split())+'\"'}]\n",
    "                    )\n",
    "                    reply = completion.choices[0].message.content\n",
    "                    if style not in reply:# and not any([(s in reply) for s in style.split()]):\n",
    "                        try:\n",
    "                            if 'poems' not in architects_by_style[style]: architects_by_style[style]['poems']=[]\n",
    "                            architects_by_style[style]['poems'].append(reply)\n",
    "                            completed=False\n",
    "                        except Exception as e:\n",
    "                            print(f\"Error decoding {style}\", e)\n",
    "                            print(reply)\n",
    "                except Exception as e:\n",
    "                    print(f\"Error processing {style}\", e)\n",
    "            with open(\"datasets/architect_styles.json\", 'tw') as fo:\n",
    "                json.dump(architects_by_style, fo, indent=4, ensure_ascii=False)"
   ]
  },
  {
   "cell_type": "code",
   "execution_count": null,
   "metadata": {},
   "outputs": [],
   "source": [
    "pool.terminate()"
   ]
  },
  {
   "cell_type": "markdown",
   "metadata": {},
   "source": [
    "## Validate Data"
   ]
  },
  {
   "cell_type": "code",
   "execution_count": null,
   "metadata": {},
   "outputs": [],
   "source": [
    "# load list of architects from wikipedia\n",
    "# https://en.wikipedia.org/wiki/List_of_architects\n",
    "architects=pd.read_csv('datasets/architects.csv', header=None)"
   ]
  },
  {
   "cell_type": "code",
   "execution_count": null,
   "metadata": {},
   "outputs": [],
   "source": [
    "for style in set(architects_by_style.keys())-set(styles['style']):\n",
    "    print(f\"Remove {style} styles\")\n",
    "    del architects_by_style[style]"
   ]
  },
  {
   "cell_type": "code",
   "execution_count": null,
   "metadata": {},
   "outputs": [],
   "source": [
    "for k, v in architects_by_style.items():\n",
    "    if 'name' not in v: v['name']=k\n",
    "    if 'architects' not in v: print(\"MISSING architects\", k)\n",
    "    for a in v['architects']:\n",
    "        if 'name' not in a: print(\"MISSING architect name\", k, a)\n",
    "        if 'valid' not in a: print(\"MISSING architect validation\", k, a['name'])\n",
    "        elif isinstance(a['valid'], list) and any([c!=\"No\" and c!=\"Yes\" for c in a['valid']]):\n",
    "            print(f\"Error validation for {k}/{a['name']}\")\n",
    "        elif isinstance(a['valid'], list) and len(a['valid'])!=3:\n",
    "            print(f\"Incomplete validation for {k}/{a['name']}\")\n",
    "        elif isinstance(a['valid'], list):\n",
    "            a['valid']=sum([1 if (c==\"Yes\") else 0 for c in a['valid']])/3\n",
    "    if 'significance' not in v: print(\"MISSING significance\", k)\n",
    "    else:\n",
    "        try:\n",
    "            if isinstance(v['significance'],str):\n",
    "                v['significance']=json.loads(v['significance'])\n",
    "            elif isinstance(v['significance'],dict):\n",
    "                if \"score\" in v['significance']: v['significance']=v['significance']['score']\n",
    "                if \"scale\" in v['significance']: v['significance']=v['significance']['scale']\n",
    "                if \"rating\" in v['significance']: v['significance']=v['significance']['rating']\n",
    "        except:\n",
    "            pass; #del v['significance']\n",
    "    if 'terms' not in v: print(\"MISSING terms\", k)\n",
    "    else:\n",
    "        if ':' in v['terms'] or '\\n' in v['terms']: v['terms']=v['terms'].replace('Nouns:','').replace('Adjectives:','').replace('\\n','')\n",
    "    if 'style' not in v: print(\"MISSING style\", k)\n",
    "    else:\n",
    "        s=v['style']\n",
    "        if 'quality' not in s: print(\"MISSING style quality\", k, s)\n",
    "        if 'existence' not in s: print(\"MISSING existence\", k, s)\n",
    "        if 'example_quality' not in s: print(\"MISSING example_quality\", k, s)\n",
    "        if 'example_validity' not in s: print(\"MISSING example_validity\", k, s)\n",
    "        else: \n",
    "            for ek in s['example_validity'].keys():\n",
    "                ev=s['example_validity'][ek]\n",
    "                if isinstance(ev, list) and any([c!=\"No\" and c!=\"Yes\" for c in ev]):\n",
    "                    print(f\"Error example validation for {k}/{ek}\")\n",
    "                elif isinstance(ev, list) and len(ev)!=3:\n",
    "                    print(f\"Incomplete validation for {k}/{ek}\")\n",
    "                elif isinstance(ev, list):\n",
    "                    s['example_validity'][ek]=sum([1 if (c==\"Yes\") else 0 for c in ev])/3\n",
    "        if 'time_range' not in s: print(\"MISSING time_range\", k)\n",
    "        if 'period' not in s: print(\"MISSING period\", k)\n",
    "        if 'description' not in s: print(\"MISSING description\", k)\n",
    "        if 'characteristics' not in s: print(\"MISSING characteristics\", k)\n",
    "        else:\n",
    "            if isinstance(s['characteristics'],str): \n",
    "                print(\"Characteristics should be a list\", k)\n",
    "                s['characteristics']=s['characteristics'].split(',')\n",
    "        if 'examples' not in s: print(\"MISSING examples\", k)\n",
    "        else:\n",
    "            if isinstance(s['examples'],str) and ',' in s['examples']: \n",
    "                print(\"Examples should be a list\", k)\n",
    "                s['examples']=s['examples'].split(',')\n",
    "        if 'continent' not in s: print(\"MISSING continent\", k)\n",
    "        else:\n",
    "            if isinstance(s['continent'],str) and ',' in s['continent']: \n",
    "                print(\"Continent should be a list\", k)\n",
    "                s['continent']=s['continent'].split(',')\n",
    "        if 'country' not in s: print(\"MISSING country\", k)\n",
    "        else:\n",
    "            if isinstance(s['country'],str) and ',' in s['country']: \n",
    "                print(\"Country should be a list\", k)\n",
    "                s['country']=s['country'].split(',')\n",
    "        if 'country' not in s: print(\"MISSING country\", k)\n",
    "    if 'valid' not in v: print(\"MISSING valid\", k)\n",
    "    elif isinstance(v['valid'], list) and any([c!=\"No\" and c!=\"Yes\" for c in v['valid']]):\n",
    "        print(f\"Error validation for {k}\")\n",
    "    elif isinstance(v['valid'], list) and len(v['valid'])!=3:\n",
    "        print(f\"Incomplete validation for {k}\")\n",
    "    elif isinstance(v['valid'], list):\n",
    "        v['valid']=sum([1 if (c==\"Yes\") else 0 for c in v['valid']])"
   ]
  },
  {
   "cell_type": "code",
   "execution_count": null,
   "metadata": {},
   "outputs": [],
   "source": [
    "for index, row in styles.iterrows():\n",
    "    style=row['style']\n",
    "    architects_by_style[style]['Start_Year']=row['Start_Year']\n",
    "    architects_by_style[style]['End_Year']=row['End_Year']"
   ]
  },
  {
   "cell_type": "code",
   "execution_count": null,
   "metadata": {},
   "outputs": [],
   "source": [
    "for fn in os.listdir('assets/icons120'):\n",
    "    if fn.endswith(\".png\"):\n",
    "        name=fn.replace('.png', '').replace('_', ' ').title()\n",
    "        if name in architects_by_style:\n",
    "            architects_by_style[name][\"icon\"]=fn\n",
    "        else:\n",
    "            print(f\"Missing style for icon {name}\")"
   ]
  },
  {
   "cell_type": "code",
   "execution_count": null,
   "metadata": {},
   "outputs": [],
   "source": [
    "with open(\"datasets/architect_styles.json\", 'tw') as fo:\n",
    "    json.dump(architects_by_style, fo, indent=4, ensure_ascii=False)"
   ]
  },
  {
   "cell_type": "markdown",
   "metadata": {},
   "source": [
    "## Subselect"
   ]
  },
  {
   "cell_type": "code",
   "execution_count": null,
   "metadata": {},
   "outputs": [],
   "source": [
    "topstyles=styles.sort_values(by=\"google\",ascending=False).groupby('continent').head(5).reset_index(drop=True).sort_values(by=\"google\",ascending=False)\n",
    "topstyles"
   ]
  },
  {
   "cell_type": "code",
   "execution_count": null,
   "metadata": {},
   "outputs": [],
   "source": [
    "fig = px.bar(topstyles, x='style', y='google', facet_col=\"continent\")#, text=styles['style'], textangle=90, textposition='outside',textfont={'family':\"Courier New, monospace\",\"size\":18, \"color\":\"RebeccaPurple\"})\n",
    "#fig.update_layout( autosize=False, width=800, height=800)\n",
    "fig.show()"
   ]
  },
  {
   "cell_type": "code",
   "execution_count": null,
   "metadata": {},
   "outputs": [],
   "source": []
  },
  {
   "cell_type": "code",
   "execution_count": null,
   "metadata": {},
   "outputs": [],
   "source": [
    "selstyleslist=[vv for v in selstylesmap.values() for vv in v]\n",
    "selstylesset=set(selstyleslist)\n",
    "selstyles=styles[styles['style'].isin(selstylesset)]"
   ]
  },
  {
   "cell_type": "code",
   "execution_count": null,
   "metadata": {},
   "outputs": [],
   "source": [
    "print(\"Missing selected styles\", selstylesset-set(styles['style']), \" of \", len(selstylesset))"
   ]
  },
  {
   "cell_type": "code",
   "execution_count": null,
   "metadata": {},
   "outputs": [],
   "source": [
    "for area, stylesA in selstylesmap.items():\n",
    "    for styleA in stylesA:\n",
    "        architects_by_style[styleA][\"selected\"]=True\n",
    "        architects_by_style[styleA][\"style_area\"]=area"
   ]
  },
  {
   "cell_type": "code",
   "execution_count": null,
   "metadata": {},
   "outputs": [],
   "source": [
    "architects_by_style_sub={k:architects_by_style[k] for v in selstylesmap.values() for k in v} #  and \"icon\" in architects_by_style[k]"
   ]
  },
  {
   "cell_type": "code",
   "execution_count": null,
   "metadata": {},
   "outputs": [],
   "source": [
    "with open(\"datasets/architect_styles_sub.json\", 'tw') as fo:\n",
    "    json.dump(architects_by_style_sub, fo, indent=4, ensure_ascii=False)"
   ]
  },
  {
   "cell_type": "code",
   "execution_count": null,
   "metadata": {},
   "outputs": [],
   "source": [
    "with open(\"datasets/architect_styles.json\", 'tw') as fo:\n",
    "    json.dump(architects_by_style, fo, indent=4, ensure_ascii=False)"
   ]
  },
  {
   "cell_type": "code",
   "execution_count": null,
   "metadata": {},
   "outputs": [],
   "source": [
    "len(architects_by_style_sub)"
   ]
  },
  {
   "cell_type": "code",
   "execution_count": null,
   "metadata": {},
   "outputs": [],
   "source": [
    "styles_sub=styles[styles['style'].isin(architects_by_style_sub.keys())]"
   ]
  },
  {
   "cell_type": "code",
   "execution_count": null,
   "metadata": {},
   "outputs": [],
   "source": [
    "icons=[fn.replace('.png', '').replace('_', ' ').title() for fn in os.listdir('assets/icons120') if fn.endswith(\".png\")]\n",
    "for style in styles_sub['style']:\n",
    "    if style not in icons:\n",
    "        print(f\"Missing icon for style {style}\")"
   ]
  },
  {
   "cell_type": "code",
   "execution_count": null,
   "metadata": {},
   "outputs": [],
   "source": [
    "def dots(v):\n",
    "    if v==1.0: return '\\\\Dbbb'\n",
    "    if v>=0.66: return '\\\\Dbb'\n",
    "    if v>=0.33: return '\\\\Db'\n",
    "    if v<0: return 'ERR'\n",
    "    else: return '\\\\Dnb'\n",
    "\n",
    "oarea=\"\"\n",
    "out=\"\"\n",
    "for style, sinfo in architects_by_style_sub.items():\n",
    "    #if style == 'Mesoamerican': continue\n",
    "    archC,archQ=0,0\n",
    "    for arch in sinfo['architects']:\n",
    "        archC+=arch['valid']\n",
    "        archQ+=arch['quality']\n",
    "    archC/=len(sinfo['architects'])\n",
    "    archQ/=len(sinfo['architects'])\n",
    "    archE=sum(sinfo['style']['example_validity'].values())/len(sinfo['style']['example_validity'])/3\n",
    "    styleC=sinfo['valid']\n",
    "    styleC2=sinfo['valid2']\n",
    "    #print(f\"{style} & {styleC: .0%} & {sinfo['style']['quality']: .0%} & {archC: .0%} & {sinfo['style']['quality']: .0%} & {archE: .0%} & {sinfo['style']['example_quality']: .0%} \\\\\\\\\".replace(\"%\",\"\\,\\%\"))\n",
    "    area=sinfo['style_area'].replace('&','\\\\&') if sinfo['style_area'].replace('&','\\\\&') != oarea else '         '\n",
    "    oarea=sinfo['style_area'].replace('&','\\\\&')\n",
    "    out+=f\"{area} & {style} & {sinfo['Start_Year']} & {sinfo['End_Year']} & {dots(styleC)} & {dots(sinfo['style']['existence'])} & {dots(styleC2)} & {dots(sinfo['style']['quality'])} & {dots(archC)} & {dots(archQ)} & {dots(archE)} & {dots(sinfo['style']['example_quality'])} \\\\\\\\\\n\"\n",
    "with open(\"datasets/style_quality.tex\", 'tw') as fo:\n",
    "    fo.write(out)"
   ]
  },
  {
   "cell_type": "markdown",
   "metadata": {},
   "source": [
    "# Cache poems"
   ]
  },
  {
   "cell_type": "code",
   "execution_count": null,
   "metadata": {},
   "outputs": [],
   "source": [
    "# Create voice lines for each line in a poem with ElevenLabs.\n",
    "# To run set:\n",
    "# - generate_poems=True \n",
    "# - the `ELEVEN_API_KEY` environmental variable and \n",
    "# - `<YOUR_VOICE_PROFILE>` in the L16 below\n",
    "if generate_poems:\n",
    "  for style, sinfo in architects_by_style_sub.items():\n",
    "    if \"poems\" in sinfo:\n",
    "      os.makedirs(os.path.join(\"assets\", \"poems\", style), exist_ok=True)\n",
    "      for poem in sinfo['poems']:\n",
    "        poemhash=str(uuid.uuid3(uuid.NAMESPACE_X500, poem)) # compute hash for poem\n",
    "        for i, para in enumerate(poem.split(\"\\n\\n\")):\n",
    "          fn=os.path.join(\"assets\", \"poems\", style, poemhash+\"_\"+str(i))\n",
    "          if not os.path.exists(fn+\".mp3\"):\n",
    "            print(f\"Query {fn}\")\n",
    "            audio = generate( text=para, voice=\"<YOUR_VOICE_PROFILE>\", model=\"eleven_multilingual_v2\")\n",
    "            if audio: save(audio, fn+\".mp3\")"
   ]
  },
  {
   "cell_type": "markdown",
   "metadata": {},
   "source": [
    "## Midjourney query generator"
   ]
  },
  {
   "cell_type": "code",
   "execution_count": null,
   "metadata": {},
   "outputs": [],
   "source": [
    "#from PIL import Image\n",
    "ignorestyle=set()\n",
    "for style, sinfo in architects_by_style_sub.items():\n",
    "    os.makedirs(f\"examples/{style}\", exist_ok=True)\n",
    "    for fn in os.listdir(f\"examples/{style}\"):\n",
    "        if fn.endswith(\".png\"):\n",
    "#            im = Image.open(f\"examples/{style}/\"+fn)\n",
    "#            im.load()\n",
    "#            print(fn, im.info['meta_to_read'])\n",
    "            ignorestyle.add(style)"
   ]
  },
  {
   "cell_type": "code",
   "execution_count": null,
   "metadata": {},
   "outputs": [],
   "source": [
    "# Based on this configuration different prompts are generated\n",
    "addarchitects=True\n",
    "addterms=False\n",
    "addterms2=True\n",
    "addartstyle=True\n",
    "artstyle=\", real photography, taken on a Canon EOS R5, shot on kodak portra 200, film grain\""
   ]
  },
  {
   "cell_type": "code",
   "execution_count": null,
   "metadata": {},
   "outputs": [],
   "source": [
    "queries=[]\n",
    "for style, sinfo in architects_by_style_sub.items():\n",
    "    if style in ignorestyle: continue\n",
    "    os.makedirs(f\"assets/style_generated/{style}\", exist_ok=True)\n",
    "    query=f\"building in '{style}' architecture style\"\n",
    "    for arch in sinfo['architects']:\n",
    "        queryA= query + ' by '+ arch['name']\n",
    "        if addterms: queryA+='::2, '+sinfo['terms'].replace('  ',' ')\n",
    "        if addterms2: queryA+='::2, '+sinfo['terms'].replace(',',' ').replace('  ',' ')\n",
    "        if addartstyle: queryA+=artstyle\n",
    "        queries.append(queryA)\n",
    "    if addterms: query+=':2, '+sinfo['terms'].replace('  ',' ')\n",
    "    if addterms2: query+=':2, '+sinfo['terms'].replace(',',' ').replace('  ',' ')\n",
    "    if addartstyle: query+=artstyle\n",
    "    queries.append(query)\n",
    "    query=f\"simple white icon of a building in '{style}' architecture style with black background::2\"\n",
    "    queries.append(query)\n",
    "    if addterms: query+=', '+sinfo['terms'].replace('  ',' ')\n",
    "    if addterms2: query+=', '+sinfo['terms'].replace(',',' ').replace('  ',' ')\n",
    "    queries.append(query)"
   ]
  },
  {
   "cell_type": "code",
   "execution_count": null,
   "metadata": {},
   "outputs": [],
   "source": [
    "pd.DataFrame(queries).to_csv(\"datasets/midjourney_queries.csv\", index=False, quoting=3, header=False, sep=\";\", escapechar=\"\\\\\")"
   ]
  },
  {
   "cell_type": "markdown",
   "metadata": {},
   "source": [
    "## Compute Semantic Similarity"
   ]
  },
  {
   "cell_type": "code",
   "execution_count": null,
   "metadata": {},
   "outputs": [],
   "source": [
    "figfmt='svg' # None\n",
    "figw = 650\n",
    "figh = 600\n",
    "figm = dict(l=10, r=10, b=10, t=10, pad=4)\n",
    "figm=dict(l=10, r=10, b=10, t=10, pad=4)\n",
    "figmT=dict(l=10, r=10, b=10, t=30, pad=4)\n",
    "figlBC=dict(orientation=\"h\")\n",
    "figlBR=dict(orientation=\"h\", yanchor=\"bottom\", y=0.01, xanchor=\"right\", x=0.99)\n",
    "figlTL=dict(orientation=\"h\", yanchor=\"top\", y=0.99, xanchor=\"left\", x=0.01)\n",
    "figlTC=dict(orientation=\"h\", yanchor=\"top\", y=0.99)\n",
    "figfnt=dict(size=12)\n",
    "ccscale = [\"#E5ECF5\", \"Purple\"] ##512A8C\n",
    "ccscale = [\"#E5ECF5\", plotly.colors.carto.Bold[0]]"
   ]
  },
  {
   "cell_type": "code",
   "execution_count": null,
   "metadata": {},
   "outputs": [],
   "source": [
    "# cleanup terms\n",
    "for styleA, istyleA in architects_by_style_sub.items():\n",
    "    lc=Counter()\n",
    "    for c,v in istyleA[\"termsV2\"].items():\n",
    "        c=c.capitalize()\n",
    "        if c not in {\"C\",\"Err0\",\"Err1\",\"Err2\",\"True\"}:\n",
    "            c=c.replace(\"Temples\",\"Temple\")\n",
    "            c=c.replace(\"Palaces\",\"Palace\")\n",
    "            c=c.replace(\"Columns\",\"Column\")\n",
    "            c=c.replace(\"Courtyards\",\"Courtyard\")\n",
    "            c=c.replace(\"Pyramids\",\"Pyramid\")\n",
    "            c=c.replace(\"Domes\",\"Dome\")\n",
    "            c=c.replace(\"Gardens\",\"Garden\")\n",
    "            c=c.replace(\"Pilasters\",\"Pilaster\")\n",
    "            c=c.replace(\"Curves\",\"Curve\")\n",
    "            c=c.replace(\"Arches\",\"Arche\")\n",
    "            c=c.replace(\"Minarets\",\"Minaret\")\n",
    "            c=c.replace(\"Pillars\",\"Pillar\")\n",
    "            lc.update({c:v})\n",
    "    istyleA[\"termsV2\"]=lc"
   ]
  },
  {
   "cell_type": "code",
   "execution_count": null,
   "metadata": {},
   "outputs": [],
   "source": [
    "similarity=[]\n",
    "similarityM=[]\n",
    "termssim=[]\n",
    "similarityL=[styleA for styleA, istyleA in architects_by_style_sub.items()]\n",
    "termsAll=Counter()\n",
    "for styleA, istyleA in architects_by_style_sub.items():\n",
    "    termsAll.update(istyleA[\"termsV2\"])\n"
   ]
  },
  {
   "cell_type": "code",
   "execution_count": null,
   "metadata": {},
   "outputs": [],
   "source": [
    "for k,v in dict(termsAll.most_common(100)).items():\n",
    "    if k.endswith(\"s\"): print(k,v)"
   ]
  },
  {
   "cell_type": "code",
   "execution_count": null,
   "metadata": {},
   "outputs": [],
   "source": [
    "\n",
    "termsAll=dict(termsAll.most_common(len(similarityL)))\n",
    "termsAllS=set(termsAll.keys())\n",
    "for styleA, istyleA in architects_by_style_sub.items():\n",
    "    row=[]\n",
    "    similarityM.append(row)\n",
    "    termA=set(istyleA[\"termsV2\"].keys())\n",
    "    architects_by_style[styleA]['style_similarity']={}\n",
    "    architects_by_style[styleA]['style_similarity'][styleA]={\"unweighted\": 1.0, \"weighted\": 1.0}\n",
    "    architects_by_style_sub[styleA]['style_similarity']={}\n",
    "    architects_by_style_sub[styleA]['style_similarity'][styleA]={\"unweighted\": 1.0, \"weighted\": 1.0}\n",
    "    for styleB, istyleB in architects_by_style_sub.items():\n",
    "        if styleA!=styleB:\n",
    "            termB=set(istyleB[\"termsV2\"].keys())\n",
    "            cut=termA.intersection(termB)\n",
    "            cup=termA.union(termB)\n",
    "            # weight\n",
    "            cutw=sum([istyleA[\"termsV2\"][c] for c in cut])+sum([istyleB[\"termsV2\"][c] for c in cut])\n",
    "            cupw=sum(istyleA[\"termsV2\"].values())+sum(istyleB[\"termsV2\"].values())\n",
    "            #print(f\"Similarity '{styleA}':'{styleB}' is unweighted {len(cut)/len(cup): .0%} weighted {cutw/cupw: .0%}\")\n",
    "            similarity.append({'styleA':styleA, 'styleB':styleB, \"unweighted\": len(cut)/len(cup), \"weighted\": cutw/cupw})\n",
    "            row.append(cutw/cupw)\n",
    "            architects_by_style[styleA]['style_similarity'][styleB]={\"unweighted\": len(cut)/len(cup), \"weighted\": cutw/cupw}\n",
    "            architects_by_style_sub[styleA]['style_similarity'][styleB]={\"unweighted\": len(cut)/len(cup), \"weighted\": cutw/cupw}\n",
    "        else: row.append(0)\n",
    "    cut=termA.intersection(termsAllS)\n",
    "    for c in cut:\n",
    "        cutw=istyleA[\"termsV2\"][c]\n",
    "        termssim.append({'style':styleA, 'term':c, \"weighted\":cutw/2})\n",
    "similarity=pd.DataFrame(similarity)\n",
    "termssim=pd.DataFrame(termssim)"
   ]
  },
  {
   "cell_type": "code",
   "execution_count": null,
   "metadata": {},
   "outputs": [],
   "source": [
    "with open(\"datasets/architect_styles.json\", 'tw') as fo:\n",
    "    json.dump(architects_by_style, fo, indent=4, ensure_ascii=False)\n",
    "with open(\"datasets/architect_styles_sub.json\", 'tw') as fo:\n",
    "    json.dump(architects_by_style_sub, fo, indent=4, ensure_ascii=False)"
   ]
  }
 ],
 "metadata": {
  "kernelspec": {
   "display_name": "masdd",
   "language": "python",
   "name": "python3"
  },
  "language_info": {
   "codemirror_mode": {
    "name": "ipython",
    "version": 3
   },
   "file_extension": ".py",
   "mimetype": "text/x-python",
   "name": "python",
   "nbconvert_exporter": "python",
   "pygments_lexer": "ipython3",
   "version": "3.8.13"
  },
  "orig_nbformat": 4
 },
 "nbformat": 4,
 "nbformat_minor": 2
}
